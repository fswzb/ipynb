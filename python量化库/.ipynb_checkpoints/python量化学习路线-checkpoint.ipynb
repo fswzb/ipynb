{
 "cells": [
  {
   "cell_type": "markdown",
   "metadata": {},
   "source": [
    "python积累--pandas---使用pandas-datareader获取股票信息进行分析\n",
    "https://blog.csdn.net/zzq900503/article/details/89336989\n",
    "pandas-datareader 获取数据的python库\n",
    "\n",
    "利用pandas_datareader获取股票数据\n",
    "https://www.jianshu.com/p/638b24df9b5c\n",
    "\n",
    "三个教程\n",
    "https://www.cnblogs.com/hoaprox/tag/Python/\n",
    "\n"
   ]
  },
  {
   "cell_type": "markdown",
   "metadata": {},
   "source": [
    "我们需要一种获取一些库存数据的方法。为了使此操作更容易，您可以通过运行以下命令来安装pandas-datareader：\n",
    "\n",
    "pip install pandas-datareader\n",
    "\n",
    "您现在应该已经安装了。您可以通过运行以下命令检查这是否正确：\n",
    "\n",
    "pip freeze\n",
    "\n",
    "这会将conda环境中所有现有的Python包输出到终端。\n",
    "\n",
    "之后，您可以打开IPython REPL并运行以下代码：\n",
    "\n",
    "# import the libraries we'll need\n",
    "# pandas_datareader uses pandas under the hood\n",
    "\n",
    "In [1]: import pandas_datareader as pdr\n",
    "\n",
    "In [2]: import datetime\n",
    "\n",
    "# set a start and end date you want for your data\n",
    "In [3]: start = datetime.datetime(2010, 1, 1)\n",
    "\n",
    "In [4]: end = datetime.datetime(2017, 1, 1)\n",
    "\n",
    "# request stock pricing data about Netflix from Yahoo Finance\n",
    "In [5]: data = pdr.DataReader('NFLX', 'yahoo', start, end)\n",
    "\n",
    "In [5]: data.describe()\n",
    "Out[5]:\n",
    "              Open         High          Low        Close    Adj Close  \\\n",
    "count  1762.000000  1762.000000  1762.000000  1762.000000  1762.000000\n",
    "mean     48.994822    49.818289    48.170577    49.022988    49.022988\n",
    "std      35.372219    35.913746    34.812488    35.380533    35.380533\n",
    "min       6.960000     7.178571     6.931428     7.018571     7.018571\n",
    "25%      16.883215    17.274286    16.451429    16.916429    16.916429\n",
    "50%      37.448570    38.154286    36.959286    37.647855    37.647855\n",
    "75%      68.640715    69.236071    67.815716    68.449283    68.449283\n",
    "max     131.190002   133.270004   126.389999   130.929993   130.929993\n",
    "\n",
    "             Volume\n",
    "count  1.762000e+03\n",
    "mean   2.738449e+07\n",
    "std    2.393028e+07\n",
    "min    1.616300e+06\n",
    "25%    1.347185e+07\n",
    "50%    2.116330e+07\n",
    "75%    3.294988e+07\n",
    "max    3.155418e+08\n",
    "一旦有了该data变量，就可以继续对其进行各种分析。您还可以csv通过运行以下命令将该数据另存为文件：\n",
    "\n",
    "In [6]: data.to_csv('NFLX_data.csv')\n",
    "您也可以在IPython Notebook中进行此操作，如果您想进行更深入的分析，建议使用此工具。"
   ]
  },
  {
   "cell_type": "markdown",
   "metadata": {},
   "source": [
    "技术指标画图\n",
    "matplotlib实用程序，用于财务数据的可视化和可视化分析\n",
    "https://hub.fastgit.org/matplotlib/mplfinance\n",
    "   pip install --upgrade mplfinance\n",
    "新的mplfinance软件包（到2020年中期取代mpl-finance）。\n",
    "https://github.com/matplotlib/mplfinance\n",
    "\n",
    "pip install https://github.com/matplotlib/mplfinance/archive/master.zip\n",
    "\n",
    "另一个技术指标\n",
    "Python函数和一个关联的Jupyter笔记本，用于股票价格数据的技术分析。numpy用于计算技术指标。Matplotlib和mpl_finance用于绘制数据。\n",
    "https://hub.fastgit.org/mzyates/techindicators\n"
   ]
  },
  {
   "cell_type": "markdown",
   "metadata": {},
   "source": [
    "Funcat 将同花顺、通达信、文华财经麦语言等的公式写法移植到了 Python 中。\n",
    "基于numpy，处理数据形成指标\n",
    "https://hub.fastgit.org/cedricporter/funcat\n"
   ]
  },
  {
   "cell_type": "markdown",
   "metadata": {},
   "source": [
    "金融和金融数据科学家的最佳Python库/软件包\n",
    "https://financetrain.com/best-python-librariespackages-finance-financial-data-scientists/\n",
    "\n"
   ]
  },
  {
   "cell_type": "markdown",
   "metadata": {},
   "source": [
    "远程数据访问¶\n",
    "各种数据源获取\n",
    "https://pandas-datareader.readthedocs.io/en/latest/remote_data.html\n",
    "\n"
   ]
  },
  {
   "cell_type": "markdown",
   "metadata": {},
   "source": [
    "numpy\n",
    "参考资料\n",
    "https://docs.scipy.org/doc/numpy/reference/\n",
    "https://github.com/numpy/numpy\n",
    "讲解\n",
    "http://cs231n.github.io/python-numpy-tutorial/\n"
   ]
  },
  {
   "cell_type": "markdown",
   "metadata": {},
   "source": [
    "pandas\n",
    "参考资料\n",
    "https://docs.scipy.org/doc/numpy/reference/\n",
    "https://github.com/numpy/numpy\n",
    "讲解\n",
    "http://cs231n.github.io/python-numpy-tutorial/\n"
   ]
  },
  {
   "cell_type": "markdown",
   "metadata": {},
   "source": [
    "MatPlot\n",
    "参考资料\n",
    "https://docs.scipy.org/doc/numpy/reference/\n",
    "https://github.com/numpy/numpy\n",
    "讲解\n",
    "http://cs231n.github.io/python-numpy-tutorial/"
   ]
  },
  {
   "cell_type": "markdown",
   "metadata": {},
   "source": [
    "适用于金融的Python：时间序列分析\n",
    "https://www.mlq.ai/python-for-finance-time-series-analysis/\n",
    "\n"
   ]
  },
  {
   "cell_type": "markdown",
   "metadata": {},
   "source": [
    "【推荐收藏】倾心整理的Python量化资源大合集\n",
    "\n",
    "————————————————\n",
    "版权声明：本文为CSDN博主「Python金融量化」的原创文章，遵循CC 4.0 BY-SA版权协议，转载请附上原文出处链接及本声明。\n",
    "原文链接：https://blog.csdn.net/ndhtou222/article/details/102982653\n"
   ]
  },
  {
   "cell_type": "markdown",
   "metadata": {},
   "source": [
    "量化交易平台\n",
    "国内在线量化平台：\n",
    "\n",
    "BigQuant - 你的人工智能量化平台 - 可以无门槛地使用机器学习、人工智能开发量化策略，基于python，提供策略自动生成器\n",
    "镭矿 - 基于量化回测平台\n",
    "果仁网 - 回测量化平台\n",
    "京东量化 - 算法交易和量化回测平台\n",
    "聚宽 - 量化回测平台\n",
    "优矿 - 通联量化实验室\n",
    "Ricequant - 量化交易平台\n",
    "况客 - 基于R语言量化回测平台\n",
    "Factors - 数库多因子量化平台\n",
    "诸葛量化 - 量化交易平台\n",
    "宽狗量化 - 回测量化平台\n",
    "国外量化平台：\n",
    "\n",
    "Quantopian 研究、回测、算法众包平台\n",
    "QuantConnect 研究、回测和投资交易\n",
    "Quantstart 研究、回测和投资交易、数据科学网站\n",
    "ASC 研究、交易平台\n",
    "zulutrade 自动交易平台\n",
    "quantpedia 研究、策略平台\n",
    "algotrading101 策略研究平台\n",
    "investopedia 可以股票、外汇模拟交易的财经网站\n",
    "Amibroker 提供系统交易工具的一家公司\n",
    "AlgoTrades 股票、ETF、期货自动交易系统\n",
    "Numerai 数据工程师众包的一家对冲基金\n",
    "WealthFront 财富管理平台\n",
    "Betterment 个人投资平台\n",
    "TradeLink 量化交易平台\n",
    "ActiveQuant 基于JavaScript开源交易开发框架\n",
    "相关平台：\n",
    "\n",
    "掘金量化 - 支持C/C++、C#、MATLAB、Python和R的量化交易平台\n",
    "DigQuant - 提供基于matlab量化工具\n",
    "SmartQuant - 策略交易平台\n",
    "OpenQuant - 基于C#的开源量化回测平台\n",
    "基于图表的量化交易平台\n",
    "\n",
    "文华赢智 、TB、金字塔、MultiCharts 中国版 - 程序化交易软件、MT4、TradeStation\n",
    "Auto-Trader - 基于MATLAB的量化交易平台\n",
    "BotVS - 首家支持传统期货与股票证券与数字货币的量化平台"
   ]
  },
  {
   "cell_type": "markdown",
   "metadata": {},
   "source": [
    "史上最全Quant资源整理\n",
    "https://zhuanlan.zhihu.com/p/26179943\n",
    "\n"
   ]
  },
  {
   "cell_type": "markdown",
   "metadata": {},
   "source": []
  },
  {
   "cell_type": "markdown",
   "metadata": {},
   "source": []
  },
  {
   "cell_type": "markdown",
   "metadata": {},
   "source": []
  },
  {
   "cell_type": "markdown",
   "metadata": {},
   "source": []
  },
  {
   "cell_type": "markdown",
   "metadata": {},
   "source": []
  },
  {
   "cell_type": "markdown",
   "metadata": {},
   "source": []
  },
  {
   "cell_type": "markdown",
   "metadata": {},
   "source": []
  },
  {
   "cell_type": "markdown",
   "metadata": {},
   "source": []
  },
  {
   "cell_type": "markdown",
   "metadata": {},
   "source": []
  },
  {
   "cell_type": "markdown",
   "metadata": {},
   "source": []
  },
  {
   "cell_type": "markdown",
   "metadata": {},
   "source": []
  },
  {
   "cell_type": "markdown",
   "metadata": {},
   "source": []
  },
  {
   "cell_type": "markdown",
   "metadata": {},
   "source": []
  }
 ],
 "metadata": {
  "kernelspec": {
   "display_name": "Python 3",
   "language": "python",
   "name": "python3"
  },
  "language_info": {
   "codemirror_mode": {
    "name": "ipython",
    "version": 3
   },
   "file_extension": ".py",
   "mimetype": "text/x-python",
   "name": "python",
   "nbconvert_exporter": "python",
   "pygments_lexer": "ipython3",
   "version": "3.8.1"
  },
  "toc": {
   "base_numbering": 1,
   "nav_menu": {},
   "number_sections": true,
   "sideBar": true,
   "skip_h1_title": false,
   "title_cell": "Table of Contents",
   "title_sidebar": "Contents",
   "toc_cell": false,
   "toc_position": {},
   "toc_section_display": true,
   "toc_window_display": false
  },
  "varInspector": {
   "cols": {
    "lenName": 16,
    "lenType": 16,
    "lenVar": 40
   },
   "kernels_config": {
    "python": {
     "delete_cmd_postfix": "",
     "delete_cmd_prefix": "del ",
     "library": "var_list.py",
     "varRefreshCmd": "print(var_dic_list())"
    },
    "r": {
     "delete_cmd_postfix": ") ",
     "delete_cmd_prefix": "rm(",
     "library": "var_list.r",
     "varRefreshCmd": "cat(var_dic_list()) "
    }
   },
   "types_to_exclude": [
    "module",
    "function",
    "builtin_function_or_method",
    "instance",
    "_Feature"
   ],
   "window_display": false
  }
 },
 "nbformat": 4,
 "nbformat_minor": 4
}
