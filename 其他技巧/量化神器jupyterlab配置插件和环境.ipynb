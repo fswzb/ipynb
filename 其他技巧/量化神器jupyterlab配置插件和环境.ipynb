{
 "cells": [
  {
   "cell_type": "code",
   "execution_count": null,
   "metadata": {},
   "outputs": [],
   "source": []
  },
  {
   "cell_type": "markdown",
   "metadata": {},
   "source": [
    "量化神器jupyterlab\n",
    "JupyterLab是一个相互的开发环境，是jupyter notebook的初始化产品，集成了更多的功能，等其正式版发布，相信那时就是jupyter notebook被取代的时候。在\n",
    "做量化数据的清洗，可视化操作之前都是使用的Jupyter notebook或pycharm的数据科学功能，最近接触了一次JupyterLab后，就被它的强大和便捷所深深的吸引。\n",
    "\n",
    "安装\n",
    "pip install jupyterlab\n",
    "插件\n",
    "安装插件需要基于nodejs环境，所以安装插件前需要先安装nodejs。\n",
    "\n",
    "conda install -c conda-forge nodejs\n",
    "常用插件安装：\n",
    "\n",
    "# 目录结构显示\n",
    "jupyter labextension install @jupyterlab/toc\n",
    "\n",
    "# Voyager 数据优化浏览\n",
    "jupyter labextension install jupyterlab_voyager\n",
    "\n",
    "# Drawio 画流程图\n",
    "jupyter labextension install jupyterlab-drawio\n",
    "\n",
    "# Lantern数据绘图加强\n",
    "jupyter labextension install pylantern\n",
    "jupyter serverextension enable --py lantern\n",
    "然后你就可以开始轻松享用它的多窗口，可视化，多语言支持，可扩展性\n",
    "notebook资源推荐：首推官方资源列表[16]：https : //github.com/jupyter/jupyter/wiki/A -gallery-of-interesting-Jupyter-Notebooks\n",
    "https://nbviewer.jupyter.org/"
   ]
  }
 ],
 "metadata": {
  "kernelspec": {
   "display_name": "Python 3",
   "language": "python",
   "name": "python3"
  },
  "language_info": {
   "codemirror_mode": {
    "name": "ipython",
    "version": 3
   },
   "file_extension": ".py",
   "mimetype": "text/x-python",
   "name": "python",
   "nbconvert_exporter": "python",
   "pygments_lexer": "ipython3",
   "version": "3.8.1"
  },
  "toc": {
   "base_numbering": 1,
   "nav_menu": {},
   "number_sections": true,
   "sideBar": true,
   "skip_h1_title": false,
   "title_cell": "Table of Contents",
   "title_sidebar": "Contents",
   "toc_cell": false,
   "toc_position": {},
   "toc_section_display": true,
   "toc_window_display": false
  },
  "varInspector": {
   "cols": {
    "lenName": 16,
    "lenType": 16,
    "lenVar": 40
   },
   "kernels_config": {
    "python": {
     "delete_cmd_postfix": "",
     "delete_cmd_prefix": "del ",
     "library": "var_list.py",
     "varRefreshCmd": "print(var_dic_list())"
    },
    "r": {
     "delete_cmd_postfix": ") ",
     "delete_cmd_prefix": "rm(",
     "library": "var_list.r",
     "varRefreshCmd": "cat(var_dic_list()) "
    }
   },
   "types_to_exclude": [
    "module",
    "function",
    "builtin_function_or_method",
    "instance",
    "_Feature"
   ],
   "window_display": false
  }
 },
 "nbformat": 4,
 "nbformat_minor": 4
}
