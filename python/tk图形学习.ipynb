{
 "cells": [
  {
   "cell_type": "code",
   "execution_count": null,
   "metadata": {},
   "outputs": [],
   "source": []
  },
  {
   "cell_type": "markdown",
   "metadata": {},
   "source": [
    "tk图形学习"
   ]
  },
  {
   "cell_type": "markdown",
   "metadata": {},
   "source": [
    "创建一个根窗口\n",
    "from tkinter import *\n",
    "root = Tk()\n",
    "mainloop() # 进入消息循环"
   ]
  },
  {
   "cell_type": "markdown",
   "metadata": {},
   "source": [
    "#1.创建组件，创建组件的时候一定要指定组件所在的容器\n",
    "op1=Entry（root）\n",
    "op2=Entry（root）\n",
    "#2.需要把组件印示出来来grid，pack\n",
    "#op1.pack（ff11=BOTH）\n",
    "#op2.pack（） # 将小部件放置到主窗口中\n",
    "op1.grid（row=0，column=0）\n",
    "op2.grid（row=0，column=1）"
   ]
  },
  {
   "cell_type": "markdown",
   "metadata": {},
   "source": [
    "Python GUI之tkinter窗口视窗教程大集合（看这篇就够了）\n",
    "https://blog.csdn.net/weixin_33739541/article/details/93964322?utm_medium=distribute.pc_relevant_t0.none-task-blog-BlogCommendFromMachineLearnPai2-1.nonecase&depth_1-utm_source=distribute.pc_relevant_t0.none-task-blog-BlogCommendFromMachineLearnPai2-1.nonecase"
   ]
  },
  {
   "cell_type": "markdown",
   "metadata": {},
   "source": []
  },
  {
   "cell_type": "markdown",
   "metadata": {},
   "source": []
  },
  {
   "cell_type": "markdown",
   "metadata": {},
   "source": []
  },
  {
   "cell_type": "code",
   "execution_count": null,
   "metadata": {},
   "outputs": [],
   "source": [
    "from tkinter import *\n",
    "import re\n",
    "\n",
    "#验证输入是否合法\n",
    "#-228.12:\n",
    "# 首先是+-开头，但也可以没有符号\n",
    "# 1到多个数字\n",
    "# 可以有.，看也可以没有.\n",
    "# 1到多个数字 \n",
    "# '^[+-]?[\\d]+[.]?[\\d]*$'\n",
    "def validate_input():\n",
    "    reg = '^[+-]?[\\d]+[.]?[\\d]*$'\n",
    "    r1 = re.match(reg, op1.get())\n",
    "    r2 = re.match(reg, op2.get())\n",
    "    return r1 and r2\n",
    "\n",
    "def cmd_math(ops):\n",
    "    is_valid = validate_input()\n",
    "    if(is_valid):\n",
    "        op1_value = float(op1.get())\n",
    "        op2_value = float(op2.get())\n",
    "        if(ops == '+'):\n",
    "            res = op1_value + op2_value\n",
    "        elif(ops == '-'):\n",
    "            res = op1_value - op2_value\n",
    "        elif(ops == '*'):\n",
    "            res = op1_value * op2_value\n",
    "        elif(ops == '/'):\n",
    "            res = op1_value / op2_value\n",
    "        elif(ops == '%'):\n",
    "            res = op1_value % op2_value\n",
    "        elif(ops == '//'):\n",
    "            res = op1_value // op2_value\n",
    "        elif(ops == '**'):\n",
    "            res = op1_value ** op2_value\n",
    "        res_var.set(round(res,2))\n",
    "    else:\n",
    "        res_var.set('请输入正确的操作数')\n",
    "\n",
    "def clear():\n",
    "    op1.delete(0, END)\n",
    "    op2.delete(0, END)\n",
    "\n",
    "def calc_art():\n",
    "    ex = op_art.get()\n",
    "    if(re.match('[a-zA-Z]+', ex)):\n",
    "        res_str.set('别乱输，不能有字母')\n",
    "    else:\n",
    "        res = eval(ex)\n",
    "        res_str.set(res)\n",
    "\n",
    "root = Tk()\n",
    "\n",
    "menubar = Menu(root)\n",
    "menu1 = Menu(menubar)\n",
    "menu1.add_command(label='普通', command=lambda: f1.tkraise())\n",
    "menu1.add_command(label='文艺', command=lambda: f2.tkraise())\n",
    "menubar.add_cascade(label='模式', menu=menu1)\n",
    "root.config(menu=menubar)\n",
    "\n",
    "f2 = Frame(root)\n",
    "f2.grid(row=0, column=0, sticky='news')\n",
    "op_art = Entry(f2)\n",
    "btn_art = Button(f2, text='计算', command=calc_art)\n",
    "res_str = StringVar()\n",
    "res_str.set('计算结果显示在这里')\n",
    "label_art = Label(f2, textvariable=res_str)\n",
    "op_art.pack(fill=BOTH)\n",
    "btn_art.pack(fill=BOTH)\n",
    "label_art.pack(fill=BOTH)\n",
    "\n",
    "f1 = Frame(root)\n",
    "f1.grid(row=0, column=0, sticky='news')\n",
    "\n",
    "op1 = Entry(f1)\n",
    "op2 = Entry(f1)\n",
    "btn_add = Button(f1, text='+', padx=50, pady=10, command=lambda: cmd_math('+'))\n",
    "btn_sub = Button(f1, text='-', padx=50, pady=10, command=lambda: cmd_math('-'))\n",
    "btn_mul = Button(f1, text='*', padx=50, pady=10, command=lambda: cmd_math('*'))\n",
    "btn_div = Button(f1, text='/', padx=50, pady=10, command=lambda: cmd_math('/'))\n",
    "btn_mod = Button(f1, text='%', padx=50, pady=10, command=lambda: cmd_math('%'))\n",
    "btn_flo = Button(f1, text='//', padx=50, pady=10,\n",
    "                 command=lambda: cmd_math('//'))\n",
    "btn_exp = Button(f1, text='**', padx=50, pady=10,\n",
    "                 command=lambda: cmd_math('**'))\n",
    "btn_clr = Button(f1, text='Clear', padx=50, pady=10, command=clear)\n",
    "\n",
    "res_var = StringVar()\n",
    "res_var.set('Show result')\n",
    "result = Label(f1, textvariable=res_var, pady=50)\n",
    "\n",
    "op1.grid(row=0, column=0, columnspan=4, sticky='WE')\n",
    "op2.grid(row=1, column=0, columnspan=4, sticky='WE')\n",
    "btn_add.grid(row=2, column=0, sticky='WE')\n",
    "btn_sub.grid(row=2, column=1, sticky='WE')\n",
    "btn_mul.grid(row=2, column=2, sticky='WE')\n",
    "btn_div.grid(row=2, column=3, sticky='WE')\n",
    "btn_mod.grid(row=3, column=0, sticky='WE')\n",
    "btn_flo.grid(row=3, column=1, sticky='WE')\n",
    "btn_exp.grid(row=3, column=2, sticky='WE')\n",
    "btn_clr.grid(row=3, column=3, sticky='WE')\n",
    "result.grid(row=4, column=0, columnspan=4, sticky='WE')\n",
    "\n",
    "mainloop()\n",
    "\n",
    "#pyinstaller --onefile calc4.py\n",
    "#pyinstaller --onefile \n",
    "#  --add-binary='/System/Library/Frameworks/Tk.framework/Tk':'tk' \n",
    "#  --add-binary='/System/Library/Frameworks/Tcl.framework/Tcl':'tcl' \n",
    "# calc4.py\n"
   ]
  }
 ],
 "metadata": {
  "kernelspec": {
   "display_name": "Python 3",
   "language": "python",
   "name": "python3"
  },
  "language_info": {
   "codemirror_mode": {
    "name": "ipython",
    "version": 3
   },
   "file_extension": ".py",
   "mimetype": "text/x-python",
   "name": "python",
   "nbconvert_exporter": "python",
   "pygments_lexer": "ipython3",
   "version": "3.8.1"
  },
  "toc": {
   "base_numbering": 1,
   "nav_menu": {},
   "number_sections": true,
   "sideBar": true,
   "skip_h1_title": false,
   "title_cell": "Table of Contents",
   "title_sidebar": "Contents",
   "toc_cell": false,
   "toc_position": {},
   "toc_section_display": true,
   "toc_window_display": false
  },
  "varInspector": {
   "cols": {
    "lenName": 16,
    "lenType": 16,
    "lenVar": 40
   },
   "kernels_config": {
    "python": {
     "delete_cmd_postfix": "",
     "delete_cmd_prefix": "del ",
     "library": "var_list.py",
     "varRefreshCmd": "print(var_dic_list())"
    },
    "r": {
     "delete_cmd_postfix": ") ",
     "delete_cmd_prefix": "rm(",
     "library": "var_list.r",
     "varRefreshCmd": "cat(var_dic_list()) "
    }
   },
   "types_to_exclude": [
    "module",
    "function",
    "builtin_function_or_method",
    "instance",
    "_Feature"
   ],
   "window_display": false
  }
 },
 "nbformat": 4,
 "nbformat_minor": 4
}
