{
 "cells": [
  {
   "cell_type": "markdown",
   "metadata": {},
   "source": [
    "将代码转换为JSON格式\n",
    "\n",
    "https://github.com/taketakeyyy/code2json\n",
    "\n",
    "\n",
    "重要，在线生成vscode 的代码段\n",
    "https://snippet-generator.app/?description=&tabtrigger=&snippet=&mode=vscode\n",
    "源码 https://github.com/pawelgrzybek/snippet-generator\n",
    "description 说明\n",
    "tab trigger标签触发器\n",
    "(ctrl + i): ${1:example} "
   ]
  },
  {
   "cell_type": "markdown",
   "metadata": {},
   "source": [
    "输入要转换为JSON格式的字符串，以制作VSCode片段"
   ]
  },
  {
   "cell_type": "markdown",
   "metadata": {},
   "source": [
    "#1111111111111111将代码复制到下一个cell后运行"
   ]
  },
  {
   "cell_type": "code",
   "execution_count": 4,
   "metadata": {
    "ExecuteTime": {
     "end_time": "2020-07-02T11:53:27.756777Z",
     "start_time": "2020-07-02T11:53:27.746051Z"
    }
   },
   "outputs": [
    {
     "name": "stdout",
     "output_type": "stream",
     "text": [
      "Overwriting input.py\n"
     ]
    }
   ],
   "source": [
    "%%writefile input.py\n",
    "列表名.append('添加项')\n"
   ]
  },
  {
   "cell_type": "markdown",
   "metadata": {},
   "source": [
    "将制表符的缩进转换为n个空格，现在转换我2个空格\n",
    "python main.py input.py -tab2sp 2\n",
    "\n",
    "将n个空格的缩进转换为“ \\ t”字符串\n",
    "将4个空格转换为tab缩进\n",
    "python main.py input.py -sp2tab 4"
   ]
  },
  {
   "cell_type": "markdown",
   "metadata": {},
   "source": [
    "#22222222222运行下面的代码生成json"
   ]
  },
  {
   "cell_type": "code",
   "execution_count": 3,
   "metadata": {
    "ExecuteTime": {
     "end_time": "2020-06-28T14:55:30.405421Z",
     "start_time": "2020-06-28T14:55:30.396426Z"
    }
   },
   "outputs": [],
   "source": [
    "! python main.py input.py"
   ]
  },
  {
   "cell_type": "code",
   "execution_count": 5,
   "metadata": {
    "ExecuteTime": {
     "end_time": "2020-07-02T11:53:31.479918Z",
     "start_time": "2020-07-02T11:53:31.171277Z"
    }
   },
   "outputs": [],
   "source": [
    "!python main.py input.py -sp2tab 4"
   ]
  },
  {
   "cell_type": "markdown",
   "metadata": {
    "ExecuteTime": {
     "end_time": "2020-06-28T14:55:30.405421Z",
     "start_time": "2020-06-28T14:55:30.396426Z"
    }
   },
   "source": [
    "#333333333333333 运行 %load output.json"
   ]
  },
  {
   "cell_type": "code",
   "execution_count": null,
   "metadata": {
    "ExecuteTime": {
     "end_time": "2020-07-02T11:53:40.939438Z",
     "start_time": "2020-07-02T11:53:40.932621Z"
    }
   },
   "outputs": [],
   "source": [
    "# %load output.json\n",
    "\"列表名.append('添加项')\",\n"
   ]
  },
  {
   "cell_type": "markdown",
   "metadata": {
    "ExecuteTime": {
     "end_time": "2020-06-28T14:55:30.405421Z",
     "start_time": "2020-06-28T14:55:30.396426Z"
    }
   },
   "source": [
    "    \"列表增\": {\n",
    "        \"prefix\": [\"dan\",\"danyinhao\"],\n",
    "        \"body\": [\n",
    "         \"${1:列表名}.append('${2:添加项}')\",\n",
    "        ],\n",
    "        \"description\": \"列表增\"\n",
    "        },\n"
   ]
  },
  {
   "cell_type": "markdown",
   "metadata": {
    "ExecuteTime": {
     "end_time": "2020-06-28T14:55:30.405421Z",
     "start_time": "2020-06-28T14:55:30.396426Z"
    }
   },
   "source": [
    "    \"名字\": {\n",
    "        \"prefix\": [\"dan\",\"danyinhao\"],\n",
    "        \"body\": [\n",
    "               \"\",\n",
    "        ],\n",
    "        \"description\": \"代码说明\"\n",
    "        },\n"
   ]
  },
  {
   "cell_type": "markdown",
   "metadata": {
    "ExecuteTime": {
     "end_time": "2020-06-28T14:55:30.405421Z",
     "start_time": "2020-06-28T14:55:30.396426Z"
    }
   },
   "source": [
    "    \"名字\": {\n",
    "        \"prefix\": [\"dan\",\"danyinhao\"],\n",
    "        \"body\": [\n",
    "               \"\",\n",
    "        ],\n",
    "        \"description\": \"代码说明\"\n",
    "        },\n"
   ]
  },
  {
   "cell_type": "markdown",
   "metadata": {
    "ExecuteTime": {
     "end_time": "2020-06-28T14:55:30.405421Z",
     "start_time": "2020-06-28T14:55:30.396426Z"
    }
   },
   "source": [
    "    \"名字\": {\n",
    "        \"prefix\": [\"dan\",\"danyinhao\"],\n",
    "        \"body\": [\n",
    "               \"\",\n",
    "        ],\n",
    "        \"description\": \"代码说明\"\n",
    "        },\n"
   ]
  },
  {
   "cell_type": "markdown",
   "metadata": {
    "ExecuteTime": {
     "end_time": "2020-06-28T14:55:30.405421Z",
     "start_time": "2020-06-28T14:55:30.396426Z"
    }
   },
   "source": [
    "    \"名字\": {\n",
    "        \"prefix\": [\"dan\",\"danyinhao\"],\n",
    "        \"body\": [\n",
    "               \"\",\n",
    "        ],\n",
    "        \"description\": \"代码说明\"\n",
    "        },\n"
   ]
  },
  {
   "cell_type": "markdown",
   "metadata": {
    "ExecuteTime": {
     "end_time": "2020-06-28T14:55:30.405421Z",
     "start_time": "2020-06-28T14:55:30.396426Z"
    }
   },
   "source": [
    "    \"名字\": {\n",
    "        \"prefix\": [\"dan\",\"danyinhao\"],\n",
    "        \"body\": [\n",
    "               \"\",\n",
    "        ],\n",
    "        \"description\": \"代码说明\"\n",
    "        },\n"
   ]
  },
  {
   "cell_type": "markdown",
   "metadata": {
    "ExecuteTime": {
     "end_time": "2020-06-28T14:55:30.405421Z",
     "start_time": "2020-06-28T14:55:30.396426Z"
    }
   },
   "source": [
    "    \"名字\": {\n",
    "        \"prefix\": [\"dan\",\"danyinhao\"],\n",
    "        \"body\": [\n",
    "               \"\",\n",
    "        ],\n",
    "        \"description\": \"代码说明\"\n",
    "        },\n"
   ]
  },
  {
   "cell_type": "markdown",
   "metadata": {
    "ExecuteTime": {
     "end_time": "2020-06-28T14:55:30.405421Z",
     "start_time": "2020-06-28T14:55:30.396426Z"
    }
   },
   "source": [
    "    \"名字\": {\n",
    "        \"prefix\": [\"dan\",\"danyinhao\"],\n",
    "        \"body\": [\n",
    "               \"\",\n",
    "        ],\n",
    "        \"description\": \"代码说明\"\n",
    "        },\n"
   ]
  },
  {
   "cell_type": "markdown",
   "metadata": {
    "ExecuteTime": {
     "end_time": "2020-06-28T14:55:30.405421Z",
     "start_time": "2020-06-28T14:55:30.396426Z"
    }
   },
   "source": [
    "    \"名字\": {\n",
    "        \"prefix\": [\"dan\",\"danyinhao\"],\n",
    "        \"body\": [\n",
    "               \"\",\n",
    "        ],\n",
    "        \"description\": \"代码说明\"\n",
    "        },\n"
   ]
  },
  {
   "cell_type": "markdown",
   "metadata": {
    "ExecuteTime": {
     "end_time": "2020-06-28T14:55:30.405421Z",
     "start_time": "2020-06-28T14:55:30.396426Z"
    }
   },
   "source": [
    "    \"名字\": {\n",
    "        \"prefix\": [\"dan\",\"danyinhao\"],\n",
    "        \"body\": [\n",
    "               \"\",\n",
    "        ],\n",
    "        \"description\": \"代码说明\"\n",
    "        },\n"
   ]
  },
  {
   "cell_type": "markdown",
   "metadata": {
    "ExecuteTime": {
     "end_time": "2020-06-28T14:55:30.405421Z",
     "start_time": "2020-06-28T14:55:30.396426Z"
    }
   },
   "source": [
    "    \"名字\": {\n",
    "        \"prefix\": [\"dan\",\"danyinhao\"],\n",
    "        \"body\": [\n",
    "               \"\",\n",
    "        ],\n",
    "        \"description\": \"代码说明\"\n",
    "        },\n"
   ]
  },
  {
   "cell_type": "markdown",
   "metadata": {
    "ExecuteTime": {
     "end_time": "2020-06-28T14:55:30.405421Z",
     "start_time": "2020-06-28T14:55:30.396426Z"
    }
   },
   "source": [
    "    \"名字\": {\n",
    "        \"prefix\": [\"dan\",\"danyinhao\"],\n",
    "        \"body\": [\n",
    "               \"\",\n",
    "        ],\n",
    "        \"description\": \"代码说明\"\n",
    "        },\n"
   ]
  },
  {
   "cell_type": "markdown",
   "metadata": {
    "ExecuteTime": {
     "end_time": "2020-06-28T14:55:30.405421Z",
     "start_time": "2020-06-28T14:55:30.396426Z"
    }
   },
   "source": [
    "    \"名字\": {\n",
    "        \"prefix\": [\"dan\",\"danyinhao\"],\n",
    "        \"body\": [\n",
    "               \"\",\n",
    "        ],\n",
    "        \"description\": \"代码说明\"\n",
    "        },\n"
   ]
  },
  {
   "cell_type": "markdown",
   "metadata": {
    "ExecuteTime": {
     "end_time": "2020-06-28T14:55:30.405421Z",
     "start_time": "2020-06-28T14:55:30.396426Z"
    }
   },
   "source": [
    "    \"名字\": {\n",
    "        \"prefix\": [\"dan\",\"danyinhao\"],\n",
    "        \"body\": [\n",
    "               \"\",\n",
    "        ],\n",
    "        \"description\": \"代码说明\"\n",
    "        },\n"
   ]
  }
 ],
 "metadata": {
  "kernelspec": {
   "display_name": "Python 3",
   "language": "python",
   "name": "python3"
  },
  "language_info": {
   "codemirror_mode": {
    "name": "ipython",
    "version": 3
   },
   "file_extension": ".py",
   "mimetype": "text/x-python",
   "name": "python",
   "nbconvert_exporter": "python",
   "pygments_lexer": "ipython3",
   "version": "3.8.1"
  },
  "toc": {
   "base_numbering": 1,
   "nav_menu": {},
   "number_sections": true,
   "sideBar": true,
   "skip_h1_title": false,
   "title_cell": "Table of Contents",
   "title_sidebar": "Contents",
   "toc_cell": false,
   "toc_position": {},
   "toc_section_display": true,
   "toc_window_display": false
  },
  "varInspector": {
   "cols": {
    "lenName": 16,
    "lenType": 16,
    "lenVar": 40
   },
   "kernels_config": {
    "python": {
     "delete_cmd_postfix": "",
     "delete_cmd_prefix": "del ",
     "library": "var_list.py",
     "varRefreshCmd": "print(var_dic_list())"
    },
    "r": {
     "delete_cmd_postfix": ") ",
     "delete_cmd_prefix": "rm(",
     "library": "var_list.r",
     "varRefreshCmd": "cat(var_dic_list()) "
    }
   },
   "types_to_exclude": [
    "module",
    "function",
    "builtin_function_or_method",
    "instance",
    "_Feature"
   ],
   "window_display": false
  }
 },
 "nbformat": 4,
 "nbformat_minor": 4
}
