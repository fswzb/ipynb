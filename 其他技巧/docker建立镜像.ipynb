{
 "cells": [
  {
   "cell_type": "markdown",
   "metadata": {},
   "source": [
    "基于Debian的图形化个人Python工作站。提供VNC + SSH，带有基本工程模块的Python，Jupyter Notebook，Spyder IDE和Visual Studio Code。\n",
    "\n",
    "https://hub.fastgit.org/rwildcat/docker_debian-vnc-python"
   ]
  },
  {
   "cell_type": "markdown",
   "metadata": {},
   "source": [
    "https://hub.fastgit.org/rwildcat/docker_debian-vnc-python/blob/master/Dockerfile\n",
    "\n",
    "RUN export DEBIAN_FRONTEND=noninteractive \\\n",
    "\t&& apt-get -q update \\\n",
    "\t&& apt-get -qy upgrade \\\n",
    "\t&& apt-get install -qy \\\n",
    "\t# python2\n",
    "\t\tpython ipython python-pip \\\n",
    "\t\tpython-numpy python-matplotlib python-pandas python-scipy \\\n",
    "\t\tpython-plotly python-notebook spyder \\\n",
    "\t\tjupyter-notebook  firefox-esr \\\n",
    "\t# python3\n",
    "\t\tpython3 python3-ipython python3-pip \\\n",
    "\t\tpython3-numpy python3-matplotlib python3-pandas python3-scipy \\\n",
    "\t\tpython3-plotly python3-notebook spyder3  \\\n",
    "\t# vscode\n",
    "\t&& apt-get install -qy wget gnupg \\\n",
    "\t&& wget -q -O /tmp/vscode.deb https://go.microsoft.com/fwlink/?LinkID=760868 \\\n",
    "\t&& dpkg -i /tmp/vscode.deb \\\n",
    "\t# cleanup\n",
    "\t&& apt-get clean \\\n",
    "\t&& rm -rf /var/lib/apt/lists/* /tmp/* \n",
    "    \n",
    "    "
   ]
  },
  {
   "cell_type": "markdown",
   "metadata": {},
   "source": []
  },
  {
   "cell_type": "markdown",
   "metadata": {},
   "source": []
  },
  {
   "cell_type": "markdown",
   "metadata": {},
   "source": []
  },
  {
   "cell_type": "markdown",
   "metadata": {},
   "source": []
  },
  {
   "cell_type": "markdown",
   "metadata": {},
   "source": []
  },
  {
   "cell_type": "markdown",
   "metadata": {},
   "source": []
  },
  {
   "cell_type": "markdown",
   "metadata": {},
   "source": []
  },
  {
   "cell_type": "markdown",
   "metadata": {},
   "source": []
  },
  {
   "cell_type": "markdown",
   "metadata": {},
   "source": []
  },
  {
   "cell_type": "markdown",
   "metadata": {},
   "source": []
  },
  {
   "cell_type": "markdown",
   "metadata": {},
   "source": []
  },
  {
   "cell_type": "markdown",
   "metadata": {},
   "source": []
  }
 ],
 "metadata": {
  "kernelspec": {
   "display_name": "Python 3",
   "language": "python",
   "name": "python3"
  },
  "language_info": {
   "codemirror_mode": {
    "name": "ipython",
    "version": 3
   },
   "file_extension": ".py",
   "mimetype": "text/x-python",
   "name": "python",
   "nbconvert_exporter": "python",
   "pygments_lexer": "ipython3",
   "version": "3.8.1"
  },
  "toc": {
   "base_numbering": 1,
   "nav_menu": {},
   "number_sections": true,
   "sideBar": true,
   "skip_h1_title": false,
   "title_cell": "Table of Contents",
   "title_sidebar": "Contents",
   "toc_cell": false,
   "toc_position": {},
   "toc_section_display": true,
   "toc_window_display": false
  },
  "varInspector": {
   "cols": {
    "lenName": 16,
    "lenType": 16,
    "lenVar": 40
   },
   "kernels_config": {
    "python": {
     "delete_cmd_postfix": "",
     "delete_cmd_prefix": "del ",
     "library": "var_list.py",
     "varRefreshCmd": "print(var_dic_list())"
    },
    "r": {
     "delete_cmd_postfix": ") ",
     "delete_cmd_prefix": "rm(",
     "library": "var_list.r",
     "varRefreshCmd": "cat(var_dic_list()) "
    }
   },
   "types_to_exclude": [
    "module",
    "function",
    "builtin_function_or_method",
    "instance",
    "_Feature"
   ],
   "window_display": false
  }
 },
 "nbformat": 4,
 "nbformat_minor": 4
}
