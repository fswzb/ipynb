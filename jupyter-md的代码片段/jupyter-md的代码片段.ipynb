{
 "cells": [
  {
   "cell_type": "markdown",
   "metadata": {},
   "source": [
    "重要，在线生成vscode 的代码段\n",
    "https://snippet-generator.app/?description=&tabtrigger=&snippet=&mode=vscode\n",
    "源码 https://github.com/pawelgrzybek/snippet-generator\n",
    "description 说明\n",
    "tab trigger标签触发器\n",
    "(ctrl + i): ${1:example} "
   ]
  },
  {
   "cell_type": "code",
   "execution_count": null,
   "metadata": {},
   "outputs": [],
   "source": [
    "maparkdown的教程\n",
    "https://www.jianshu.com/p/q81RER\n",
    "https://guides.github.com/features/mastering-markdown/"
   ]
  },
  {
   "cell_type": "markdown",
   "metadata": {},
   "source": [
    "https://blog.csdn.net/weixin_43248939/article/details/88357636"
   ]
  },
  {
   "cell_type": "markdown",
   "metadata": {},
   "source": [
    "C:\\ProgramData\\Miniconda3\\share\\jupyter\\nbextensions\\snippets"
   ]
  },
  {
   "cell_type": "markdown",
   "metadata": {},
   "source": [
    "新增片段\n",
    "通过在  `$(jupyter --data-dir)/nbextensions/snippets/snippets.json`\n",
    "中的现有片段列表中添加新的JSON块来指定片段。例如，要添加导入numpy，matplotlib和print语句的新代码段，应将JSON文件修改为：\n"
   ]
  },
  {
   "cell_type": "code",
   "execution_count": 2,
   "metadata": {
    "ExecuteTime": {
     "end_time": "2020-07-14T04:50:10.232491Z",
     "start_time": "2020-07-14T04:50:10.179505Z"
    }
   },
   "outputs": [
    {
     "name": "stderr",
     "output_type": "stream",
     "text": [
      "'`$' 不是内部或外部命令，也不是可运行的程序\n",
      "或批处理文件。\n"
     ]
    }
   ],
   "source": [
    "!`$(jupyter --data-dir)/nbextensions/snippets/snippets.json`"
   ]
  },
  {
   "cell_type": "markdown",
   "metadata": {},
   "source": [
    "{\n",
    "    \"snippets\" : [\n",
    "        {\n",
    "            \"name\" : \"example\",\n",
    "            \"code\" : [\n",
    "                \"# This is an example snippet!\",\n",
    "                \"# To create your own, add a new snippet block to the\",\n",
    "                \"# snippets.json file in your jupyter data directory under nbextensions:\",\n",
    "                \"# $(jupyter --data-dir)/nbextensions/snippets/snippets.json\",\n",
    "                \"import this\"\n",
    "            ]\n",
    "        }\n",
    "    ]\n",
    "}"
   ]
  },
  {
   "cell_type": "markdown",
   "metadata": {},
   "source": [
    "多个"
   ]
  },
  {
   "cell_type": "markdown",
   "metadata": {},
   "source": [
    "{\n",
    "    \"snippets\" : [\n",
    "        {\n",
    "            \"name\" : \"example\",\n",
    "            \"code\" : [\n",
    "                \"# This is an example snippet!\",\n",
    "                \"# To create your own, add a new snippet block to the\",\n",
    "                \"# snippets.json file in your jupyter data directory under nbextensions:\",\n",
    "                \"# $(jupyter --data-dir)/nbextensions/snippets/snippets.json\",\n",
    "                \"import this\"\n",
    "            ]\n",
    "        },\n",
    "        {\n",
    "            \"name\" : \"some imports\",\n",
    "            \"code\" : [\n",
    "                \"import numpy as np\",\n",
    "                \"import matplotlib as mpl\",\n",
    "                \"print('spam')\"\n",
    "            ]\n",
    "        }\n",
    "    ]\n",
    "}"
   ]
  },
  {
   "cell_type": "code",
   "execution_count": null,
   "metadata": {},
   "outputs": [],
   "source": []
  },
  {
   "cell_type": "code",
   "execution_count": 1,
   "metadata": {
    "ExecuteTime": {
     "end_time": "2020-07-14T03:25:13.298818Z",
     "start_time": "2020-07-14T03:25:12.786818Z"
    }
   },
   "outputs": [],
   "source": [
    "import json\n",
    "path = get_ipython().getoutput('jupyter --data-dir')\n",
    "path = \"\".join([path[0], r\"/nbextensions/snippets/snippets.json\"])\n",
    "snips = {\n",
    "    \"name\": \"爬虫_requests\",\n",
    "    \"code\": [\n",
    "        'def getHTMLText(url):',\n",
    "            '\\ttry:',\n",
    "        '\\t\\tr = requests.get(url, timeout=30)',\n",
    "        '\\t\\tr.raise_for_status()',\n",
    "        '\\t\\tr.encoding = r.apparent_encoding',\n",
    "        '\\treturn r.text',\n",
    "    '\\texcept:'\n",
    "        '\\t\\treturn \"\"'\n",
    "    ]\n",
    "}\n",
    "fr = open(path, 'r', encoding='UTF-8')\n",
    "mode = json.load(fr)\n",
    "fr.close()\n",
    "for i in range(0, len(mode['snippets'])):\n",
    "    if mode['snippets'][i]['name'] == '爬虫_requests':\n",
    "        del mode['snippets'][i]\n",
    "        break\n",
    "mode['snippets'].append(snips)\n",
    "jsObj = json.dumps(mode)\n",
    "with open(path, \"w\") as fw:\n",
    "    fw.write(jsObj)\n",
    "    fw.close()\n"
   ]
  },
  {
   "cell_type": "markdown",
   "metadata": {},
   "source": [
    "查看snippets的地址"
   ]
  },
  {
   "cell_type": "code",
   "execution_count": 3,
   "metadata": {
    "ExecuteTime": {
     "end_time": "2020-07-14T04:52:14.337235Z",
     "start_time": "2020-07-14T04:52:13.939236Z"
    }
   },
   "outputs": [
    {
     "name": "stdout",
     "output_type": "stream",
     "text": [
      "C:\\Users\\Administrator\\AppData\\Roaming\\jupyter/nbextensions/snippets/snippets.json\n"
     ]
    }
   ],
   "source": [
    "import json\n",
    "path = get_ipython().getoutput('jupyter --data-dir')\n",
    "path = \"\".join([path[0], r\"/nbextensions/snippets/snippets.json\"])\n",
    "print(path)"
   ]
  },
  {
   "cell_type": "markdown",
   "metadata": {},
   "source": [
    "json在线解析 https://www.sojson.com/simple_json.html"
   ]
  }
 ],
 "metadata": {
  "kernelspec": {
   "display_name": "Python 3",
   "language": "python",
   "name": "python3"
  },
  "language_info": {
   "codemirror_mode": {
    "name": "ipython",
    "version": 3
   },
   "file_extension": ".py",
   "mimetype": "text/x-python",
   "name": "python",
   "nbconvert_exporter": "python",
   "pygments_lexer": "ipython3",
   "version": "3.8.1"
  },
  "toc": {
   "base_numbering": 1,
   "nav_menu": {},
   "number_sections": true,
   "sideBar": true,
   "skip_h1_title": false,
   "title_cell": "Table of Contents",
   "title_sidebar": "Contents",
   "toc_cell": false,
   "toc_position": {},
   "toc_section_display": true,
   "toc_window_display": false
  },
  "varInspector": {
   "cols": {
    "lenName": 16,
    "lenType": 16,
    "lenVar": 40
   },
   "kernels_config": {
    "python": {
     "delete_cmd_postfix": "",
     "delete_cmd_prefix": "del ",
     "library": "var_list.py",
     "varRefreshCmd": "print(var_dic_list())"
    },
    "r": {
     "delete_cmd_postfix": ") ",
     "delete_cmd_prefix": "rm(",
     "library": "var_list.r",
     "varRefreshCmd": "cat(var_dic_list()) "
    }
   },
   "types_to_exclude": [
    "module",
    "function",
    "builtin_function_or_method",
    "instance",
    "_Feature"
   ],
   "window_display": false
  }
 },
 "nbformat": 4,
 "nbformat_minor": 4
}
