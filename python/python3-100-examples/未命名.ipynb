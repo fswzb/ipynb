{
 "cells": [
  {
   "cell_type": "markdown",
   "metadata": {},
   "source": [
    "# 例子1\n"
   ]
  },
  {
   "cell_type": "code",
   "execution_count": null,
   "metadata": {
    "ExecuteTime": {
     "end_time": "2020-06-22T01:06:14.229741Z",
     "start_time": "2020-06-22T01:06:11.668595Z"
    },
    "cell_style": "split",
    "run_control": {
     "marked": true
    }
   },
   "outputs": [],
   "source": [
    "# %load example6.py\n",
    "#!/usr/bin/python\n",
    "\n",
    "__author__ = 'yangdd'\n",
    "\n",
    "'''\n",
    " example 006\n",
    "'''\n",
    "\n",
    "## \n",
    "def fib(n):\n",
    "\ti,a,b = 0,1,1\n",
    "\twhile i < n:\n",
    "\t\tyield a\n",
    "\t\ta,b = b,a+b\n",
    "\t\ti+=1\n",
    "\treturn 'done'\n",
    "\n",
    "def showFib():\n",
    "\tn = int(input(\"要查看第几位数？\"))\n",
    "\tg = fib(n)\n",
    "\twhile True:\n",
    "\t\ttry:\n",
    "\t\t\tx = next(g)\n",
    "\t\t\tprint(x)\n",
    "\t\texcept StopIteration as e:\n",
    "\t\t\tprint('Generator return value:', e.value)\n",
    "\t\t\tbreak\n",
    "\n",
    "def recursionFib(n,b1=1,b2=1,c=3):\n",
    "\tif n<3:         \n",
    "\t\treturn 1     \n",
    "\telse:         \n",
    "\t\tif n==c:             \n",
    "\t\t\treturn b1+b2         \n",
    "\t\telse:             \n",
    "\t\t\treturn recursionFib(n,b1=b2,b2=b1+b2,c=c+1)\n",
    "\n",
    "def showRecursionFib():\n",
    "\tn = int(input(\"要查看第几位数？\"))\n",
    "\tprint(recursionFib(n))\n",
    "if __name__=='__main__':\n",
    "\t\n",
    "\t# 方法一\n",
    "\t#  showFib()\n",
    "\t\n",
    "\t#  方法二\n",
    "\tshowRecursionFib()"
   ]
  },
  {
   "cell_type": "code",
   "execution_count": 11,
   "metadata": {
    "ExecuteTime": {
     "end_time": "2020-06-22T01:10:11.194822Z",
     "start_time": "2020-06-22T01:10:11.183833Z"
    },
    "cell_style": "split"
   },
   "outputs": [
    {
     "name": "stdout",
     "output_type": "stream",
     "text": [
      "Writing example6.ipynb\n"
     ]
    }
   ],
   "source": [
    "\n",
    "%%writefile example6.ipynb\n",
    "\n",
    "#!/usr/bin/python\n",
    "\n",
    "__author__ = 'yangdd'\n",
    "\n",
    "'''\n",
    " example 006\n",
    "'''\n",
    "\n",
    "## \n",
    "def fib(n):\n",
    "\ti,a,b = 0,1,1\n",
    "\twhile i < n:\n",
    "\t\tyield a\n",
    "\t\ta,b = b,a+b\n",
    "\t\ti+=1\n",
    "\treturn 'done'\n",
    "\n",
    "def showFib():\n",
    "\tn = int(input(\"要查看第几位数？\"))\n",
    "\tg = fib(n)\n",
    "\twhile True:\n",
    "\t\ttry:\n",
    "\t\t\tx = next(g)\n",
    "\t\t\tprint(x)\n",
    "\t\texcept StopIteration as e:\n",
    "\t\t\tprint('Generator return value:', e.value)\n",
    "\t\t\tbreak\n",
    "\n",
    "def recursionFib(n,b1=1,b2=1,c=3):\n",
    "\tif n<3:         \n",
    "\t\treturn 1     \n",
    "\telse:         \n",
    "\t\tif n==c:             \n",
    "\t\t\treturn b1+b2         \n",
    "\t\telse:             \n",
    "\t\t\treturn recursionFib(n,b1=b2,b2=b1+b2,c=c+1)\n",
    "\n",
    "def showRecursionFib():\n",
    "\tn = int(input(\"要查看第几位数？\"))\n",
    "\tprint(recursionFib(n))\n",
    "if __name__=='__main__':\n",
    "\t\n",
    "\t# 方法一\n",
    "\t#  showFib()\n",
    "\t\n",
    "\t#  方法二\n",
    "\tshowRecursionFib()\n",
    "\n",
    "\n",
    "\n",
    "\n",
    "\n",
    "\n",
    "\n",
    "\n"
   ]
  },
  {
   "cell_type": "code",
   "execution_count": null,
   "metadata": {},
   "outputs": [],
   "source": []
  }
 ],
 "metadata": {
  "gist": {
   "data": {
    "description": "python3-100-examples/未命名.ipynb",
    "public": true
   },
   "id": ""
  },
  "kernelspec": {
   "display_name": "Python 3",
   "language": "python",
   "name": "python3"
  },
  "language_info": {
   "codemirror_mode": {
    "name": "ipython",
    "version": 3
   },
   "file_extension": ".py",
   "mimetype": "text/x-python",
   "name": "python",
   "nbconvert_exporter": "python",
   "pygments_lexer": "ipython3",
   "version": "3.8.1"
  },
  "toc": {
   "base_numbering": 1,
   "nav_menu": {},
   "number_sections": true,
   "sideBar": true,
   "skip_h1_title": false,
   "title_cell": "Table of Contents",
   "title_sidebar": "Contents",
   "toc_cell": false,
   "toc_position": {},
   "toc_section_display": true,
   "toc_window_display": false
  },
  "varInspector": {
   "cols": {
    "lenName": 16,
    "lenType": 16,
    "lenVar": 40
   },
   "kernels_config": {
    "python": {
     "delete_cmd_postfix": "",
     "delete_cmd_prefix": "del ",
     "library": "var_list.py",
     "varRefreshCmd": "print(var_dic_list())"
    },
    "r": {
     "delete_cmd_postfix": ") ",
     "delete_cmd_prefix": "rm(",
     "library": "var_list.r",
     "varRefreshCmd": "cat(var_dic_list()) "
    }
   },
   "types_to_exclude": [
    "module",
    "function",
    "builtin_function_or_method",
    "instance",
    "_Feature"
   ],
   "window_display": false
  }
 },
 "nbformat": 4,
 "nbformat_minor": 4
}
