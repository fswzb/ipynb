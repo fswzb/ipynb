{
 "cells": [
  {
   "cell_type": "markdown",
   "metadata": {},
   "source": []
  },
  {
   "cell_type": "markdown",
   "metadata": {},
   "source": [
    "https://www.cnblogs.com/zhuluqing/category/1156428.html\n",
    "PYTHON遍历并获取对象属性--DIR(),__DICT__,GETATTR,SETATTR\n",
    "一、遍历对象的属性：\n",
    "\n",
    "1.dir(obj) ：返回对象的所以属性名称字符串列表(包括属性和方法)。\n",
    "\n",
    "for attr in dir(obj):\n",
    "\n",
    "    print(attr)\n",
    "\n",
    "2.obj.__dict__：返回对象的属性名称和值键值对或者方法名称和方法对象（可以调用）键值对。\n",
    "\n",
    "dir函数和__dict__属性基本上所有的对象（模块，类）都能够使用，dir()返回的是__dict__返回的父集合。\n",
    "\n",
    "二、获取或设置属性\n",
    "\n",
    "getattr(obj,name) //返回属性值或者函数对象，如果是name是函数名称，则可以加括号调用，即getattr(obj,name)()调用函数name。\n",
    "\n",
    "setattr(obj,name,value)//相当于obj.name=value赋值语句\n",
    "\n",
    "三，遍历对象属性，然后调用函数或设置值\n",
    "\n",
    "将"
   ]
  },
  {
   "cell_type": "markdown",
   "metadata": {},
   "source": [
    "win7或win10环境DockerToolbox安装教程\n",
    "\n",
    "————————————————\n",
    "版权声明：本文为CSDN博主「csdngaoqingrui」的原创文章，遵循CC 4.0 BY-SA版权协议，转载请附上原文出处链接及本声明。\n",
    "原文链接：https://blog.csdn.net/CSDNgaoqingrui/article/details/82594844"
   ]
  },
  {
   "cell_type": "markdown",
   "metadata": {},
   "source": []
  },
  {
   "cell_type": "markdown",
   "metadata": {},
   "source": []
  },
  {
   "cell_type": "markdown",
   "metadata": {},
   "source": []
  },
  {
   "cell_type": "markdown",
   "metadata": {},
   "source": []
  },
  {
   "cell_type": "markdown",
   "metadata": {},
   "source": []
  },
  {
   "cell_type": "markdown",
   "metadata": {},
   "source": []
  },
  {
   "cell_type": "markdown",
   "metadata": {},
   "source": []
  },
  {
   "cell_type": "markdown",
   "metadata": {},
   "source": []
  },
  {
   "cell_type": "markdown",
   "metadata": {},
   "source": []
  },
  {
   "cell_type": "markdown",
   "metadata": {},
   "source": []
  }
 ],
 "metadata": {
  "kernelspec": {
   "display_name": "Python 3",
   "language": "python",
   "name": "python3"
  },
  "language_info": {
   "codemirror_mode": {
    "name": "ipython",
    "version": 3
   },
   "file_extension": ".py",
   "mimetype": "text/x-python",
   "name": "python",
   "nbconvert_exporter": "python",
   "pygments_lexer": "ipython3",
   "version": "3.8.1"
  },
  "toc": {
   "base_numbering": 1,
   "nav_menu": {},
   "number_sections": true,
   "sideBar": true,
   "skip_h1_title": false,
   "title_cell": "Table of Contents",
   "title_sidebar": "Contents",
   "toc_cell": false,
   "toc_position": {},
   "toc_section_display": true,
   "toc_window_display": false
  },
  "varInspector": {
   "cols": {
    "lenName": 16,
    "lenType": 16,
    "lenVar": 40
   },
   "kernels_config": {
    "python": {
     "delete_cmd_postfix": "",
     "delete_cmd_prefix": "del ",
     "library": "var_list.py",
     "varRefreshCmd": "print(var_dic_list())"
    },
    "r": {
     "delete_cmd_postfix": ") ",
     "delete_cmd_prefix": "rm(",
     "library": "var_list.r",
     "varRefreshCmd": "cat(var_dic_list()) "
    }
   },
   "types_to_exclude": [
    "module",
    "function",
    "builtin_function_or_method",
    "instance",
    "_Feature"
   ],
   "window_display": false
  }
 },
 "nbformat": 4,
 "nbformat_minor": 4
}
