{
 "cells": [
  {
   "cell_type": "markdown",
   "metadata": {},
   "source": [
    "Jupyter笔记本片段菜单\n",
    "==============================\n",
    "\n",
    "向Jupyter笔记本添加可自定义的菜单项以插入代码段，样板和代码示例。\n",
    "\n",
    "![Open snippets menu](screenshot1.png)\n",
    "\n",
    "此笔记本扩展会添加一个菜单项（或多个菜单项，如果在Jupyter笔记本的“帮助”菜单之后。这个新菜单包含一些我们不时忘记的小片段代码但不想谷歌，或者太懒了而无法输入，或者只是不知道对于刚开始的人们也有帮助用一种编程语言，他们需要一些有关做什么的想法下一步-\n",
    "诸如导入模块，定义变量或调用功能。新菜单带有与python相关的默认值程序设计-尤其是科学计算-\n",
    "尽管这完全用户可配置，如下所述。默认菜单名为“片段”，其中包含带有一些流行片段的子菜单python软件包，python本身以及一些笔记本降价促销。（请注意，某些菜单太大，因此必须移动左侧的一级菜单，以便较低一级的菜单适合屏幕上。如前所述，此行为也是用户可配置的详细地\n",
    "[below](#change-direction-of-sub-menus).)\n",
    "\n",
    "因此，例如，如果您正在编辑代码单元并想要导入用于笔记本的matplotlib，您只需单击“片段”菜单，然后将鼠标悬停在“\n",
    "Matplotlib”上。这将打开一个新的子菜单，带有“笔记本设置”项目。点击该项目将插入光标在您之前的位置的代码段在菜单上单击。特别是对于这个“\n",
    "matplotlib”示例，插入以下代码："
   ]
  },
  {
   "cell_type": "code",
   "execution_count": null,
   "metadata": {},
   "outputs": [],
   "source": [
    "import numpy as np\n",
    "import matplotlib as mpl\n",
    "import matplotlib.pyplot as plt\n",
    "%matplotlib inline"
   ]
  },
  {
   "cell_type": "markdown",
   "metadata": {},
   "source": [
    "插入的文本将被选中，以便您可以通过以下方式将其删除按Backspace键或Delete键，或者您可以选择另一个代码段替换它-\n",
    "只是突出显示插入的内容。请注意，许多摘录都包含以前缀的变量名bp_。例如，一个新的numpy数组被创建为“\n",
    "bp_new_array”。这些是您确实应该替换的哑巴名称。如果不这样做，可能会导致代码中的丑陋错误变量名冲突的多个样板摘要。同样，某些字符串也打算替换，例如轴地块中的标签。这些是为了向您展示可以做什么，以及提醒您在地块上贴上信息丰富的标签。如果你不这样做想要例如地块上的标题，只需删除该行。\n",
    "\n",
    "\n",
    "安装\n",
    "------------\n",
    "要单独安装此扩展（不安装[nbextensions的主要集合]\n",
    "（https://github.com/ipython-contrib/jupyter_contrib_nbextensions））\n",
    "，请从命令行运行以下命令："
   ]
  },
  {
   "cell_type": "code",
   "execution_count": null,
   "metadata": {},
   "outputs": [],
   "source": [
    "git clone git://github.com/moble/jupyter_boilerplate\n",
    "jupyter nbextension install jupyter_boilerplate\n",
    "jupyter nbextension enable jupyter_boilerplate/main"
   ]
  },
  {
   "cell_type": "markdown",
   "metadata": {},
   "source": [
    "然后，您可以根据需要禁用扩展名"
   ]
  },
  {
   "cell_type": "code",
   "execution_count": null,
   "metadata": {},
   "outputs": [],
   "source": [
    "jupyter nbextension disable jupyter_boilerplate/main"
   ]
  },
  {
   "cell_type": "markdown",
   "metadata": {},
   "source": [
    "查看snippets_menu的具体地址"
   ]
  },
  {
   "cell_type": "code",
   "execution_count": 1,
   "metadata": {
    "ExecuteTime": {
     "end_time": "2020-07-14T06:04:31.112214Z",
     "start_time": "2020-07-14T06:04:30.680214Z"
    }
   },
   "outputs": [
    {
     "name": "stdout",
     "output_type": "stream",
     "text": [
      "C:\\Users\\Administrator\\AppData\\Roaming\\jupyter/nbextensions/snippets_menu\n"
     ]
    }
   ],
   "source": [
    "import json\n",
    "path = get_ipython().getoutput('jupyter --data-dir')\n",
    "path = \"\".join([path[0], r\"/nbextensions/snippets_menu\"])\n",
    "print(path)"
   ]
  },
  {
   "cell_type": "markdown",
   "metadata": {},
   "source": [
    "基本菜单定制\n",
    "------------------------\n",
    "\n",
    "默认菜单可能包含太多与您无关的项目，或者没有您会觉得有用的东西。您可以轻松自定义它在里面\n",
    "[jupyter_nbextensions_configurator](https://github.com/Jupyter-\n",
    "contrib/jupyter_nbextensions_configurator#usage),\n",
    "如果您安装了此扩展程序，几乎可以肯定正常的方式通过\n",
    "[jupyter_contrib_nbextensions](https://github.com/ipython-\n",
    "contrib/jupyter_contrib_nbextensions).\n",
    "通常，您可以通过将浏览器指向\n",
    "http://127.0.0.1:8888/nbextensions, 尽管您可能需要修改如果使用更复杂的jupyter服务器，则为URL。\n",
    "\n",
    "在配置器页面上，您将看到许多选项（以及本自述文件）应该是不言自明的，允许您删除任何默认菜单项，或在“摘要”菜单。自定义菜单是用JSON编写的，（且无用）给出的示例应易于修改为需要。\n",
    "\n",
    "\n",
    "\n",
    "高级菜单定制\n",
    "---------------------------\n",
    "\n",
    "还可以广泛地自定义菜单使用您的custom.js文件的复杂方式。例如，您可以更改菜单项的顺序，在下面添加更多自定义子菜单“代码段”菜单，以及菜单中“代码段”旁边的自定义菜单栏，甚至在其他位置添加菜单，例如“插入”菜单中的菜单。\n",
    "通过命令行找到以下路径\n",
    "`custom.js`"
   ]
  },
  {
   "cell_type": "code",
   "execution_count": 1,
   "metadata": {
    "attributes": {
     "classes": [],
     "id": "",
     "n": "1"
    }
   },
   "outputs": [
    {
     "name": "stdout",
     "output_type": "stream",
     "text": [
      "$(jupyter --config-dir)/custom/custom.js\n"
     ]
    }
   ],
   "source": [
    "echo $(jupyter --config-dir)/custom/custom.js"
   ]
  },
  {
   "cell_type": "markdown",
   "metadata": {},
   "source": [
    "For Mac and linux users, the result is probably\n",
    "`~/.jupyter/custom/custom.js`.  If this file or the directory\n",
    "containing it do not exist, you can simply create them.\n",
    "\n",
    "The customization process is best explained through examples, which\n",
    "are available in the `examples_for_custom.js` file in this directory.\n",
    "Note that there's a lot of explanation here, but it's all actually\n",
    "pretty simple.  Give it a try, and you'll pick it up quickly.  Note\n",
    "that using this method can make it so that options selected in the\n",
    "configurator are ignored.\n",
    "\n",
    "The theory behind this customization is that the menu is represented\n",
    "by a nested JavaScript array (which is just like a python list).  So\n",
    "to change the menu, you just need to change that array.  And each menu\n",
    "*item* inside this array is represented by\n",
    "a [JavaScript \"object\"](https://api.jquery.com/Types/#Object) (which is\n",
    "just like a python dictionary).  So to change a menu item, you just\n",
    "have to change that object.\n",
    "\n",
    "Again, this makes more sense when looking at example, as follows.\n",
    "\n",
    "\n",
    "### Add a custom sub-menu with simple snippets\n",
    "\n",
    "Suppose you want to make a new sub-menu with your favorite snippets at\n",
    "the bottom of `Snippets`.  You create a new object for the menu item,\n",
    "and then just \"push\" it onto the default menu.  Do this by inserting\n",
    "some lines into your `custom.js`, so that it looks like this:"
   ]
  },
  {
   "cell_type": "code",
   "execution_count": null,
   "metadata": {
    "attributes": {
     "classes": [
      "javascript"
     ],
     "id": ""
    }
   },
   "outputs": [],
   "source": [
    "require([\"nbextensions/snippets_menu/main\"], function (snippets_menu) {\n",
    "    console.log('Loading `snippets_menu` customizations from `custom.js`');\n",
    "    var horizontal_line = '---';\n",
    "    var my_favorites = {\n",
    "        'name' : 'My favorites',\n",
    "        'sub-menu' : [\n",
    "            {\n",
    "                'name' : 'Menu item text',\n",
    "                'snippet' : ['new_command(3.14)',],\n",
    "            },\n",
    "            {\n",
    "                'name' : 'Another menu item',\n",
    "                'snippet' : ['another_new_command(2.78)',],\n",
    "            },\n",
    "        ],\n",
    "    };\n",
    "    snippets_menu.options['menus'] = snippets_menu.default_menus;\n",
    "    snippets_menu.options['menus'][0]['sub-menu'].push(horizontal_line);\n",
    "    snippets_menu.options['menus'][0]['sub-menu'].push(my_favorites);\n",
    "    console.log('Loaded `snippets_menu` customizations from `custom.js`');\n",
    "});"
   ]
  },
  {
   "cell_type": "markdown",
   "metadata": {},
   "source": [
    "Now, if you refresh your notebook, you'll see a new menu item named \"My\n",
    "favorites\".  Hover over it, and it will pop up a sub-menu with two more\n",
    "options.  Click the first one, and it will insert `new_command(3.14)` into\n",
    "your notebook wherever the cursor was.\n",
    "\n",
    "We discuss how all this works below.  But first, we need to slightly generalize\n",
    "the example above to work with more complicated snippets.\n",
    "\n",
    "\n",
    "### More complicated snippets\n",
    "\n",
    "The example above inserted simple one-line snippets of code.  Those snippets\n",
    "didn't have any quotation marks (single or double), backslashes, or newlines,\n",
    "which made everything easy.  Unfortunately, JavaScript doesn't deal too well\n",
    "with strings.  (There are no raw triple-quoted strings, like in python.)  So\n",
    "there are just three things to remember when writing snippets.\n",
    "\n",
    "  1. Quotation marks can be a tiny bit tricky.  There are a few options:\n",
    "    1. The obvious option is to enclose your snippets in single quotation marks\n",
    "       (`'`), and use only double quotation marks (`\"`) within the snippet\n",
    "       itself.\n",
    "    2. Just as easy is to enclose your snippets in double quotation marks\n",
    "       (`\"`), and use only single quotation marks (`'`) within the snippet\n",
    "       itself.\n",
    "    3. You can also escape single quotation marks inside single quotation marks\n",
    "       as `\\'`.\n",
    "\n",
    "  2. Newlines are even trickier, but the extension takes care of this for you\n",
    "     as long as you put separate lines of code as separate elements of the\n",
    "     `snippet` array.  Generally, there's no reason to put a literal newline in\n",
    "     your snippets.\n",
    "\n",
    "  3. JavaScript will treat backslashes as if they're trying to escape whatever\n",
    "     comes after them.  So if you want one backslash in your output code,\n",
    "     you'll need to put two backslashes in.\n",
    "\n",
    "This is all best described with another example.  Let's change the first\n",
    "function above, to give it some more lines and some quotes:"
   ]
  },
  {
   "cell_type": "code",
   "execution_count": null,
   "metadata": {
    "attributes": {
     "classes": [
      "javascript"
     ],
     "id": ""
    }
   },
   "outputs": [],
   "source": [
    "require([\"nbextensions/snippets_menu/main\"], function (snippets_menu) {\n",
    "    console.log('Loading `snippets_menu` customizations from `custom.js`');\n",
    "    var horizontal_line = '---';\n",
    "    var my_favorites = {\n",
    "        'name' : 'My $\\\\nu$ favorites',\n",
    "        'sub-menu' : [\n",
    "            {\n",
    "                'name' : 'Multi-line snippet',\n",
    "                'snippet' : ['new_command(3.14)',\n",
    "                             'other_new_code_on_new_line(\"with a string!\")',\n",
    "                             'stringy(\\'escape single quotes once\\')',\n",
    "                             \"stringy2('or use single quotes inside of double quotes')\",\n",
    "                             'backslashy(\"This \\\\ appears as just one backslash in the output\")',\n",
    "                             'backslashy2(\"Here are \\\\\\\\ two backslashes\")',],\n",
    "            },\n",
    "            {\n",
    "                'name' : 'TeX appears correctly $\\\\alpha_W e\\\\int_0 \\\\mu \\\\epsilon$',\n",
    "                'snippet' : ['another_new_command(2.78)',],\n",
    "            },\n",
    "        ],\n",
    "    };\n",
    "    snippets_menu.options['menus'].push(snippets_menu.default_menus[0]);\n",
    "    snippets_menu.options['menus'][0]['sub-menu'].push(horizontal_line);\n",
    "    snippets_menu.options['menus'][0]['sub-menu'].push(my_favorites);\n",
    "    console.log('Loaded `snippets_menu` customizations from `custom.js`');\n",
    "});"
   ]
  },
  {
   "cell_type": "markdown",
   "metadata": {},
   "source": [
    "Note the code output by the first item contains all sorts of interesting\n",
    "strings.  Also, the menu title of the second item contains TeX, which will\n",
    "display correctly, and is used in some of the default menus to show the\n",
    "standard symbols for physical constants.  For more examples, look at the\n",
    "default menus stored in the `snippets_menu` directory -- mostly under `python`.\n",
    "\n",
    "\n",
    "### How it works: Creating new menu items\n",
    "\n",
    "Each of the menu items above is a JavaScript object (like a python `dict`),\n",
    "with some attributes -- `name` and `sub-menu` for the main menu item, and\n",
    "`name` and `snippet` for the sub-menu items.  In general, any menu object can\n",
    "have any of the following properties:\n",
    "\n",
    "  1. `name`: Text that appears in the menu.  Note that this can include latex,\n",
    "     as the menus are processed by MathJax after being loaded.\n",
    "  2. `sub-menu`: An array of more menu items\n",
    "  3. `snippet`: An array of strings turned into code when the menu item is\n",
    "     clicked\n",
    "  4. `internal-link`: Link to some place on the present page.  For example,\n",
    "     this could be `#References`, to link to the `References` section of any\n",
    "     notebook you're in.\n",
    "  5. `external-link`: This just a link to some external web page, which will be\n",
    "     identified with a little icon, just like in the standard notebook \"Help\"\n",
    "     menu.  When clicked, the link will open in a new window/tab.\n",
    "  6. `menu-direction`: If the value of this property is `left`, this menu's\n",
    "     sub-menus open on the left.  This is useful when the top-level menu is\n",
    "     inserted as an item within other menu items.  See\n",
    "     [below](#change-direction-of-sub-menus) for examples.\n",
    "  7. `sub-menu-direction`: If the value of this property is `left`, sub-menus\n",
    "     within this menu's sub-menus open on the left.  This is used by default\n",
    "     for items under the `Snippets` menu to help ensure that nested menus\n",
    "     don't become too large to fit on the screen.  See\n",
    "     [below](#change-direction-of-sub-menus) for examples.\n",
    "\n",
    "The `name` property is the only required one, though you'll probably want at\n",
    "least one other property.  The `sub-menu` contains menu objects that again may\n",
    "have any of these properties, so you can easily nest menus.  You can also\n",
    "combine a `snippet` with a `sub-menu`, so that there's a default value as well\n",
    "as a sub-menu.  However, the last three are mutually exclusive: `snippet` will\n",
    "override any `-link`; an `internal-link` will override an `external-link`.\n",
    "\n",
    "\n",
    "### How it works: Splicing new menu items into the old\n",
    "\n",
    "Besides just creating the menu items, we may want to join together previously\n",
    "created items.  That's the purpose of this line in the code above:"
   ]
  },
  {
   "cell_type": "code",
   "execution_count": null,
   "metadata": {
    "attributes": {
     "classes": [
      "javascript"
     ],
     "id": ""
    }
   },
   "outputs": [],
   "source": [
    "    snippets_menu.options['menus'][0]['sub-menu'].push(my_favorites);"
   ]
  },
  {
   "cell_type": "markdown",
   "metadata": {},
   "source": [
    "This uses\n",
    "the [JavaScript `push`](https://www.w3schools.com/jsref/jsref_push.asp)\n",
    "function to insert the new menu `my_favorites` menu into the last slot\n",
    "of `snippets_menu.options['menus'][0]['sub-menu']`, which is the set\n",
    "of menus under the heading `Snippets`.\n",
    "\n",
    "If you think about this last point, you'll realize that `Snippets` is\n",
    "just the `0` slot of an array of menus.  If you want a new menu right\n",
    "in the menu bar, you could add `my_favorites` right to that top-level\n",
    "array, with something like this:"
   ]
  },
  {
   "cell_type": "code",
   "execution_count": null,
   "metadata": {
    "attributes": {
     "classes": [
      "javascript"
     ],
     "id": ""
    }
   },
   "outputs": [],
   "source": [
    "    snippets_menu.options['menus'].push(snippets_menu.default_menus[0]);\n",
    "    snippets_menu.options['menus'].push(my_favorites);"
   ]
  },
  {
   "cell_type": "markdown",
   "metadata": {},
   "source": [
    "This would place your favorites after the default `Snippets` menu; to\n",
    "put it before, just swap the order in which you `push`:"
   ]
  },
  {
   "cell_type": "code",
   "execution_count": null,
   "metadata": {
    "attributes": {
     "classes": [
      "javascript"
     ],
     "id": ""
    }
   },
   "outputs": [],
   "source": [
    "    snippets_menu.options['menus'].push(my_favorites);\n",
    "    snippets_menu.options['menus'].push(snippets_menu.default_menus[0]);"
   ]
  },
  {
   "cell_type": "markdown",
   "metadata": {},
   "source": [
    "(In general, to add a new element at a given index of an array, you\n",
    "could also just use\n",
    "the [splice](https://www.w3schools.com/jsref/jsref_splice.asp)\n",
    "function.)\n",
    "\n",
    "This might be useful if you have one set of very frequently used\n",
    "commands, and want immediate access, without going through various\n",
    "levels of the usual menu.  A useful example of this is\n",
    "shown [below](#starting-over-with-the-menus).  The `splice` function\n",
    "can also be used to delete items from the array, as\n",
    "described [next](#deleting-menu-items).\n",
    "\n",
    "\n",
    "### Other menu manipulations\n",
    "\n",
    "To rearrange menu items, just use standard JavaScript techniques.  The two most\n",
    "likely examples are deleting and rearranging menu items, but we'll also see\n",
    "that other manipulations are easy.  We can also change where the new menus go,\n",
    "and what they look like.\n",
    "\n",
    "#### Deleting menu items\n",
    "\n",
    "To delete an item, just `splice` nothing into it.  Let's suppose, for example,\n",
    "that you want to remove the option to set up matplotlib for a script, which is\n",
    "the `1` item of the \"Matplotlib\" menu:"
   ]
  },
  {
   "cell_type": "code",
   "execution_count": null,
   "metadata": {
    "attributes": {
     "classes": [
      "javascript"
     ],
     "id": ""
    }
   },
   "outputs": [],
   "source": [
    "snippets_menu.python.matplotlib['sub-menu']"
   ]
  },
  {
   "cell_type": "markdown",
   "metadata": {},
   "source": [
    "Remember that `[1]` is the second element of \"Matplotlib\"'s sub-menu\n",
    "list.  So the following code will do the trick"
   ]
  },
  {
   "cell_type": "code",
   "execution_count": null,
   "metadata": {
    "attributes": {
     "classes": [
      "javascript"
     ],
     "id": ""
    }
   },
   "outputs": [],
   "source": [
    "require([\"nbextensions/snippets_menu/main\"], function (snippets_menu) {\n",
    "    console.log('Loading `snippets_menu` customizations from `custom.js`');\n",
    "    snippets_menu.python.matplotlib['sub-menu'].splice(1, 1); // Delete 1 element starting at position 1 of the sub-menu\n",
    "    console.log('Loaded `snippets_menu` customizations from `custom.js`');\n",
    "});"
   ]
  },
  {
   "cell_type": "markdown",
   "metadata": {},
   "source": [
    "The first `1` in the argument to `splice` says to work on the element at\n",
    "position 1; the second `1` says to delete 1 element of the array.\n",
    "\n",
    "\n",
    "#### Rearranging menu items\n",
    "\n",
    "Following the example above, suppose you don't want to delete the second setup\n",
    "item under \"Matplotlib\", but instead want to swap those first two items.  To\n",
    "make this swap, you need to do the usual trick of storing one element in a\n",
    "temporary variable, and then reassign appropriately.  The following code\n",
    "achieves this purpose:"
   ]
  },
  {
   "cell_type": "code",
   "execution_count": null,
   "metadata": {
    "attributes": {
     "classes": [
      "javascript"
     ],
     "id": ""
    }
   },
   "outputs": [],
   "source": [
    "require([\"nbextensions/snippets_menu/main\"], function (snippets_menu) {\n",
    "    console.log('Loading `snippets_menu` customizations from `custom.js`');\n",
    "    var tmp = snippets_menu.python.matplotlib['sub-menu'][0];\n",
    "    snippets_menu.python.matplotlib['sub-menu'][0] = snippets_menu.python.matplotlib['sub-menu'][1];\n",
    "    snippets_menu.python.matplotlib['sub-menu'][1] = tmp;\n",
    "    console.log('Loaded `snippets_menu` customizations from `custom.js`');\n",
    "});"
   ]
  },
  {
   "cell_type": "markdown",
   "metadata": {},
   "source": [
    "#### Change direction of sub-menus\n",
    "\n",
    "Each sub-menu may be placed to the right or left side of the menu item\n",
    "containing it.  This is controlled by the `menu-direction` and\n",
    "`sub-menu-direction` properties of the container.  By default, both are set to\n",
    "`right` for all menus, but `sub-menu-direction` is set to `left` for the\n",
    "default `Snippets` menu, which means that all of its sub-menus open to the\n",
    "left side.  This is important because the menus may be nested quite deeply, and\n",
    "need to fit on the screen.  For example, the SciPy CODATA constants and SymPy's\n",
    "orthogonal functions will easily extend far past the right-hand edge of the\n",
    "notebook without this feature.  That means the window size would abruptly\n",
    "increase when you mouse over these menus, and would abruptly collapse when you\n",
    "mouse out of them.  So by opening them to the left, we gain enough space to\n",
    "keep everything on the screen.\n",
    "\n",
    "But these are configurable properties.  If, for example, you want to change the\n",
    "default menus to open on the right (which would be the more standard behavior),\n",
    "you can use this:"
   ]
  },
  {
   "cell_type": "code",
   "execution_count": null,
   "metadata": {
    "attributes": {
     "classes": [
      "javascript"
     ],
     "id": ""
    }
   },
   "outputs": [],
   "source": [
    "    snippets_menu.default_menus[0]['sub-menu-direction'] = 'right';"
   ]
  },
  {
   "cell_type": "markdown",
   "metadata": {},
   "source": [
    "This may be particularly useful if we change the position of the menus, as in\n",
    "the next examples.\n",
    "\n",
    "\n",
    "#### Starting over with the menus\n",
    "\n",
    "Each of the menu items under the default `Snippets` menu is\n",
    "individually available as part of the `snippets_menu` object defined\n",
    "in our JavaScript examples.  So if you want, you could just use them\n",
    "to build your own version of the menu.  For example, suppose use SymPy\n",
    "and Numpy most frequently, so you want easy access to their menus,\n",
    "without having to click `Snippets` first.  And then suppose you still\n",
    "want most of the other `Snippets` items, but less frequently so they\n",
    "can stay in their menu, except that you really never use pandas.  You\n",
    "can create your own menu as follows:"
   ]
  },
  {
   "cell_type": "code",
   "execution_count": null,
   "metadata": {
    "attributes": {
     "classes": [
      "javascript"
     ],
     "id": ""
    }
   },
   "outputs": [],
   "source": [
    "require([\"nbextensions/snippets_menu/main\"], function (snippets_menu) {\n",
    "    console.log('Loading `snippets_menu` customizations from `custom.js`');\n",
    "    snippets_menu.default_menus[0]['sub-menu'].splice(3, 2); // Remove SymPy and pandas\n",
    "    snippets_menu.python.sympy['sub-menu-direction'] = 'left'; // Point new SymPy menus to left\n",
    "    snippets_menu.python.numpy['sub-menu-direction'] = 'left'; // Point new Numpy menus to left\n",
    "    snippets_menu.options['menus'].push(snippets_menu.default_menus[0]); // Start with the remaining \"Snippets\" menu\n",
    "    snippets_menu.options['menus'].push(snippets_menu.python.sympy); // Follow that with a new SymPy menu\n",
    "    snippets_menu.options['menus'].push(snippets_menu.python.numpy); // Follow that with a new Numpy menu\n",
    "    console.log('Loaded `snippets_menu` customizations from `custom.js`');\n",
    "});"
   ]
  },
  {
   "cell_type": "markdown",
   "metadata": {},
   "source": [
    "The default menu group is `snippets_menu.default_menus`, and the SymPy sub-menu\n",
    "is `snippets_menu.python.sympy`.  You can see that we've manipulated them above\n",
    "by removing two elements from the default menu, using the `splice` command.\n",
    "We've also added a new property to the SymPy menu to make its sub-menus open to\n",
    "the left, instead of the right -- which is necessary to keep all of SymPy's\n",
    "extensively nested menus on the screen.  (In fact, the list of orthogonal\n",
    "polynomials under \"Special functions\" in the SymPy menu are some of the widest\n",
    "menus in the default set.)  Finally, we've combined the modified default menu\n",
    "with the modified SymPy menu into one new list.\n",
    "\n",
    "This gives us the original `Snippets` menu with SymPy and pandas removed, as\n",
    "well as new menus devoted to just SymPy and Numpy right in the menu bar:\n",
    "\n",
    "![Opened snippets menu after adjustments](screenshot2.png)\n",
    "\n",
    "You can see that the two items are indeed removed from `Snippets`, and\n",
    "\"SymPy\" and \"Numpy\" now have places of honor right in the menu bar.\n",
    "You can, of course, swap their order in the code above, or make any\n",
    "number of further alterations.\n",
    "\n",
    "\n",
    "#### Changing the insertion point\n",
    "\n",
    "You might want to change the order of the menus in the navbar (that\n",
    "top-level bar with \"File\", etc.).  For example, it might feel\n",
    "particularly natural to have \"Help\" as the last item, so maybe you'd\n",
    "prefer to put the `Snippets` menu *before* the \"Help\" menu.  Or you\n",
    "may prefer to maintain the structure of the menus in the navbar, and\n",
    "would rather have the `Snippets` menu *inside* of some other top-level\n",
    "menu -- like the \"Insert\" menu.  Personally, I prefer to have the\n",
    "`Snippets` menu in its default position for easy access.  But it's\n",
    "certainly possible to put it other places.\n",
    "\n",
    "To help do this, there are two additional options available, which can\n",
    "be set either in the configurator or in `custom.js`.  Their default\n",
    "values give us the usual placement of the `Snippets` menu; by giving\n",
    "them different values, we can change the placement.  These options are\n",
    "\n",
    "  1. `sibling`: This is an HTML node next to our new menu,\n",
    "     presumably\n",
    "     [selected with `jQuery`](https://learn.jquery.com/using-jquery-\n",
    "core/selecting-elements/).\n",
    "     The default value is `$(\"#help_menu\").parent()`, which is the\n",
    "     \"Help\" menu.  For the configurator, `.parent()` is automatically\n",
    "     appended.\n",
    "  2. `insert_before_sibling`: This is just a string controlling where\n",
    "     the new menu will be inserted relative to its sibling. The\n",
    "     default value is `false`.  If you change it to `true`, the new\n",
    "     menu will be inserted before the sibling.\n",
    "\n",
    "So placing the `Snippets` menu *before* the \"Help\" menu is as easy as\n",
    "checking the box for that second option.  For more complicated uses,\n",
    "you may need to set these values from `custom.js`.  For example, f you\n",
    "want to put the new `Snippets` menu as an item inside the standard\n",
    "\"Insert\" menu, and include an additional horizontal divider, you can\n",
    "use this:"
   ]
  },
  {
   "cell_type": "code",
   "execution_count": null,
   "metadata": {
    "attributes": {
     "classes": [
      "javascript"
     ],
     "id": ""
    }
   },
   "outputs": [],
   "source": [
    "require([\"nbextensions/snippets_menu/main\"], function (snippets_menu) {\n",
    "    console.log('Loading `snippets_menu` customizations from `custom.js`');\n",
    "    snippets_menu.default_menus[0]['menu-direction'] = 'left'; // Open top-level menu to the left...\n",
    "    snippets_menu.default_menus[0]['sub-menu-direction'] = 'right'; // ...and sub-menus to the right.\n",
    "    snippets_menu.options['menus'].push('---', snippets_menu.default_menus[0]); // Add horizontal line and default menus\n",
    "    snippets_menu.options['sibling'] = $(\"#insert_cell_below\"); // Find the place at which to insert the new menus\n",
    "    console.log('Loaded `snippets_menu` customizations from `custom.js`');\n",
    "});"
   ]
  },
  {
   "cell_type": "markdown",
   "metadata": {},
   "source": [
    "Here's what that looks like:\n",
    "\n",
    "![Opened snippets menu under \"Insert\" menu](screenshot3.png)\n",
    "\n",
    "And of course, you can combine this selection of the insertion point with other\n",
    "techniques above, where you change the content of the menus.\n",
    "\n",
    "\n",
    "#### Multiple menus in separate locations\n",
    "\n",
    "Finally, we have one more interesting example that brings together various\n",
    "threads from the previous examples.  It is possible to place multiple menus in\n",
    "different locations.  For example, suppose we want to combine two of the\n",
    "examples\n",
    "above, where [(1)](#starting-over-with-the-menus) we separated \"SymPy\" into its\n",
    "own menu on the navbar, and [(2)](#changing-the-insertion-point) we placed the\n",
    "`Snippets` menu inside the \"Insert\" menu.  That is, you might want \"SymPy\"\n",
    "to be conveniently placed, but you want the rest of the `Snippets` to stay\n",
    "under the \"Insert\" menu.\n",
    "\n",
    "To add these two separate menus, we place the first with the usual\n",
    "approach, and then place the second with another function,\n",
    "`snippets_menu.menu_setup`.  The former is mostly just a wrapper to\n",
    "the latter, except that it also inserts JavaScript and CSS elements\n",
    "into the notebook.  Note that `menu_setup` does not have any default\n",
    "values; you must always pass the `sibling` and `insert_before_sibling`\n",
    "arguments.\n",
    "\n",
    "So, putting it all together, the code needed for this arrangement is as\n",
    "follows:"
   ]
  },
  {
   "cell_type": "code",
   "execution_count": null,
   "metadata": {
    "attributes": {
     "classes": [
      "javascript"
     ],
     "id": ""
    }
   },
   "outputs": [],
   "source": [
    "require([\"nbextensions/snippets_menu/main\"], function (snippets_menu) {\n",
    "    console.log('Loading `snippets_menu` customizations from `custom.js`');\n",
    "    var sympy_menu = [snippets_menu.python.sympy,];\n",
    "    sympy_menu[0]['sub-menu-direction'] = 'left';\n",
    "    snippets_menu.options['menus'] = sympy_menu;\n",
    "    snippets_menu.default_menus[0]['sub-menu'].splice(3, 1); // Remove SymPy from defaults\n",
    "    snippets_menu.default_menus[0]['menu-direction'] = 'left';\n",
    "    snippets_menu.default_menus[0]['sub-menu-direction'] = 'right';\n",
    "    var sibling = $(\"#insert_cell_below\");\n",
    "    var inserted_menu = [\n",
    "        '---',\n",
    "        snippets_menu.default_menus[0],\n",
    "    ];\n",
    "    snippets_menu.menu_setup(inserted_menu, sibling, 'after');\n",
    "    console.log('Loaded `snippets_menu` customizations from `custom.js`');\n",
    "});"
   ]
  },
  {
   "cell_type": "markdown",
   "metadata": {},
   "source": [
    "Troubleshooting\n",
    "---------------\n",
    "\n",
    "The first step is to make sure that the default setup can be loaded.\n",
    "Comment out whatever you've got in `custom.js`, and add in the simple\n",
    "configuration from [the beginning](#installation).  If that doesn't\n",
    "work, try the following steps\n",
    "suggested\n",
    "[here](http://jupyter-contrib-\n",
    "nbextensions.readthedocs.io/en/latest/troubleshooting.html):\n",
    "\n",
    "  1. Clear your browser cache or start a private browser tab.\n",
    "  2. Verify your `custom.js` is the one the notebook is seeing, by opening it\n",
    "     in the browser: <http://127.0.0.1:8888/static/custom/custom.js> (as\n",
    "     opposed to looking at the file directly outside of your browser, which may\n",
    "     not be the `custom.js` loaded if you are using a `virtualenv`).\n",
    "  3. Verify the extension can be loaded by the Jupyter notebook, for example:\n",
    "     <http://127.0.0.1:8888/nbextensions/snippets_menu/main.js>.  You\n",
    "     should see a page with lots of JavaScript code, and should *not*\n",
    "     see a 404 error.\n",
    "  4. Check for error messages in the JavaScript console.\n",
    "\n",
    "Now, assuming the basic installation works, it must be something wrong\n",
    "in your customization.  (Or maybe a new bug you've uncovered...)\n",
    "\n",
    "Sometimes, the menu(s) might simply not appear.  This is most likely\n",
    "due to a syntax error in your menu.  You can find out in Chrome by\n",
    "going to \"View\" -> \"Developer\" -> \"JavaScript console\".  You'll see a\n",
    "bunch of output.  Red lines are usually errors (some of which are\n",
    "probably *not* due to your menu error).  On the right side of those\n",
    "lines, you'll see the file where the error came from, and possibly\n",
    "even the line number that's causing the trouble.  Find an error that\n",
    "links to either `snippets_menu/main.js` or `custom.js`, and click on\n",
    "it.  Then try to figure out what went wrong.  The most common error\n",
    "I've encountered is \"Unexpected string\", which might indicate a\n",
    "missing comma, or an improperly escaped quote.  Note that sometimes\n",
    "the error will point to the first thing *after* the real problem.\n",
    "\n",
    "Or maybe the menu did appear, but it doesn't work properly.  You can\n",
    "also inspect the actual elements that were inserted.  Click on\n",
    "\"Elements\" in that Developer Tools tab that opened at the bottom of\n",
    "your window.  Then click the magnifying glass, and click on the\n",
    "`Snippets` menu.  This will jump the Developer Tools to the part of\n",
    "the source with that menu.  Scroll through to find the menu item\n",
    "that's not working correctly, and take a look at it.  The text in the\n",
    "`data-snippet-code` attribute is especially important, since that's\n",
    "what gets inserted into the notebook.\n",
    "\n",
    "\n",
    "TODO\n",
    "----\n",
    "\n",
    "There's a bunch of stuff I still need to do, listed in\n",
    "the\n",
    "[issue tracker](https://github.com/moble/jupyter_boilerplate/issues).\n",
    "If you find a bug or have an idea for a good snippet that you think\n",
    "should be added to the defaults, feel free\n",
    "to\n",
    "[open a new issue](https://github.com/moble/jupyter_boilerplate/issues/new).\n",
    "\n",
    "In particular, I don't use Julia or R, so I welcome suggestions for\n",
    "default snippets for those languages.\n",
    "\n",
    "\n",
    "\n",
    "Reasons for using this extension\n",
    "--------------------------------\n",
    "\n",
    "This is just a nice place to collect thoughts about why anyone might\n",
    "find this to be a useful extension:\n",
    "\n",
    "  * Introducing beginners to coding.  It's helpful for the beginner to have a\n",
    "    list of useful possibilities (with correct syntax!) lined up right where\n",
    "    the programming is happening.  It's like \"Hello world\" on steroids.\n",
    "  * Introducing the Jupyter notebook.  It can be useful to have some nice\n",
    "    things to do in the notebook to demonstrate the possibilities.  For\n",
    "    example, you might suggest that someone new to the notebook run the\n",
    "    Matplotlib setup and then make an example plot.\n",
    "  * Convenience for lazy people like me.  For example, I usually don't want to\n",
    "    bother with all the typing involved in setting up the nice (but important)\n",
    "    parts of a plot, like the axis labels and legend.  But by inserting the\n",
    "    template, all I have to do is change the relevant values.\n",
    "  * Reminders about useful things that could be done.  For example,\n",
    "    when I'm manipulating expressions in SymPy, I'll frequently forget\n",
    "    that I can simplify, expand, collect, etc., in all sorts of ways.\n",
    "    The Snippets menu reminds me of that.\n",
    "  * Convenient reference for massive libraries.  For example, SciPy contains\n",
    "    lots of constants.  You could certainly go to the web page describing these\n",
    "    various constants to find the one you need, or you could just explore them\n",
    "    right in the browser.  The same is true of SymPy's collection of special\n",
    "    functions."
   ]
  }
 ],
 "metadata": {
  "kernelspec": {
   "display_name": "Python 3",
   "language": "python",
   "name": "python3"
  },
  "language_info": {
   "codemirror_mode": {
    "name": "ipython",
    "version": 3
   },
   "file_extension": ".py",
   "mimetype": "text/x-python",
   "name": "python",
   "nbconvert_exporter": "python",
   "pygments_lexer": "ipython3",
   "version": "3.8.1"
  },
  "toc": {
   "base_numbering": 1,
   "nav_menu": {},
   "number_sections": true,
   "sideBar": true,
   "skip_h1_title": false,
   "title_cell": "Table of Contents",
   "title_sidebar": "Contents",
   "toc_cell": false,
   "toc_position": {},
   "toc_section_display": true,
   "toc_window_display": false
  },
  "varInspector": {
   "cols": {
    "lenName": 16,
    "lenType": 16,
    "lenVar": 40
   },
   "kernels_config": {
    "python": {
     "delete_cmd_postfix": "",
     "delete_cmd_prefix": "del ",
     "library": "var_list.py",
     "varRefreshCmd": "print(var_dic_list())"
    },
    "r": {
     "delete_cmd_postfix": ") ",
     "delete_cmd_prefix": "rm(",
     "library": "var_list.r",
     "varRefreshCmd": "cat(var_dic_list()) "
    }
   },
   "types_to_exclude": [
    "module",
    "function",
    "builtin_function_or_method",
    "instance",
    "_Feature"
   ],
   "window_display": false
  }
 },
 "nbformat": 4,
 "nbformat_minor": 4
}
