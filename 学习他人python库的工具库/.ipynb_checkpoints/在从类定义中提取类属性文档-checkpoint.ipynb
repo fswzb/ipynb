{
 "cells": [
  {
   "cell_type": "markdown",
   "metadata": {},
   "source": [
    "在从类定义中提取类属性文档\n",
    "提取以各种方式定义的属性文档字符串\n",
    "https://pypi.org/project/class-doc/"
   ]
  },
  {
   "cell_type": "markdown",
   "metadata": {},
   "source": []
  },
  {
   "cell_type": "markdown",
   "metadata": {},
   "source": [
    ">>> import class_doc\n",
    ">>> import helping\n",
    ">>> helping.info(class_doc)\n",
    "class_doc (<class 'module'>)\n",
    "  methods:\n",
    "    Any()\n",
    "    Dict()\n",
    "    extract_all_attr_docstrings()\n",
    "    extract_all_nodes_comments()\n",
    "    extract_docs()\n",
    "    extract_docs_from_cls_obj()\n",
    "    extract_node_comments()\n",
    "    Iterator()\n",
    "    List()\n",
    "    Optional()\n",
    "    Union()\n",
    "    UniversalAssign()\n",
    "\n",
    "  attributes:\n",
    "    ast\n",
    "    inspect\n",
    "    itertools\n",
    "    mitertools\n",
    "    string\n",
    "    textwrap\n",
    "    tokenize\n"
   ]
  },
  {
   "cell_type": "markdown",
   "metadata": {},
   "source": [
    ">>> help(class_doc.Any)\n",
    "Help on _SpecialForm in module typing object:\n",
    "\n",
    "class _SpecialForm(_Final, _Immutable)\n",
    " |  _SpecialForm(*args, **kwds)\n",
    " |\n",
    " |  Internal indicator of special typing constructs.\n",
    " |  See _doc instance attribute for specific docs.\n",
    " |\n",
    " |  Method resolution order:\n",
    " |      _SpecialForm\n",
    " |      _Final\n",
    " |      _Immutable\n",
    " |      builtins.object\n",
    " |\n",
    " |  Methods defined here:\n",
    " |\n",
    " |  __call__(self, *args, **kwds)\n",
    " |      Call self as a function.\n",
    " |\n",
    " |  __eq__(self, other)\n",
    " |      Return self==value.\n",
    " |\n",
    " |  __getitem__(self, parameters)\n",
    " |\n",
    " |  __hash__(self)\n",
    " |      Return hash(self).\n",
    " |\n",
    " |  __init__(self, name, doc)\n",
    " |      Initialize self.  See help(type(self)) for accurate signature.\n",
    " |\n",
    " |  __instancecheck__(self, obj)\n",
    " |      Check if an object is an instance.\n",
    " |\n",
    " |  __reduce__(self)\n",
    " |      Helper for pickle.\n",
    " |\n",
    " |  __repr__(self)\n",
    " |      Return repr(self).\n",
    " |\n",
    " |  __subclasscheck__(self, cls)\n",
    " |      Check if a class is a subclass.\n",
    " |\n",
    " |  ----------------------------------------------------------------------\n",
    " |  Static methods defined here:\n",
    " |\n",
    " |  __new__(cls, *args, **kwds)\n",
    " |      Constructor.\n",
    " |\n",
    " |      This only exists to give a better error message in case\n",
    " |      someone tries to subclass a special typing object (not a good idea).\n",
    " |\n",
    " |  ----------------------------------------------------------------------\n",
    " |  Data descriptors defined here:\n",
    " |\n",
    " |  __dict__\n",
    " |      dictionary for instance variables (if defined)\n",
    " |\n",
    " |  ----------------------------------------------------------------------\n",
    " |  Class methods inherited from _Final:\n",
    " |\n",
    " |  __init_subclass__(*args, **kwds) from builtins.type\n",
    " |      This method is called when a class is subclassed.\n",
    " |\n",
    " |      The default implementation does nothing. It may be\n",
    " |      overridden to extend subclasses.\n",
    " |\n",
    " |  ----------------------------------------------------------------------\n",
    " |  Data descriptors inherited from _Final:\n",
    " |\n",
    " |  __weakref__\n",
    " |      list of weak references to the object (if defined)\n",
    " |\n",
    " |  ----------------------------------------------------------------------\n",
    " |  Methods inherited from _Immutable:\n",
    " |\n",
    " |  __copy__(self)\n",
    " |\n",
    " |  __deepcopy__(self, memo)"
   ]
  },
  {
   "cell_type": "markdown",
   "metadata": {},
   "source": []
  },
  {
   "cell_type": "markdown",
   "metadata": {},
   "source": []
  },
  {
   "cell_type": "markdown",
   "metadata": {},
   "source": []
  },
  {
   "cell_type": "markdown",
   "metadata": {},
   "source": []
  },
  {
   "cell_type": "markdown",
   "metadata": {},
   "source": []
  },
  {
   "cell_type": "markdown",
   "metadata": {},
   "source": []
  },
  {
   "cell_type": "markdown",
   "metadata": {},
   "source": []
  },
  {
   "cell_type": "markdown",
   "metadata": {},
   "source": []
  },
  {
   "cell_type": "markdown",
   "metadata": {},
   "source": []
  },
  {
   "cell_type": "markdown",
   "metadata": {},
   "source": []
  },
  {
   "cell_type": "markdown",
   "metadata": {},
   "source": []
  },
  {
   "cell_type": "markdown",
   "metadata": {},
   "source": []
  },
  {
   "cell_type": "markdown",
   "metadata": {},
   "source": []
  },
  {
   "cell_type": "markdown",
   "metadata": {},
   "source": []
  },
  {
   "cell_type": "markdown",
   "metadata": {},
   "source": []
  },
  {
   "cell_type": "markdown",
   "metadata": {},
   "source": []
  },
  {
   "cell_type": "markdown",
   "metadata": {},
   "source": []
  },
  {
   "cell_type": "markdown",
   "metadata": {},
   "source": []
  },
  {
   "cell_type": "markdown",
   "metadata": {},
   "source": []
  },
  {
   "cell_type": "markdown",
   "metadata": {},
   "source": []
  },
  {
   "cell_type": "markdown",
   "metadata": {},
   "source": []
  },
  {
   "cell_type": "markdown",
   "metadata": {},
   "source": []
  },
  {
   "cell_type": "markdown",
   "metadata": {},
   "source": []
  },
  {
   "cell_type": "markdown",
   "metadata": {},
   "source": []
  },
  {
   "cell_type": "markdown",
   "metadata": {},
   "source": []
  },
  {
   "cell_type": "markdown",
   "metadata": {},
   "source": []
  },
  {
   "cell_type": "markdown",
   "metadata": {},
   "source": []
  },
  {
   "cell_type": "markdown",
   "metadata": {},
   "source": []
  },
  {
   "cell_type": "markdown",
   "metadata": {},
   "source": []
  },
  {
   "cell_type": "markdown",
   "metadata": {},
   "source": []
  },
  {
   "cell_type": "markdown",
   "metadata": {},
   "source": []
  },
  {
   "cell_type": "markdown",
   "metadata": {},
   "source": []
  },
  {
   "cell_type": "markdown",
   "metadata": {},
   "source": []
  },
  {
   "cell_type": "markdown",
   "metadata": {},
   "source": []
  },
  {
   "cell_type": "markdown",
   "metadata": {},
   "source": []
  },
  {
   "cell_type": "markdown",
   "metadata": {},
   "source": []
  },
  {
   "cell_type": "markdown",
   "metadata": {},
   "source": []
  },
  {
   "cell_type": "markdown",
   "metadata": {},
   "source": []
  },
  {
   "cell_type": "markdown",
   "metadata": {},
   "source": []
  },
  {
   "cell_type": "markdown",
   "metadata": {},
   "source": []
  }
 ],
 "metadata": {
  "kernelspec": {
   "display_name": "Python 3",
   "language": "python",
   "name": "python3"
  },
  "language_info": {
   "codemirror_mode": {
    "name": "ipython",
    "version": 3
   },
   "file_extension": ".py",
   "mimetype": "text/x-python",
   "name": "python",
   "nbconvert_exporter": "python",
   "pygments_lexer": "ipython3",
   "version": "3.8.1"
  },
  "toc": {
   "base_numbering": 1,
   "nav_menu": {},
   "number_sections": true,
   "sideBar": true,
   "skip_h1_title": false,
   "title_cell": "Table of Contents",
   "title_sidebar": "Contents",
   "toc_cell": false,
   "toc_position": {},
   "toc_section_display": true,
   "toc_window_display": false
  },
  "varInspector": {
   "cols": {
    "lenName": 16,
    "lenType": 16,
    "lenVar": 40
   },
   "kernels_config": {
    "python": {
     "delete_cmd_postfix": "",
     "delete_cmd_prefix": "del ",
     "library": "var_list.py",
     "varRefreshCmd": "print(var_dic_list())"
    },
    "r": {
     "delete_cmd_postfix": ") ",
     "delete_cmd_prefix": "rm(",
     "library": "var_list.r",
     "varRefreshCmd": "cat(var_dic_list()) "
    }
   },
   "types_to_exclude": [
    "module",
    "function",
    "builtin_function_or_method",
    "instance",
    "_Feature"
   ],
   "window_display": false
  }
 },
 "nbformat": 4,
 "nbformat_minor": 4
}
