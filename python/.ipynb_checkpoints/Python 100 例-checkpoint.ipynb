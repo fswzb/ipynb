{
 "cells": [
  {
   "cell_type": "markdown",
   "metadata": {},
   "source": [
    "# Python 100 例\n",
    "来源：公众号  Python与算法社区 \n",
    "教程包括 62 个基础样例，12 个核心样例，26 个习惯用法\n"
   ]
  },
  {
   "cell_type": "markdown",
   "metadata": {},
   "source": [
    "## 1 十转二\n",
    "将十进制转换为二进制："
   ]
  },
  {
   "cell_type": "code",
   "execution_count": 1,
   "metadata": {
    "ExecuteTime": {
     "end_time": "2020-06-22T04:53:27.369263Z",
     "start_time": "2020-06-22T04:53:27.349280Z"
    }
   },
   "outputs": [
    {
     "data": {
      "text/plain": [
       "'0b1010'"
      ]
     },
     "execution_count": 1,
     "metadata": {},
     "output_type": "execute_result"
    }
   ],
   "source": [
    " bin(10)"
   ]
  },
  {
   "cell_type": "markdown",
   "metadata": {},
   "source": [
    "## 2 十转八\n",
    "十进制转换为八进制："
   ]
  },
  {
   "cell_type": "code",
   "execution_count": 2,
   "metadata": {
    "ExecuteTime": {
     "end_time": "2020-06-22T04:54:48.208639Z",
     "start_time": "2020-06-22T04:54:48.198647Z"
    }
   },
   "outputs": [
    {
     "data": {
      "text/plain": [
       "'0o11'"
      ]
     },
     "execution_count": 2,
     "metadata": {},
     "output_type": "execute_result"
    }
   ],
   "source": [
    " oct(9)"
   ]
  },
  {
   "cell_type": "markdown",
   "metadata": {},
   "source": [
    "## 3 十转十六\n",
    "十进制转换为十六进制："
   ]
  },
  {
   "cell_type": "code",
   "execution_count": 3,
   "metadata": {
    "ExecuteTime": {
     "end_time": "2020-06-22T04:55:20.590810Z",
     "start_time": "2020-06-22T04:55:20.582812Z"
    }
   },
   "outputs": [
    {
     "data": {
      "text/plain": [
       "'0xf'"
      ]
     },
     "execution_count": 3,
     "metadata": {},
     "output_type": "execute_result"
    }
   ],
   "source": [
    " hex(15)\n"
   ]
  },
  {
   "cell_type": "markdown",
   "metadata": {},
   "source": [
    "## 4 字符串转字节\n",
    "字符串转换为字节类型"
   ]
  },
  {
   "cell_type": "code",
   "execution_count": 6,
   "metadata": {
    "ExecuteTime": {
     "end_time": "2020-06-22T04:58:23.665600Z",
     "start_time": "2020-06-22T04:58:23.659602Z"
    }
   },
   "outputs": [
    {
     "data": {
      "text/plain": [
       "b'apple'"
      ]
     },
     "execution_count": 6,
     "metadata": {},
     "output_type": "execute_result"
    }
   ],
   "source": [
    " s = \"apple\"\n",
    " bytes(s,encoding='utf-8')\n"
   ]
  },
  {
   "cell_type": "markdown",
   "metadata": {},
   "source": [
    "## 5 转为字符串\n",
    "字符类型、数值型等转换为字符串类型"
   ]
  },
  {
   "cell_type": "code",
   "execution_count": 7,
   "metadata": {
    "ExecuteTime": {
     "end_time": "2020-06-22T04:58:56.285829Z",
     "start_time": "2020-06-22T04:58:56.275841Z"
    }
   },
   "outputs": [
    {
     "data": {
      "text/plain": [
       "'100'"
      ]
     },
     "execution_count": 7,
     "metadata": {},
     "output_type": "execute_result"
    }
   ],
   "source": [
    "i = 100\n",
    "str(i)"
   ]
  },
  {
   "cell_type": "markdown",
   "metadata": {},
   "source": [
    "## 6 十转ASCII\n",
    "十进制整数对应的 A SCII 字符"
   ]
  },
  {
   "cell_type": "code",
   "execution_count": 8,
   "metadata": {
    "ExecuteTime": {
     "end_time": "2020-06-22T05:00:06.726949Z",
     "start_time": "2020-06-22T05:00:06.717955Z"
    }
   },
   "outputs": [
    {
     "data": {
      "text/plain": [
       "'A'"
      ]
     },
     "execution_count": 8,
     "metadata": {},
     "output_type": "execute_result"
    }
   ],
   "source": [
    " chr(65)"
   ]
  },
  {
   "cell_type": "markdown",
   "metadata": {},
   "source": [
    "## 7 ASCII转十\n",
    "A SCII字符对应的十进制数"
   ]
  },
  {
   "cell_type": "code",
   "execution_count": 9,
   "metadata": {
    "ExecuteTime": {
     "end_time": "2020-06-22T05:00:34.418337Z",
     "start_time": "2020-06-22T05:00:34.409342Z"
    }
   },
   "outputs": [
    {
     "data": {
      "text/plain": [
       "65"
      ]
     },
     "execution_count": 9,
     "metadata": {},
     "output_type": "execute_result"
    }
   ],
   "source": [
    " ord('A')\n"
   ]
  },
  {
   "cell_type": "markdown",
   "metadata": {},
   "source": [
    "## 8 转为字典\n",
    "创建数据字典的几种方法"
   ]
  },
  {
   "cell_type": "code",
   "execution_count": 10,
   "metadata": {
    "ExecuteTime": {
     "end_time": "2020-06-22T05:01:33.354306Z",
     "start_time": "2020-06-22T05:01:33.345313Z"
    }
   },
   "outputs": [
    {
     "data": {
      "text/plain": [
       "{'a': 1, 'b': 2}"
      ]
     },
     "execution_count": 10,
     "metadata": {},
     "output_type": "execute_result"
    }
   ],
   "source": [
    " dict()\n",
    " dict(a='a',b='b')\n",
    " dict(zip(['a','b'],[1,2]))\n",
    " dict([('a',1),('b',2)])\n"
   ]
  },
  {
   "cell_type": "markdown",
   "metadata": {},
   "source": [
    "## 9 转为浮点类型\n",
    "整数或数值型字符串转换为浮点数"
   ]
  },
  {
   "cell_type": "code",
   "execution_count": 13,
   "metadata": {
    "ExecuteTime": {
     "end_time": "2020-06-22T05:04:05.823449Z",
     "start_time": "2020-06-22T05:04:05.815453Z"
    }
   },
   "outputs": [
    {
     "data": {
      "text/plain": [
       "3.0"
      ]
     },
     "execution_count": 13,
     "metadata": {},
     "output_type": "execute_result"
    }
   ],
   "source": [
    "\n",
    " float(3)\n",
    "\n",
    "#不能转换为浮点数报错\n",
    "#ValueError: could not convert string to float: \n"
   ]
  },
  {
   "cell_type": "markdown",
   "metadata": {},
   "source": [
    "## 10 转为整型\n",
    "int( x , ba s e =10)\n",
    "x 可能为字符串或数值，将 x 转换为整数。\n",
    "如果参数是字符串，那么它可能包含符号和小数点。如果超出普通整数的表示范围，一个长整数被返\n",
    "回"
   ]
  },
  {
   "cell_type": "code",
   "execution_count": 14,
   "metadata": {
    "ExecuteTime": {
     "end_time": "2020-06-22T05:04:37.920275Z",
     "start_time": "2020-06-22T05:04:37.912278Z"
    }
   },
   "outputs": [
    {
     "data": {
      "text/plain": [
       "18"
      ]
     },
     "execution_count": 14,
     "metadata": {},
     "output_type": "execute_result"
    }
   ],
   "source": [
    " int('12',16)"
   ]
  },
  {
   "cell_type": "markdown",
   "metadata": {},
   "source": [
    "## 11 转为集合\n",
    "返回一个 s e t 对象，集合内不允许有重复元素："
   ]
  },
  {
   "cell_type": "code",
   "execution_count": 15,
   "metadata": {
    "ExecuteTime": {
     "end_time": "2020-06-22T05:05:44.114264Z",
     "start_time": "2020-06-22T05:05:44.103272Z"
    }
   },
   "outputs": [
    {
     "data": {
      "text/plain": [
       "{1, 2, 3, 4}"
      ]
     },
     "execution_count": 15,
     "metadata": {},
     "output_type": "execute_result"
    }
   ],
   "source": [
    " a = [1,4,2,3,1]\n",
    " set(a)\n"
   ]
  },
  {
   "cell_type": "markdown",
   "metadata": {},
   "source": [
    "## 12 转为切片\n",
    "slice（开始，结束，步进）"
   ]
  },
  {
   "cell_type": "code",
   "execution_count": 17,
   "metadata": {
    "ExecuteTime": {
     "end_time": "2020-06-22T05:06:26.522083Z",
     "start_time": "2020-06-22T05:06:26.510090Z"
    }
   },
   "outputs": [
    {
     "data": {
      "text/plain": [
       "[1, 2, 1]"
      ]
     },
     "execution_count": 17,
     "metadata": {},
     "output_type": "execute_result"
    }
   ],
   "source": [
    "a = [1,4,2,3,1]\n",
    "my_slice = slice(0,5,2)\n",
    "a[my_slice]"
   ]
  },
  {
   "cell_type": "markdown",
   "metadata": {},
   "source": [
    "## 13 转元组\n",
    "t u p l e ( ) 将对象转为一个不可变的序列类型"
   ]
  },
  {
   "cell_type": "code",
   "execution_count": 18,
   "metadata": {
    "ExecuteTime": {
     "end_time": "2020-06-22T05:32:11.030669Z",
     "start_time": "2020-06-22T05:32:11.020677Z"
    }
   },
   "outputs": [
    {
     "data": {
      "text/plain": [
       "[1, 3, 5, 7]"
      ]
     },
     "execution_count": 18,
     "metadata": {},
     "output_type": "execute_result"
    }
   ],
   "source": [
    "a=[1,3,5]\n",
    "a.append(7)\n",
    "a\n",
    "        "
   ]
  },
  {
   "cell_type": "markdown",
   "metadata": {},
   "source": [
    "## 14 转冻结集合\n",
    "创建不可修改的集合："
   ]
  },
  {
   "cell_type": "code",
   "execution_count": 19,
   "metadata": {
    "ExecuteTime": {
     "end_time": "2020-06-22T05:32:35.595057Z",
     "start_time": "2020-06-22T05:32:35.582070Z"
    }
   },
   "outputs": [
    {
     "data": {
      "text/plain": [
       "frozenset({1, 2, 3})"
      ]
     },
     "execution_count": 19,
     "metadata": {},
     "output_type": "execute_result"
    }
   ],
   "source": [
    "a = frozenset([1,1,3,2,3])\n",
    "a # a 无 pop,append,insert等方法"
   ]
  },
  {
   "cell_type": "markdown",
   "metadata": {},
   "source": [
    "## 15 商和余数\n",
    "分别取商和余数"
   ]
  },
  {
   "cell_type": "code",
   "execution_count": 20,
   "metadata": {
    "ExecuteTime": {
     "end_time": "2020-06-22T05:33:03.638562Z",
     "start_time": "2020-06-22T05:33:03.627572Z"
    }
   },
   "outputs": [
    {
     "data": {
      "text/plain": [
       "frozenset({1, 2, 3})"
      ]
     },
     "execution_count": 20,
     "metadata": {},
     "output_type": "execute_result"
    }
   ],
   "source": [
    " a = frozenset([1,1,3,2,3])\n",
    "a # a 无 pop,append,insert等方法"
   ]
  },
  {
   "cell_type": "markdown",
   "metadata": {},
   "source": [
    "## 16 幂和余同时做\n",
    "pow 三个参数都给出表示先幂运算再取余："
   ]
  },
  {
   "cell_type": "code",
   "execution_count": 21,
   "metadata": {
    "ExecuteTime": {
     "end_time": "2020-06-22T05:33:55.927843Z",
     "start_time": "2020-06-22T05:33:55.916851Z"
    }
   },
   "outputs": [
    {
     "data": {
      "text/plain": [
       "1"
      ]
     },
     "execution_count": 21,
     "metadata": {},
     "output_type": "execute_result"
    }
   ],
   "source": [
    " pow(3, 2, 4)"
   ]
  },
  {
   "cell_type": "markdown",
   "metadata": {},
   "source": [
    "## 17 四舍五入\n",
    "四舍五入， n d i g i t s 代表小数点后保留几位"
   ]
  },
  {
   "cell_type": "code",
   "execution_count": 22,
   "metadata": {
    "ExecuteTime": {
     "end_time": "2020-06-22T05:34:29.934368Z",
     "start_time": "2020-06-22T05:34:29.926373Z"
    }
   },
   "outputs": [
    {
     "data": {
      "text/plain": [
       "10.05"
      ]
     },
     "execution_count": 22,
     "metadata": {},
     "output_type": "execute_result"
    }
   ],
   "source": [
    "round(10.045, 2)\n",
    "\n",
    "round(10.046, 2)\n"
   ]
  },
  {
   "cell_type": "markdown",
   "metadata": {},
   "source": [
    "## 18 查看变量所占字节数"
   ]
  },
  {
   "cell_type": "code",
   "execution_count": 23,
   "metadata": {
    "ExecuteTime": {
     "end_time": "2020-06-22T05:35:14.496609Z",
     "start_time": "2020-06-22T05:35:14.486632Z"
    }
   },
   "outputs": [
    {
     "data": {
      "text/plain": [
       "232"
      ]
     },
     "execution_count": 23,
     "metadata": {},
     "output_type": "execute_result"
    }
   ],
   "source": [
    " import sys\n",
    "a = {'a':1,'b':2.0}\n",
    "sys.getsizeof(a) #  变量占用字节数"
   ]
  },
  {
   "cell_type": "markdown",
   "metadata": {},
   "source": [
    "## 19 门牌号\n",
    "返回对象的内存地址\n"
   ]
  },
  {
   "cell_type": "code",
   "execution_count": 25,
   "metadata": {
    "ExecuteTime": {
     "end_time": "2020-06-22T05:36:20.246369Z",
     "start_time": "2020-06-22T05:36:20.236371Z"
    }
   },
   "outputs": [
    {
     "data": {
      "text/plain": [
       "2511771458096"
      ]
     },
     "execution_count": 25,
     "metadata": {},
     "output_type": "execute_result"
    }
   ],
   "source": [
    " class Student():\n",
    "        def __init__(self,id,name):\n",
    "         self.id = id\n",
    "         self.name = name\n",
    "\n",
    "xiaoming = Student('001','xiaoming')\n",
    "id(xiaoming)"
   ]
  },
  {
   "cell_type": "markdown",
   "metadata": {},
   "source": [
    "## 20 排序函数\n",
    "排序"
   ]
  },
  {
   "cell_type": "code",
   "execution_count": 35,
   "metadata": {
    "ExecuteTime": {
     "end_time": "2020-06-22T06:18:55.136360Z",
     "start_time": "2020-06-22T06:18:55.124367Z"
    }
   },
   "outputs": [
    {
     "data": {
      "text/plain": [
       "[4, 3, 2, 1, 1]"
      ]
     },
     "execution_count": 35,
     "metadata": {},
     "output_type": "execute_result"
    }
   ],
   "source": [
    " a = [1,4,2,3,1]\n",
    "#降序\n",
    "sorted(a,reverse=True)\n"
   ]
  },
  {
   "cell_type": "code",
   "execution_count": 34,
   "metadata": {
    "ExecuteTime": {
     "end_time": "2020-06-22T06:18:49.057681Z",
     "start_time": "2020-06-22T06:18:49.039693Z"
    }
   },
   "outputs": [
    {
     "data": {
      "text/plain": [
       "[{'name': 'xiaoming', 'age': 18, 'gender': 'male'},\n",
       " {'name': 'xiaohong', 'age': 20, 'gender': 'female'}]"
      ]
     },
     "execution_count": 34,
     "metadata": {},
     "output_type": "execute_result"
    }
   ],
   "source": [
    "a = [{'name':'xiaoming','age':18,'gender':'male'},\n",
    " {'name':'xiaohong','age':20,'gender':'female'}]\n",
    "#按 age升序\n",
    "sorted(a,key=lambda x: x['age'],reverse=False)"
   ]
  },
  {
   "cell_type": "markdown",
   "metadata": {},
   "source": [
    "## 21 求和函数\n",
    "求和：\n"
   ]
  },
  {
   "cell_type": "code",
   "execution_count": 27,
   "metadata": {
    "ExecuteTime": {
     "end_time": "2020-06-22T05:38:34.889455Z",
     "start_time": "2020-06-22T05:38:34.876462Z"
    }
   },
   "outputs": [
    {
     "data": {
      "text/plain": [
       "11"
      ]
     },
     "execution_count": 27,
     "metadata": {},
     "output_type": "execute_result"
    }
   ],
   "source": [
    " a = [1,4,2,3,1]\n",
    "sum(a)\n"
   ]
  },
  {
   "cell_type": "markdown",
   "metadata": {},
   "source": [
    "## 22 计算表达式\n",
    "计算字符串型表达式的值"
   ]
  },
  {
   "cell_type": "code",
   "execution_count": 33,
   "metadata": {
    "ExecuteTime": {
     "end_time": "2020-06-22T05:40:31.869461Z",
     "start_time": "2020-06-22T05:40:31.861472Z"
    }
   },
   "outputs": [
    {
     "name": "stdout",
     "output_type": "stream",
     "text": [
      "9 [1, 3, 5, 1, 3, 5, 1, 3, 5]\n"
     ]
    }
   ],
   "source": [
    "s = \"1 + 3 +5\"\n",
    "a=eval(s)\n",
    "b=eval('[1,3,5]*3')\n",
    "\n",
    "print(a,b)\n"
   ]
  },
  {
   "cell_type": "markdown",
   "metadata": {},
   "source": [
    "## 23 真假"
   ]
  },
  {
   "cell_type": "code",
   "execution_count": 36,
   "metadata": {
    "ExecuteTime": {
     "end_time": "2020-06-22T06:19:40.529774Z",
     "start_time": "2020-06-22T06:19:40.519777Z"
    }
   },
   "outputs": [
    {
     "data": {
      "text/plain": [
       "False"
      ]
     },
     "execution_count": 36,
     "metadata": {},
     "output_type": "execute_result"
    }
   ],
   "source": [
    "bool(0)"
   ]
  },
  {
   "cell_type": "code",
   "execution_count": 38,
   "metadata": {
    "ExecuteTime": {
     "end_time": "2020-06-22T06:19:54.507616Z",
     "start_time": "2020-06-22T06:19:54.498619Z"
    }
   },
   "outputs": [
    {
     "data": {
      "text/plain": [
       "False"
      ]
     },
     "execution_count": 38,
     "metadata": {},
     "output_type": "execute_result"
    }
   ],
   "source": [
    "bool(False)"
   ]
  },
  {
   "cell_type": "code",
   "execution_count": 39,
   "metadata": {
    "ExecuteTime": {
     "end_time": "2020-06-22T06:20:55.196144Z",
     "start_time": "2020-06-22T06:20:55.185150Z"
    }
   },
   "outputs": [
    {
     "data": {
      "text/plain": [
       "False"
      ]
     },
     "execution_count": 39,
     "metadata": {},
     "output_type": "execute_result"
    }
   ],
   "source": [
    "bool(None)"
   ]
  },
  {
   "cell_type": "code",
   "execution_count": 40,
   "metadata": {
    "ExecuteTime": {
     "end_time": "2020-06-22T06:20:56.097626Z",
     "start_time": "2020-06-22T06:20:56.085634Z"
    }
   },
   "outputs": [
    {
     "data": {
      "text/plain": [
       "False"
      ]
     },
     "execution_count": 40,
     "metadata": {},
     "output_type": "execute_result"
    }
   ],
   "source": [
    "bool([])"
   ]
  },
  {
   "cell_type": "code",
   "execution_count": 41,
   "metadata": {
    "ExecuteTime": {
     "end_time": "2020-06-22T06:20:57.087058Z",
     "start_time": "2020-06-22T06:20:57.078064Z"
    }
   },
   "outputs": [
    {
     "data": {
      "text/plain": [
       "True"
      ]
     },
     "execution_count": 41,
     "metadata": {},
     "output_type": "execute_result"
    }
   ],
   "source": [
    "bool([False])"
   ]
  },
  {
   "cell_type": "code",
   "execution_count": 42,
   "metadata": {
    "ExecuteTime": {
     "end_time": "2020-06-22T06:20:58.166668Z",
     "start_time": "2020-06-22T06:20:58.155673Z"
    }
   },
   "outputs": [
    {
     "data": {
      "text/plain": [
       "True"
      ]
     },
     "execution_count": 42,
     "metadata": {},
     "output_type": "execute_result"
    }
   ],
   "source": [
    "bool([0,0,0])"
   ]
  },
  {
   "cell_type": "markdown",
   "metadata": {},
   "source": [
    "## 24 都为真\n",
    "如果可迭代对象的所有元素都为真，那么返回 T r u e ，否则返回 F a l s e\n",
    "所以不是所有元素都为真"
   ]
  },
  {
   "cell_type": "code",
   "execution_count": 43,
   "metadata": {
    "ExecuteTime": {
     "end_time": "2020-06-22T06:21:29.915295Z",
     "start_time": "2020-06-22T06:21:29.906298Z"
    }
   },
   "outputs": [
    {
     "data": {
      "text/plain": [
       "False"
      ]
     },
     "execution_count": 43,
     "metadata": {},
     "output_type": "execute_result"
    }
   ],
   "source": [
    "all([1,0,3,6])"
   ]
  },
  {
   "cell_type": "code",
   "execution_count": 44,
   "metadata": {
    "ExecuteTime": {
     "end_time": "2020-06-22T06:21:59.258188Z",
     "start_time": "2020-06-22T06:21:59.247194Z"
    }
   },
   "outputs": [
    {
     "data": {
      "text/plain": [
       "True"
      ]
     },
     "execution_count": 44,
     "metadata": {},
     "output_type": "execute_result"
    }
   ],
   "source": [
    "#所有元素都为真\n",
    "all([1,2,3])"
   ]
  },
  {
   "cell_type": "markdown",
   "metadata": {},
   "source": [
    "## 25至少一个为真\n",
    "接受一个可迭代对象，如果可迭代对象里至少有一个元素为真，那么返回 T r u e ，否则返回 F a l s e\n"
   ]
  },
  {
   "cell_type": "code",
   "execution_count": 45,
   "metadata": {
    "ExecuteTime": {
     "end_time": "2020-06-22T06:22:46.915733Z",
     "start_time": "2020-06-22T06:22:46.905737Z"
    }
   },
   "outputs": [
    {
     "data": {
      "text/plain": [
       "False"
      ]
     },
     "execution_count": 45,
     "metadata": {},
     "output_type": "execute_result"
    }
   ],
   "source": [
    "# 没有一个元素为真\n",
    ">>> any([0,0,0,[]])"
   ]
  },
  {
   "cell_type": "code",
   "execution_count": 46,
   "metadata": {
    "ExecuteTime": {
     "end_time": "2020-06-22T06:22:50.073009Z",
     "start_time": "2020-06-22T06:22:50.060018Z"
    }
   },
   "outputs": [
    {
     "data": {
      "text/plain": [
       "True"
      ]
     },
     "execution_count": 46,
     "metadata": {},
     "output_type": "execute_result"
    }
   ],
   "source": [
    "# 至少一个元素为真\n",
    ">>> any([0,0,1])"
   ]
  },
  {
   "cell_type": "markdown",
   "metadata": {},
   "source": [
    "## 26 获取用户输入\n"
   ]
  },
  {
   "cell_type": "code",
   "execution_count": 49,
   "metadata": {
    "ExecuteTime": {
     "end_time": "2020-06-22T06:24:19.863866Z",
     "start_time": "2020-06-22T06:24:16.299911Z"
    }
   },
   "outputs": [
    {
     "name": "stdout",
     "output_type": "stream",
     "text": [
      "输入内容55\n"
     ]
    }
   ],
   "source": [
    "#获取用户输入内容\n",
    "\n",
    "a=input('输入内容：')"
   ]
  },
  {
   "cell_type": "markdown",
   "metadata": {},
   "source": [
    "## 27 print 用法\n"
   ]
  },
  {
   "cell_type": "code",
   "execution_count": null,
   "metadata": {},
   "outputs": [],
   "source": [
    "lst = [1,3,5]\n",
    "# f 打印\n",
    "print(f'lst: {lst}')"
   ]
  },
  {
   "cell_type": "code",
   "execution_count": 59,
   "metadata": {
    "ExecuteTime": {
     "end_time": "2020-06-22T06:31:16.277162Z",
     "start_time": "2020-06-22T06:31:16.269166Z"
    }
   },
   "outputs": [
    {
     "name": "stdout",
     "output_type": "stream",
     "text": [
      "lst:[1, 3, 5]\n",
      "简化的打印[1, 3, 5]\n"
     ]
    }
   ],
   "source": [
    "lst = [1,3,5]\n",
    "# format 打印\n",
    "print('格式化打印变量:{}'.format(lst))\n",
    "\n",
    "print(f\"简化的打印{lst}\")"
   ]
  },
  {
   "cell_type": "markdown",
   "metadata": {},
   "source": [
    "## 28 字符串格式化\n",
    "格式化字符串常见用法"
   ]
  },
  {
   "cell_type": "code",
   "execution_count": 60,
   "metadata": {
    "ExecuteTime": {
     "end_time": "2020-06-22T06:33:41.931670Z",
     "start_time": "2020-06-22T06:33:41.923676Z"
    }
   },
   "outputs": [
    {
     "name": "stdout",
     "output_type": "stream",
     "text": [
      "i am tom,age 18\n"
     ]
    }
   ],
   "source": [
    "print(\"i am {0},age {1}\".format(\"tom\",18))"
   ]
  },
  {
   "cell_type": "code",
   "execution_count": 61,
   "metadata": {
    "ExecuteTime": {
     "end_time": "2020-06-22T06:33:43.194543Z",
     "start_time": "2020-06-22T06:33:43.182014Z"
    }
   },
   "outputs": [
    {
     "name": "stdout",
     "output_type": "stream",
     "text": [
      "3.14\n"
     ]
    }
   ],
   "source": [
    "print(\"{:.2f}\".format(3.1415926)) # 保留小数点后两位"
   ]
  },
  {
   "cell_type": "code",
   "execution_count": 62,
   "metadata": {
    "ExecuteTime": {
     "end_time": "2020-06-22T06:33:44.245516Z",
     "start_time": "2020-06-22T06:33:44.234523Z"
    }
   },
   "outputs": [
    {
     "name": "stdout",
     "output_type": "stream",
     "text": [
      "-1.00\n"
     ]
    }
   ],
   "source": [
    "print(\"{:+.2f}\".format(-1)) # 带符号保留小数点后两位"
   ]
  },
  {
   "cell_type": "code",
   "execution_count": 63,
   "metadata": {
    "ExecuteTime": {
     "end_time": "2020-06-22T06:33:45.271927Z",
     "start_time": "2020-06-22T06:33:45.262933Z"
    }
   },
   "outputs": [
    {
     "name": "stdout",
     "output_type": "stream",
     "text": [
      "3\n"
     ]
    }
   ],
   "source": [
    "print(\"{:.0f}\".format(2.718)) # 不带小数位"
   ]
  },
  {
   "cell_type": "code",
   "execution_count": 64,
   "metadata": {
    "ExecuteTime": {
     "end_time": "2020-06-22T06:33:46.489229Z",
     "start_time": "2020-06-22T06:33:46.480234Z"
    }
   },
   "outputs": [
    {
     "name": "stdout",
     "output_type": "stream",
     "text": [
      "005\n"
     ]
    }
   ],
   "source": [
    "print(\"{:0>3d}\".format(5)) # 整数补零，填充左边, 宽度为3"
   ]
  },
  {
   "cell_type": "code",
   "execution_count": 65,
   "metadata": {
    "ExecuteTime": {
     "end_time": "2020-06-22T06:33:47.766442Z",
     "start_time": "2020-06-22T06:33:47.756448Z"
    }
   },
   "outputs": [
    {
     "name": "stdout",
     "output_type": "stream",
     "text": [
      "10,241,024\n"
     ]
    }
   ],
   "source": [
    "print(\"{:,}\".format(10241024)) # 以逗号分隔的数字格式"
   ]
  },
  {
   "cell_type": "code",
   "execution_count": 66,
   "metadata": {
    "ExecuteTime": {
     "end_time": "2020-06-22T06:33:48.760871Z",
     "start_time": "2020-06-22T06:33:48.748882Z"
    }
   },
   "outputs": [
    {
     "name": "stdout",
     "output_type": "stream",
     "text": [
      "71.80%\n"
     ]
    }
   ],
   "source": [
    "print(\"{:.2%}\".format(0.718)) # 百分比格式"
   ]
  },
  {
   "cell_type": "code",
   "execution_count": 67,
   "metadata": {
    "ExecuteTime": {
     "end_time": "2020-06-22T06:33:49.847248Z",
     "start_time": "2020-06-22T06:33:49.839252Z"
    }
   },
   "outputs": [
    {
     "name": "stdout",
     "output_type": "stream",
     "text": [
      "1.02e+07\n"
     ]
    }
   ],
   "source": [
    "print(\"{:.2e}\".format(10241024)) # 指数记法"
   ]
  },
  {
   "cell_type": "markdown",
   "metadata": {},
   "source": [
    "## 29 返回对象哈希值\n",
    "返回对象的哈希值。值得注意，自定义的实例都可哈希：\n",
    ">>> class Student():\n",
    " def __init__(self,id,name):\n",
    "/\n",
    " self.id = id\n",
    " self.name = name\n",
    "\n",
    ">>> xiaoming = Student('001','xiaoming')\n",
    ">>> hash(xiaoming)\n",
    "-9223371894234104688\n",
    "l i s t , d i c t , s e t 等可变对象都不可哈希(unha shabl e )：\n",
    ">>> hash([1,3,5])\n",
    "Traceback (most recent call last):\n",
    " File \"<pyshell#71>\", line 1, in <module>\n",
    " hash([1,3,5])\n",
    "TypeError: unhashable type: 'list'"
   ]
  },
  {
   "cell_type": "markdown",
   "metadata": {},
   "source": [
    "## 30 打开文件\n",
    "mode 取值表：\n",
    "字符 意义\n",
    "' r ' 读取（默认）\n",
    "' w ' 写入，并先截断文件\n",
    "' x ' 排它性创建，如果文件已存在则失败\n",
    "' a ' 写入，如果文件存在则在末尾追加\n",
    "' b ' 二进制模式\n",
    "' t ' 文本模式（默认）\n",
    "' + ' 打开用于更新（读取与写入）"
   ]
  },
  {
   "cell_type": "code",
   "execution_count": 69,
   "metadata": {
    "ExecuteTime": {
     "end_time": "2020-06-22T06:36:34.612472Z",
     "start_time": "2020-06-22T06:36:34.599480Z"
    }
   },
   "outputs": [
    {
     "name": "stdout",
     "output_type": "stream",
     "text": [
      "Writing text.py\n"
     ]
    }
   ],
   "source": [
    "%%writefile text.py\n",
    "import os\n",
    "os.chdir(r'text.py')\n",
    "os.listdir()\n",
    "o = open('drinksbycountry.csv',mode='r',encoding='utf-8')\n",
    "o.read()\n"
   ]
  },
  {
   "cell_type": "markdown",
   "metadata": {},
   "source": [
    "## 31 查看对象类型\n"
   ]
  },
  {
   "cell_type": "code",
   "execution_count": 70,
   "metadata": {
    "ExecuteTime": {
     "end_time": "2020-06-22T06:42:32.599607Z",
     "start_time": "2020-06-22T06:42:32.581618Z"
    }
   },
   "outputs": [
    {
     "data": {
      "text/plain": [
       "set"
      ]
     },
     "execution_count": 70,
     "metadata": {},
     "output_type": "execute_result"
    }
   ],
   "source": [
    "type({4,6,1})"
   ]
  },
  {
   "cell_type": "code",
   "execution_count": 71,
   "metadata": {
    "ExecuteTime": {
     "end_time": "2020-06-22T06:42:33.289211Z",
     "start_time": "2020-06-22T06:42:33.275220Z"
    }
   },
   "outputs": [
    {
     "data": {
      "text/plain": [
       "dict"
      ]
     },
     "execution_count": 71,
     "metadata": {},
     "output_type": "execute_result"
    }
   ],
   "source": [
    " type({'a':[1,2,3],'b':[4,5,6]})"
   ]
  },
  {
   "cell_type": "code",
   "execution_count": 73,
   "metadata": {
    "ExecuteTime": {
     "end_time": "2020-06-22T06:43:33.287413Z",
     "start_time": "2020-06-22T06:43:33.271421Z"
    }
   },
   "outputs": [
    {
     "data": {
      "text/plain": [
       "__main__.Student"
      ]
     },
     "execution_count": 73,
     "metadata": {},
     "output_type": "execute_result"
    }
   ],
   "source": [
    "class Student():\n",
    "     def __init__(self,id,name):\n",
    "         self.id = id\n",
    "         self.name = name\n",
    "type(Student('1','xiaoming'))"
   ]
  },
  {
   "cell_type": "markdown",
   "metadata": {},
   "source": [
    "## 32 两种创建属性方法"
   ]
  },
  {
   "cell_type": "code",
   "execution_count": 76,
   "metadata": {
    "ExecuteTime": {
     "end_time": "2020-06-22T06:46:05.602283Z",
     "start_time": "2020-06-22T06:46:05.589292Z"
    }
   },
   "outputs": [
    {
     "ename": "IndentationError",
     "evalue": "unindent does not match any outer indentation level (<tokenize>, line 12)",
     "output_type": "error",
     "traceback": [
      "\u001b[1;36m  File \u001b[1;32m\"<tokenize>\"\u001b[1;36m, line \u001b[1;32m12\u001b[0m\n\u001b[1;33m    x = property(getx, setx, delx, \"I'm the 'x' property.\")\u001b[0m\n\u001b[1;37m    ^\u001b[0m\n\u001b[1;31mIndentationError\u001b[0m\u001b[1;31m:\u001b[0m unindent does not match any outer indentation level\n"
     ]
    }
   ],
   "source": [
    "##返回 prope rt y 属性，典型的用法：\n",
    "class C:\n",
    "     def __init__(self):\n",
    "         self._x = None\n",
    "     def getx(self):\n",
    "         return self._x\n",
    "     def setx(self, value):\n",
    "         self._x = value\n",
    "     def delx(self):\n",
    "     del self._x\n",
    " # 使用property类创建 property 属性\n",
    "x = property(getx, setx, delx, \"I'm the 'x' property.\")\n",
    "使用 C 类：\n",
    ">>> C().x=1\n",
    ">>> c=C()\n",
    "# 属性x赋值\n",
    ">>> c.x=1\n",
    "/\n",
    "# 拿值\n",
    ">>> c.getx()\n",
    "1\n",
    "# 删除属性x\n",
    ">>> c.delx()\n",
    "# 再拿报错\n",
    ">>> c.getx()\n",
    "Traceback (most recent call last):\n",
    " File \"<pyshell#118>\", line 1, in <module>\n",
    " c.getx()\n",
    " File \"<pyshell#112>\", line 5, in getx\n",
    " return self._x\n",
    "AttributeError: 'C' object has no attribute '_x'\n",
    "# 再属性赋值\n",
    ">>> c.x=1\n",
    ">>> c.setx(1)\n",
    ">>> c.getx()"
   ]
  },
  {
   "cell_type": "code",
   "execution_count": null,
   "metadata": {},
   "outputs": [],
   "source": [
    "##使用 @ p r o p e r t y 装饰器，实现与上完全一样的效果：\n",
    "class C:\n",
    " def __init__(self):\n",
    " self._x = None\n",
    " @property\n",
    " def x(self):\n",
    " return self._x\n",
    " @x.setter\n",
    " def x(self, value):\n",
    " self._x = value\n",
    " @x.deleter\n",
    " def x(self):\n",
    " del self._x"
   ]
  },
  {
   "cell_type": "markdown",
   "metadata": {},
   "source": [
    "## 33 是否可调用\n",
    "判断对象是否可被调用，能被调用的对象是一个 c a l l a b l e 对象。\n",
    "/\n",
    ">>> callable(str)\n",
    "True\n",
    ">>> callable(int)\n",
    "True\n",
    "Student 对象实例目前不可调用：\n",
    ">>> class Student():\n",
    " def __init__(self,id,name):\n",
    " self.id = id\n",
    " self.name = name\n",
    ">>> xiaoming = Student(id='1',name='xiaoming')\n",
    ">>> callable(xiaoming)\n",
    "False\n",
    "如果 x i a o m i n g 能被调用 , 需要重写 S t u d e n t 类的 _ _ c a l l _ _ 方法：\n",
    ">>> class Student():\n",
    " def __init__(self,id,name):\n",
    " self.id = id\n",
    " self.name = name\n",
    " def __call__(self):\n",
    " print('I can be called')\n",
    " print(f'my name is {self.name}')\n",
    "此时调用 x i aoming():\n",
    ">>> xiaoming = Student('001','xiaoming')\n",
    ">>> xiaoming()\n",
    "I can be called\n",
    "my name is xiaoming"
   ]
  },
  {
   "cell_type": "markdown",
   "metadata": {},
   "source": [
    "## 34 动态删除属性\n",
    "删除对象的属性\n",
    ">>> class Student():\n",
    "/\n",
    " def __init__(self,id,name):\n",
    " self.id = id\n",
    " self.name = name\n",
    ">>> xiaoming = Student('001','xiaoming')\n",
    ">>> delattr(xiaoming,'id')\n",
    ">>> hasattr(xiaoming,'id')\n",
    "False"
   ]
  },
  {
   "cell_type": "markdown",
   "metadata": {},
   "source": [
    "## 35 动态获取对象属性\n",
    "获取对象的属性\n",
    ">>> class Student():\n",
    " def __init__(self,id,name):\n",
    " self.id = id\n",
    " self.name = name\n",
    "\n",
    ">>> xiaoming = Student('001','xiaoming')\n",
    ">>> getattr(xiaoming,'name') # 获取name的属性值\n",
    "'xiaoming'\n"
   ]
  },
  {
   "cell_type": "markdown",
   "metadata": {},
   "source": [
    "## 36 对象是否有某个属性\n",
    ">>> class Student():\n",
    " def __init__(self,id,name):\n",
    " self.id = id\n",
    " self.name = name\n",
    "\n",
    ">>> xiaoming = Student('001','xiaoming')\n",
    ">>> getattr(xiaoming,'name')# 判断 xiaoming有无 name属性\n",
    "'xiaoming'\n",
    ">>> hasattr(xiaoming,'name')\n",
    "True\n",
    ">>> hasattr(xiaoming,'address')\n",
    "False\n"
   ]
  },
  {
   "cell_type": "markdown",
   "metadata": {},
   "source": [
    "## 37 i s ins tance\n",
    "判断objec t是否为c las s info的实例，是返回true\n",
    "/\n",
    ">>> class Student():\n",
    " def __init__(self,id,name):\n",
    " self.id = id\n",
    " self.name = name\n",
    "\n",
    ">>> xiaoming = Student('001','xiaoming')\n",
    ">>> isinstance(xiaoming,Student)\n",
    "True\n"
   ]
  },
  {
   "cell_type": "markdown",
   "metadata": {},
   "source": [
    "## 38 父子关系鉴定\n",
    ">>> class Student():\n",
    " def __init__(self,id,name):\n",
    " self.id = id\n",
    " self.name = name\n",
    "\n",
    ">>> class Undergraduate(Student):\n",
    " pass\n",
    "\n",
    "# 判断 Undergraduate 类是否为 Student 的子类\n",
    ">>> issubclass(Undergraduate,Student)\n",
    "True\n",
    "第二个参数可为元组：\n",
    ">>> issubclass(int,(int,float))\n",
    "True\n"
   ]
  },
  {
   "cell_type": "markdown",
   "metadata": {},
   "source": [
    "## 39 所有对象之根\n",
    "obj e c t 是所有类的基类\n",
    ">>> isinstance(1,object)\n",
    "True\n",
    ">>> isinstance([],object)\n",
    "True"
   ]
  },
  {
   "cell_type": "markdown",
   "metadata": {},
   "source": [
    "## 40 一键查看对象所有方法\n",
    "/\n",
    "不带参数时返回 当前范围 内的变量、方法和定义的类型列表；带参数时返回 参数 的属性，方法列\n",
    "表。\n",
    ">>> class Student():\n",
    " def __init__(self,id,name):\n",
    " self.id = id\n",
    " self.name = name\n",
    ">>> xiaoming = Student('001','xiaoming')\n",
    ">>> dir(xiaoming)\n",
    "['__call__', '__class__', '__delattr__', '__dict__', '__dir__', '__doc__', '__eq__', '__format__', '__ge__\n"
   ]
  },
  {
   "cell_type": "markdown",
   "metadata": {},
   "source": [
    "## 41 枚举对象\n",
    "Py thon 的枚举对象\n",
    ">>> s = [\"a\",\"b\",\"c\"]\n",
    ">>> for i,v in enumerate(s):\n",
    " print(i,v)\n",
    "0 a"
   ]
  },
  {
   "cell_type": "markdown",
   "metadata": {},
   "source": [
    "## 42 创建迭代器\n",
    ">>> class TestIter():\n",
    "def __init__(self,lst):\n",
    " self.lst = lst\n",
    "\n",
    "# 重写可迭代协议__iter__\n",
    "def __iter__(self):\n",
    " print('__iter__ is called')\n",
    " return iter(self.lst)\n",
    "迭代 Te s tIt e r 类：\n",
    ">>> t = TestIter()\n",
    ">>> t = TestIter([1,3,5,7,9])\n",
    ">>> class Student():\n",
    " def __init__(self,id,name):\n",
    " self.id = id\n",
    " self.name = name\n",
    ">>> xiaoming = Student('001','xiaoming')\n",
    ">>> dir(xiaoming)\n",
    "['__call__', '__class__', '__delattr__', '__dict__', '__dir__', '__doc__', '__eq__', '__format__', '__ge__\n",
    "/\n",
    ">>> for e in t:\n",
    " print(e)\n",
    "__iter__ is called\n",
    "1\n",
    "3\n",
    "5\n",
    "7\n",
    "9\n",
    "43"
   ]
  },
  {
   "cell_type": "markdown",
   "metadata": {},
   "source": [
    "## 43 创建range迭代器\n",
    "1. r ange ( s top)\n",
    "2. r ange ( s t a rt, s top[, s t ep])\n",
    "生成一个不可变序列的迭代器：\n",
    ">>> t = range(11)\n",
    ">>> t = range(0,11,2)\n",
    ">>> for e in t:\n",
    " print(e)\n",
    "0\n",
    "2\n",
    "4\n",
    "6\n",
    "8\n",
    "10"
   ]
  },
  {
   "cell_type": "markdown",
   "metadata": {},
   "source": [
    "## 44 反向\n",
    ">>> rev = reversed([1,4,2,3,1])\n",
    ">>> for i in rev:\n",
    " print(i)\n",
    "1\n",
    "3\n",
    "2\n",
    "4\n",
    "1"
   ]
  },
  {
   "cell_type": "markdown",
   "metadata": {},
   "source": [
    "## 45 打包\n",
    "聚合各个可迭代对象的迭代器：\n",
    ">>> x = [3,2,1]\n",
    ">>> y = [4,5,6]\n",
    ">>> list(zip(y,x))\n",
    "[(4, 3), (5, 2), (6, 1)]\n",
    ">>> for i,j in zip(y,x):\n",
    " print(i,j)\n",
    "4 3\n",
    "5 2\n",
    "6 1\n",
    "46 "
   ]
  },
  {
   "cell_type": "markdown",
   "metadata": {},
   "source": [
    "## 46 过滤器\n",
    "函数通过 l ambda 表达式设定过滤条件，保留 l ambda 表达式为 T r u e 的元素：\n",
    ">>> fil = filter(lambda x: x>10,[1,11,2,45,7,6,13])\n",
    ">>> for e in fil:\n",
    " print(e)\n",
    "11\n",
    "45\n",
    "13\n",
    "47 链式比"
   ]
  },
  {
   "cell_type": "markdown",
   "metadata": {},
   "source": [
    "## 47 链式比较\n",
    ">>> i = 3\n",
    ">>> 1 < i < 3\n",
    "False\n",
    ">>> 1 < i <=3\n",
    "True\n"
   ]
  },
  {
   "cell_type": "markdown",
   "metadata": {},
   "source": [
    "## 48 链式操作\n",
    ">>> from operator import (add, sub)\n",
    "/\n",
    ">>> def add_or_sub(a, b, oper):\n",
    "return (add if oper == '+' else sub)(a, b)\n",
    ">>> add_or_sub(1, 2, '-')\n",
    "-1"
   ]
  },
  {
   "cell_type": "markdown",
   "metadata": {},
   "source": [
    "## 49 spli t 分割* *\n",
    ">>> 'i love python'.split(' ')\n",
    "['i', 'love', 'python']"
   ]
  },
  {
   "cell_type": "markdown",
   "metadata": {},
   "source": [
    "## 50 replace 替换\n",
    ">>> 'i\\tlove\\tpython'.replace('\\t',',')\n",
    "'i,love,python'"
   ]
  },
  {
   "cell_type": "markdown",
   "metadata": {},
   "source": [
    "## 51 反转字符串\n",
    ">>> st=\"python\"\n",
    ">>> ''.join(reversed(st))\n",
    "'nohtyp'"
   ]
  },
  {
   "cell_type": "markdown",
   "metadata": {},
   "source": [
    "## 52 使用t ime模块打印当前时间\n",
    "/\n",
    "# 导入time模块\n",
    ">>> import time\n",
    "# 打印当前时间，返回浮点数\n",
    ">>> seconds = time.time()\n",
    ">>> seconds\n",
    "1588858156.6146255"
   ]
  },
  {
   "cell_type": "markdown",
   "metadata": {},
   "source": [
    "## 53 浮点数转时间结构体\n",
    " 浮点数转时间结构体\n",
    ">>> local_time = time.localtime(seconds)\n",
    ">>> local_time\n",
    "time.struct_time(tm_year=2020, tm_mon=5, tm_mday=7, tm_hour=21, tm_min=29, tm_sec=16, tm_wday=3, tm_yday=12\n",
    "\n",
    "tm_ y e a r: 年\n",
    "tm_mon: 月\n",
    "tm_mda y : 日\n",
    "tm_hour: 小时\n",
    "tm_min：分\n",
    "tm_ s e c : 分\n",
    "tm_ s e c : 秒\n",
    "tm_wda y : 一周中索引([0,6], 周一的索引:0)\n",
    "tm_ yda y : 一年中索引([1,366])\n",
    "tm_ i sds t: 1 if summe r time i s in e ff e c t, 0 if not, and -1 if unknown"
   ]
  },
  {
   "cell_type": "markdown",
   "metadata": {},
   "source": [
    "## 54 时间结构体转时间字符串\n",
    "# 时间结构体转时间字符串\n",
    ">>> str_time = time.asctime(local_time)\n",
    ">>> str_time\n",
    "'Thu May 7 21:29:16 2020'"
   ]
  },
  {
   "cell_type": "markdown",
   "metadata": {},
   "source": [
    "## 55 时间结构体转指定格式时间字符串\n",
    "# 浮点数转时间结构体\n",
    ">>> local_time = time.localtime(seconds)\n",
    ">>> local_time\n",
    "time.struct_time(tm_year=2020, tm_mon=5, tm_mday=7, tm_hour=21, tm_min=29, tm_sec=16, tm_wday=3, tm_yday=12\n",
    "/\n",
    "# 时间结构体转指定格式的时间字符串\n",
    ">>> format_time = time.strftime('%Y.%m.%d %H:%M:%S',local_time)\n",
    ">>> format_time\n",
    "'2020.05.07 21:29:16'\n"
   ]
  },
  {
   "cell_type": "markdown",
   "metadata": {},
   "source": [
    "## 56 时间字符串转时间结构体\n",
    "# 时间字符串转时间结构体\n",
    ">>> time.strptime(format_time,'%Y.%m.%d %H:%M:%S')\n",
    "time.struct_time(tm_year=2020, tm_mon=5, tm_mday=7, tm_hour=21, tm_min=29, tm_sec=16, tm_wday=3, tm_yday=12\n"
   ]
  },
  {
   "cell_type": "markdown",
   "metadata": {},
   "source": [
    "## 57 年的日历图\n",
    ">>> import calendar\n",
    ">>> from datetime import date\n",
    ">>> mydate=date.today()\n",
    ">>> calendar.calendar(2020)"
   ]
  },
  {
   "cell_type": "markdown",
   "metadata": {},
   "source": [
    "## 58 月的日历图\n",
    ">>> import calendar\n",
    ">>> from datetime import date\n",
    ">>> mydate = date.today()\n",
    ">>> calendar.month(mydate.year, mydate.month)"
   ]
  },
  {
   "cell_type": "markdown",
   "metadata": {},
   "source": [
    "## 59 判断是否为闰年\n",
    ">>> import calendar\n",
    ">>> from datetime import date\n",
    ">>> mydate = date.today()\n",
    ">>> is_leap = calendar.isleap(mydate.year)\n",
    "/\n",
    ">>> (\"{}是闰年\" if is_leap else \"{}不是闰年\\n\").format(mydate.year)"
   ]
  },
  {
   "cell_type": "markdown",
   "metadata": {},
   "source": [
    "## 60 wi th 读写文件\n",
    "读文件：\n",
    "写文件：\n",
    "61 提取后缀名\n",
    ">>> import os\n",
    ">>> os.path.splitext('D:/source/dataset/new_file.txt')\n",
    "('D:/source/dataset/new_file', '.txt') #[1]：后缀名\n",
    "62 提取完整文件名\n",
    ">> import os\n",
    ">>> os.chdir('D:/source/dataset')\n",
    ">>> os.listdir()\n",
    "['drinksbycountry.csv', 'IMDB-Movie-Data.csv', 'movietweetings', 'test.csv', 'titanic_eda_data.csv', 'titan\n",
    "# 读文件\n",
    ">>> with open('drinksbycountry.csv',mode='r',encoding='utf-8') as f:\n",
    " o = f.read()\n",
    " print(o)\n",
    " \n",
    " \n",
    " \n",
    "\n",
    "# 写文件\n",
    ">>> with open('new_file.txt',mode='w',encoding='utf-8') as f:\n",
    " w = f.write('I love python\\n It\\'s so simple')\n",
    " os.listdir()\n",
    "['drinksbycountry.csv', 'IMDB-Movie-Data.csv', 'movietweetings', 'new_file.txt', 'test.csv', 'titanic_eda_d\n",
    ">>> with open('new_file.txt',mode='r',encoding='utf-8') as f:\n",
    " o = f.read()\n",
    " print(o)\n",
    "I love python\n",
    " It's so simple\n"
   ]
  },
  {
   "cell_type": "markdown",
   "metadata": {},
   "source": [
    "## 61 提取后缀名\n",
    ">>> import os\n",
    ">>> os.path.splitext('D:/source/dataset/new_file.txt')\n",
    "('D:/source/dataset/new_file', '.txt') #[1]：后缀名"
   ]
  },
  {
   "cell_type": "markdown",
   "metadata": {},
   "source": [
    "## 62 提取完整文件名\n",
    ">>> import os\n",
    ">>> os.path.split('D:/source/dataset/new_file.txt')\n",
    "('D:/source/dataset', 'new_file.txt')\n"
   ]
  },
  {
   "cell_type": "markdown",
   "metadata": {},
   "source": [
    "# 二、 Python 进阶 12 例"
   ]
  },
  {
   "cell_type": "markdown",
   "metadata": {},
   "source": [
    "## 63 斐波那契数列前n项\n",
    ">>> def fibonacci(n):\n",
    " a, b = 1, 1\n",
    " for _ in range(n):\n",
    " yield a\n",
    " a, b = b, a+b # 注意这种赋值\n",
    ">>> for fib in fibonacci(10):\n",
    " print(fib)"
   ]
  },
  {
   "cell_type": "markdown",
   "metadata": {},
   "source": [
    "## 64 li s t 等分 n 组\n",
    ">>> from math import ceil\n",
    ">>> def divide_iter(lst, n):\n",
    " if n <= 0:\n",
    " yield lst\n",
    " return\n",
    " i, div = 0, ceil(len(lst) / n)\n",
    " while i < n:\n",
    " yield lst[i * div: (i + 1) * div]\n",
    "/\n",
    " i += 1\n",
    "\n",
    ">>> for group in divide_iter([1,2,3,4,5],2):\n",
    " print(group)\n",
    "[1, 2, 3]\n",
    "[4, 5]\n"
   ]
  },
  {
   "cell_type": "markdown",
   "metadata": {},
   "source": [
    "## 65 yield 解释"
   ]
  },
  {
   "cell_type": "markdown",
   "metadata": {},
   "source": [
    "## 66 装饰器极简入门\n",
    "66.1 定义装饰器\n",
    "time 模块大家比较清楚，第一个导入 w r a p s 函数（装饰器）为确保被装饰的函数名称等属性不发\n",
    "生改变用的，这点现在不清楚也问题不大，实践一下就知道了。\n",
    "from functools import wraps\n",
    "import time\n",
    "定义一个装饰器：print _ info，装饰器函数入参要求为函数，返回值要求也为函数。\n",
    "如下，入参为函数 f, 返回参数 info 也为函数，满足要求。\n",
    "def print_info(f):\n",
    " \"\"\"\n",
    " @para: f, 入参函数名称\n",
    " \"\"\"\n",
    " @wraps(f) # 确保函数f名称等属性不发生改变\n",
    " def info():\n",
    " print('正在调用函数名称为： %s ' % (f.__name__,))\n",
    " t1 = time.time()\n",
    " f()\n",
    " t2 = time.time()\n",
    " delta = (t2 - t1)\n",
    " print('%s 函数执行时长为：%f s' % (f.__name__,delta))\n",
    " return info\n"
   ]
  },
  {
   "cell_type": "markdown",
   "metadata": {},
   "source": [
    "### 66.2使用装饰器\n",
    "使用 print _ info 装饰器，分别修饰 f1, f2 函数。\n",
    "软件工程要求尽量一次定义，多次被复用。\n",
    "@print_info\n",
    "def f1():\n",
    " time.sleep(1.0)\n",
    "@print_info\n",
    "def f2():\n",
    " time.sleep(2.0)\n",
    "66.3 使用装饰后的函"
   ]
  },
  {
   "cell_type": "markdown",
   "metadata": {},
   "source": [
    "### 66.3 使用装饰后的函数\n",
    "使用 f1, f2 函数：\n",
    "f1()\n",
    "f2()\n",
    "# 输出信息如下：\n",
    "# 正在调用函数名称为：f1\n",
    "# f1 函数执行时长为：1.000000 s\n",
    "# 正在调用函数名称为：f2\n",
    "# f2 函数执行时长为：2.000000 s"
   ]
  },
  {
   "cell_type": "markdown",
   "metadata": {},
   "source": [
    "## 67 迭代器案例\n",
    "/\n",
    "一个类如何成为迭代器类型，请看官方PEP说明：\n",
    "即必须实现两个方法（或者叫两种协议）： _ _ i t e r _ _ , _ _ n e x t _ _\n",
    "下面编写一个迭代器类：\n",
    "class YourRange():\n",
    " def __init__(self, start, end):\n",
    " self.value = start\n",
    " self.end = end\n",
    " # 成为迭代器类型的关键协议\n",
    " def __iter__(self):\n",
    " return self\n",
    " # 当前迭代器状态(位置)的下一个位置\n",
    " def __next__(self):\n",
    " if self.value >= self.end:\n",
    " raise StopIteration\n",
    " cur = self.value\n",
    " self.value += 1\n",
    " return cur\n",
    "使用这个迭代器：\n",
    "yr = YourRange(5, 12)\n",
    "for e in yr:\n",
    " print(e)\n",
    "迭代器实现 _ _ i t e r _ _ 协议，它就能在 for 上迭代，参考官网PEP解释："
   ]
  },
  {
   "cell_type": "markdown",
   "metadata": {},
   "source": [
    "## 68 matplot lib\n",
    "导入包：\n",
    "import matplotlib\n",
    "matplotlib.__version__ # '2.2.2'\n",
    "import matplotlib.pyplot as plt\n",
    "绘图代码：\n",
    "import matplotlib.pyplot as plt\n",
    "plt.plot([0, 1, 2, 3, 4, 5],\n",
    " [1.5, 1, -1.3, 0.7, 0.8, 0.9]\n",
    " ,c='red')\n",
    "plt.bar([0, 1, 2, 3, 4, 5],\n",
    " [2, 0.5, 0.7, -1.2, 0.3, 0.4]\n",
    " )\n",
    "plt.show()"
   ]
  },
  {
   "cell_type": "markdown",
   "metadata": {},
   "source": [
    "## 69 seaborn\n",
    "导入包：\n",
    "import seaborn as sns\n",
    "sns.__version__ # '0.8.0'\n",
    "绘制图：\n",
    "sns.barplot([0, 1, 2, 3, 4, 5],\n",
    " [1.5, 1, -1.3, 0.7, 0.8, 0.9]\n",
    " )\n",
    "sns.pointplot([0, 1, 2, 3, 4, 5],\n",
    " [2, 0.5, 0.7, -1.2, 0.3, 0.4]\n",
    " )\n",
    "plt.show()"
   ]
  },
  {
   "cell_type": "markdown",
   "metadata": {},
   "source": [
    "## 70 plot ly 绘图\n",
    "导入包：\n",
    "import plotly\n",
    "plotly.__version__ # '2.0.11'\n",
    "绘制图（自动打开html）：\n",
    "import plotly.graph_objs as go\n",
    "import plotly.offline as offline\n",
    "pyplt = offline.plot\n",
    "sca = go.Scatter(x=[0, 1, 2, 3, 4, 5],\n",
    " y=[1.5, 1, -1.3, 0.7, 0.8, 0.9]\n",
    " )\n",
    "bar = go.Bar(x=[0, 1, 2, 3, 4, 5],\n",
    " y=[2, 0.5, 0.7, -1.2, 0.3, 0.4]\n",
    " )\n",
    "fig = go.Figure(data = [sca,bar])\n",
    "pyplt(fig)"
   ]
  },
  {
   "cell_type": "markdown",
   "metadata": {},
   "source": [
    "## 71 pyechar t s\n",
    "导入包：\n",
    "import pyecharts\n",
    "pyecharts.__version__ # '1.7.1'\n",
    "绘制图（自动打开html）：\n",
    "bar = (\n",
    " Bar()\n",
    " .add_xaxis([0, 1, 2, 3, 4, 5])\n",
    " .add_yaxis('ybar',[1.5, 1, -1.3, 0.7, 0.8, 0.9])\n",
    " )\n",
    "line = (Line()\n",
    " .add_xaxis([0, 1, 2, 3, 4, 5])\n",
    " .add_yaxis('yline',[2, 0.5, 0.7, -1.2, 0.3, 0.4])\n",
    " )\n",
    "bar.overlap(line)\n",
    "bar.render_notebook()"
   ]
  },
  {
   "cell_type": "markdown",
   "metadata": {},
   "source": [
    "## 72 理解 meshgr id\n",
    "要想掌握 3D 曲面图，需要首先理解 me shgrid 函数。\n",
    "导入包：\n",
    "import numpy as np\n",
    "import matplotlib.pyplot as plt\n",
    "创建一维数组 x\n",
    "nx, ny = (5, 3)\n",
    "x = np.linspace(0, 1, nx)\n",
    "x\n",
    "# 结果\n",
    "# array([0. , 0.25, 0.5 , 0.75, 1. ])\n",
    "创建一维数组 y\n",
    "y = np.linspace(0, 1, ny)\n",
    "y\n",
    "# 结果\n",
    "# array([0. , 0.5, 1. ])\n",
    "使用 m e s h g r i d 生成网格点：\n",
    "xv, yv = np.meshgrid(x, y)\n",
    "xv\n",
    "x v 结果：\n",
    "array([[0. , 0.25, 0.5 , 0.75, 1. ],\n",
    " [0. , 0.25, 0.5 , 0.75, 1. ],\n",
    " [0. , 0.25, 0.5 , 0.75, 1. ]])\n",
    "y v 结果：\n",
    "array([[0. , 0. , 0. , 0. , 0. ],\n",
    " [0.5, 0.5, 0.5, 0.5, 0.5],\n",
    " [1. , 1. , 1. , 1. , 1. ]])\n",
    "绘制网格点：\n",
    "plt.scatter(xv.flatten(),yv.flatten(),c='red')\n",
    "plt.xticks(ticks=x)\n",
    "plt.yticks(ticks=y)\n",
    "\n"
   ]
  },
  {
   "cell_type": "markdown",
   "metadata": {},
   "source": [
    "## 73 绘制曲面图\n",
    "导入 3D 绘图模块：\n",
    "from mpl_toolkits.mplot3d import Axes3D\n",
    "生成X,Y,Z\n",
    "# X, Y\n",
    "x = np.arange(-5, 5, 0.25)\n",
    "y = np.arange(-5, 5, 0.25)\n",
    "X, Y = np.meshgrid(x, y) # x-y 平面的网格\n",
    "R = np.sqrt(X ** 2 + Y ** 2)\n",
    "# Z\n",
    "Z = np.sin(R)\n",
    "绘制 3D 曲面图：\n",
    "fig = plt.figure()\n",
    "ax = Axes3D(fig)\n",
    "plt.xticks(ticks=np.arange(-5,6))\n",
    "plt.yticks(ticks=np.arange(-5,6))\n",
    "ax.plot_surface(X, Y, Z, cmap=plt.get_cmap('rainbow'))\n",
    "plt.show()"
   ]
  },
  {
   "cell_type": "markdown",
   "metadata": {},
   "source": [
    "## 74 等高线图\n",
    "以上 3D 曲面图的在 x y平面、 x z平面、y z平面投影，即是等高线图。\n",
    "x y 平面投影得到的等高线图：\n",
    "fig = plt.figure()\n",
    "ax = Axes3D(fig)\n",
    "plt.xticks(ticks=np.arange(-5,6))\n",
    "plt.yticks(ticks=np.arange(-5,6))\n",
    "ax.contourf(X, Y, Z, zdir='z', offset=-1, cmap=plt.get_cmap('rainbow'))\n",
    "plt.show()"
   ]
  },
  {
   "cell_type": "markdown",
   "metadata": {},
   "source": [
    "## 75 / 返回浮点数\n",
    "即便两个整数， / 操作也会返回浮点数\n",
    "In [1]: 8/5\n",
    "Out[1]: 1.6"
   ]
  },
  {
   "cell_type": "markdown",
   "metadata": {},
   "source": [
    "## 76 / / 得到整数部分\n",
    "使用 / / 快速得到两数相除的整数部分，并且返回整型，此操作符容易忽略，但确实很实用。\n",
    "In [2]: 8//5\n",
    "Out[2]: 1\n",
    "In [3]: a = 8//5\n",
    "In [4]: type(a)\n",
    "Out[4]: int"
   ]
  },
  {
   "cell_type": "markdown",
   "metadata": {},
   "source": [
    "## 77 % 得到余数\n",
    "% 得到两数相除的余数：\n",
    "In [6]: 8%5\n",
    "Out[6]: 3"
   ]
  },
  {
   "cell_type": "markdown",
   "metadata": {},
   "source": [
    "## 78 * * 计算乘方\n",
    "* * 计算几次方\n",
    "In [7]: 2**3\n",
    "Out[7]: 8"
   ]
  },
  {
   "cell_type": "markdown",
   "metadata": {},
   "source": [
    "## 79 交互模式下的_\n",
    "在交互模式下，上一次打印出来的表达式被赋值给变量 _\n",
    "In [8]: 2*3.02+1\n",
    "Out[8]: 7.04\n",
    "In [9]: 1+_\n",
    "Out[9]: 8.04"
   ]
  },
  {
   "cell_type": "markdown",
   "metadata": {},
   "source": [
    "## 80 单引号和双引号微妙不同\n",
    "使用单引号和双引号的微妙不同\n",
    "使用一对双引号时，打印下面串无需转义字符：\n",
    "In [10]: print(\"That isn't a horse\")\n",
    "That isn't a horse\n",
    "使用单引号时，需要添加转义字符 \\ ：\n",
    "/\n",
    "In [11]: print('That isn\\'t a horse')\n",
    "That isn't a horse"
   ]
  },
  {
   "cell_type": "markdown",
   "metadata": {},
   "source": [
    "## 81 跨行连续输入\n",
    "符串字面值可以跨行连续输入；一种方式是用一对三重引号： \" \" \" 或 ' ' '\n",
    "In [12]: print(\"\"\"You're just pounding two\n",
    " ...: coconut halves together.\"\"\")\n",
    "You're just pounding two\n",
    "coconut halves together."
   ]
  },
  {
   "cell_type": "markdown",
   "metadata": {},
   "source": [
    "## 82 数字和字符串\n",
    "In [13]: 3*'Py'\n",
    "Out[13]: 'PyPyPy'"
   ]
  },
  {
   "cell_type": "markdown",
   "metadata": {},
   "source": [
    "##83 连接字面值\n",
    "堆积起来就行，什么都不用写：\n",
    "In [14]: 'Py''thon'\n",
    "Out[14]: 'Python'\n"
   ]
  },
  {
   "cell_type": "markdown",
   "metadata": {},
   "source": [
    "## 84 for 和 el se\n",
    "一般语言 el se 只能和 if 搭，Py thon 中却支持 for 和 e l s e , tr y 和 e l s e .\n",
    "for 和 e l s e 搭后，遍历结束便会执行 e l s e\n",
    "In [29]: for i in range(3):\n",
    " ...: for j in range(i):\n",
    " ...: print(j)\n",
    " ...: else:\n",
    " ...: print('第%d轮遍历结束\\n'%(i+1,))\n",
    " ...:\n",
    "/\n",
    "第1轮遍历结束\n",
    "0\n",
    "第2轮遍历结束\n",
    "0\n",
    "1\n",
    "第3轮遍历结束\n"
   ]
  },
  {
   "cell_type": "markdown",
   "metadata": {},
   "source": [
    "## 85. i f not x\n",
    "直接使用 x 和 not x 判断 x 是否为 N one 或空\n",
    "x = [1,3,5]\n",
    "if x:\n",
    " print('x is not empty ')\n",
    "if not x:\n",
    " print('x is empty')\n",
    "下面写法不够 Py thone r\n",
    "if x and len(x) > 0:\n",
    " print('x is not empty ')\n",
    "if x is None or len(x) == 0:\n",
    " print('x is empty')"
   ]
  },
  {
   "cell_type": "markdown",
   "metadata": {},
   "source": [
    "## 86. enumerate 枚举\n",
    "直接使用 enume r a t e 枚举容器，第二个参数表示索引的起始值\n",
    "x = [1, 3, 5]\n",
    "for i, e in enumerate(x, 10): # 枚举\n",
    " print(i, e)\n",
    "下面写法不够 Py thone r:\n",
    "/\n",
    "i = 0\n",
    "while i < len(x):\n",
    " print(i+10, x[i])\n",
    " i+=1"
   ]
  },
  {
   "cell_type": "markdown",
   "metadata": {},
   "source": [
    "## 87. in\n",
    "判断字符串是否包含某个子串，使用 i n 明显更加可读：\n",
    "x = 'zen_of_python'\n",
    "if 'zen' in x:\n",
    " print('zen is in')\n",
    "find 返回值 要与 -1 判断，不太符合习惯：\n",
    "if x.find('zen') != -1:\n",
    " print('zen is in')\n"
   ]
  },
  {
   "cell_type": "markdown",
   "metadata": {},
   "source": [
    "## 88 zip 打包\n",
    "使用 z ip 打包后结合 for 使用输出一对，更加符合习惯：\n",
    "keys = ['a', 'b', 'c']\n",
    "values = [1, 3, 5]\n",
    "for k, v in zip(keys, values):\n",
    " print(k, v)\n",
    "下面不符合 Py thon 习惯：\n",
    "d = {}\n",
    "i = 0\n",
    "for k in keys:\n",
    " print(k, values[i])\n",
    " i += 1"
   ]
  },
  {
   "cell_type": "markdown",
   "metadata": {},
   "source": [
    "## 89 一对 '''\n",
    "打印被分为多行的字符串，使用一对 ' ' ' 更加符合 Py thon 习惯：\n",
    "print('''\"Oh no!\" He exclaimed.\n",
    "\"It's the blemange!\"''')\n",
    "下面写法就太不 Py thon 风格：\n",
    "print('\"Oh no!\" He exclaimed.\\n' +\n",
    " 'It\\'s the blemange!\"')\n",
    "\n"
   ]
  },
  {
   "cell_type": "markdown",
   "metadata": {},
   "source": [
    "## 90 交换元素\n",
    "直接解包赋值，更加符合 Py thon 风格：\n",
    "a, b = 1, 3\n",
    "a, b = b, a # 交换a,b\n",
    "不要再用临时变量 tmp ，这不符合 Py thon 习惯：\n",
    "tmp = a\n",
    "a = b\n",
    "b = tmp"
   ]
  },
  {
   "cell_type": "markdown",
   "metadata": {},
   "source": [
    "## 91 join 串联\n",
    "串联字符串，更习惯使用 join：\n",
    "chars = ['P', 'y', 't', 'h', 'o', 'n']\n",
    "name = ''.join(chars)\n",
    "print(name)\n",
    "下面不符合 Py thon 习惯：\n",
    "name = ''\n",
    "for c in chars:\n",
    " name += c\n",
    "print(name)"
   ]
  },
  {
   "cell_type": "markdown",
   "metadata": {},
   "source": [
    "## 92 列表生成式\n",
    "列表生成式构建高效，符合 Py thon 习惯：\n",
    "data = [1, 2, 3, 5, 8]\n",
    "result = [i * 2 for i in data if i & 1] # 奇数则乘以2\n",
    "print(result) # [2, 6, 10]\n",
    "下面写法不够 Py thone r：\n",
    "results = []\n",
    "for e in data:\n",
    " if e & 1:\n",
    " results.append(e*2)\n",
    "print(results)"
   ]
  },
  {
   "cell_type": "markdown",
   "metadata": {},
   "source": [
    "## 93 字典生成式\n",
    "除了列表生成式，还有字典生成式：\n",
    "keys = ['a', 'b', 'c']\n",
    "values = [1, 3, 5]\n",
    "d = {k: v for k, v in zip(keys, values)}\n",
    "print(d)\n",
    "下面写法不太 Py thone r：\n",
    "d = {}\n",
    "for k, v in zip(keys, values):\n",
    " d[k] = v\n",
    "print(d)\n"
   ]
  },
  {
   "cell_type": "markdown",
   "metadata": {},
   "source": [
    "## 94 __name__ == '__main__'有啥用\n",
    "曾几何时，看这别人代码这么写，我们也就跟着这么用吧，其实还没有完全弄清楚这行到底干啥。\n",
    "def mymain():\n",
    " print('Doing something in module', __name__)\n",
    "if __name__ == '__main__':\n",
    " print('Executed from command line')\n",
    " mymain()\n",
    "加入上面脚本命名为 MyModul e，不管在 v s code 还是 py cha rm 直接启动，则直接打印出：\n",
    "Executed from command line\n",
    "Doing something in module __main__\n",
    "这并不奇怪，和我们预想一样，因为有无这句 _ _ m a i n _ _ ，都会打印出这些。\n",
    "但是当我们 i m p o r t M y M o d u l e 时，如果没有这句，直接就打印出：\n",
    "In [2]: import MyModule\n",
    "Executed from command line\n",
    "Doing something in module MyModule\n",
    "只是导入就直接执行 myma in 函数，这不符合我们预期。\n",
    "如果有主句，导入后符合预期：\n",
    "In [6]: import MyModule\n",
    "In [7]: MyModule.mymain()\n",
    "Doing something in module MyModule"
   ]
  },
  {
   "cell_type": "markdown",
   "metadata": {},
   "source": [
    "## 95 字典默认值\n",
    "In[1]: d = {'a': 1, 'b': 3}\n",
    "In[2]: d.get('b', []) # 存在键 'b'\n",
    "/\n",
    "Out[2]: 3\n",
    "In[3]: d.get('c', []) # 不存在键 'c'，返回[]\n",
    "Out[3]: []"
   ]
  },
  {
   "cell_type": "markdown",
   "metadata": {},
   "source": [
    "## 96 lambda 函数\n",
    "l ambda 函数使用方便，主要由入参和返回值组成，被广泛使用在 ma x , map, r educ e , fi lt e r 等\n",
    "函数的 k e y 参数中。\n",
    "如下，求 x 中绝对值最大的元素，k e y 函数确定 a b s ( x ) 作为比较大小的方法：\n",
    "x = [1, 3, -5]\n",
    "y = max(x, key=lambda x: abs(x))\n",
    "print(y) # -5 "
   ]
  },
  {
   "cell_type": "markdown",
   "metadata": {},
   "source": [
    "## 97 max\n",
    "求 x 中绝对值最大的元素，k e y 函数确定 a b s ( x ) 作为比较大小的方法：\n",
    "x = [1, 3, -5]\n",
    "y = max(x, key=lambda x: abs(x))\n",
    "print(y) # -5 "
   ]
  },
  {
   "cell_type": "markdown",
   "metadata": {},
   "source": [
    "## 98 map\n",
    "map 函数映射 fun 到容器中每个元素，并返回迭代器 x\n",
    "x = map(str, [1, 3, 5])\n",
    "for e in x:\n",
    " print(e, type(e))\n",
    "下面写法不够 Py thone r\n",
    "for e in [1, 3, 5]:\n",
    " print(e, str(e)) # '1','3','5'"
   ]
  },
  {
   "cell_type": "markdown",
   "metadata": {},
   "source": [
    "## 99 reduce\n",
    "r educ e 是在 func tool s 中，第一个参数是函数，其必须含有 2 个参数，最后归约为一个标量。\n",
    "from functools import reduce\n",
    "x = [1, 3, 5]\n",
    "y = reduce(lambda p1, p2: p1*p2, x)\n",
    "print(y) # 15\n",
    "下面写法不够 Py thone r:\n",
    "y = 1\n",
    "for e in x:\n",
    " y *= e\n",
    "print(y)"
   ]
  },
  {
   "cell_type": "markdown",
   "metadata": {},
   "source": [
    "## 100 f il ter\n",
    "使用 fi lt e r 找到满足 k e y 函数指定条件的元素，并返回迭代器\n",
    "如下，使用 fi lt e r 找到所有奇数：\n",
    "x = [1, 2, 3, 5]\n",
    "odd = filter(lambda e: e % 2, x)\n",
    "for e in odd: # 找到奇数\n",
    " print(e)\n",
    "还有另外一种方法，使用列表生成式，直接得到一个odd 容器，\n",
    "odd = [e for e in x if e % 2]\n",
    "print(odd) # [1,3,5]\n",
    "下面写法最不符合 Py thon 习惯：\n",
    "odd = []\n",
    "for e in x:\n",
    " if e % 2:\n",
    "  odd.append(e)\n",
    "print(odd) # [1,3,5]"
   ]
  },
  {
   "cell_type": "markdown",
   "metadata": {},
   "source": [
    "## "
   ]
  },
  {
   "cell_type": "markdown",
   "metadata": {},
   "source": [
    "## "
   ]
  },
  {
   "cell_type": "markdown",
   "metadata": {},
   "source": [
    "## "
   ]
  },
  {
   "cell_type": "markdown",
   "metadata": {},
   "source": [
    "## "
   ]
  },
  {
   "cell_type": "markdown",
   "metadata": {},
   "source": [
    "## "
   ]
  },
  {
   "cell_type": "markdown",
   "metadata": {},
   "source": [
    "## "
   ]
  },
  {
   "cell_type": "markdown",
   "metadata": {},
   "source": [
    "## "
   ]
  },
  {
   "cell_type": "markdown",
   "metadata": {},
   "source": [
    "## "
   ]
  },
  {
   "cell_type": "markdown",
   "metadata": {},
   "source": [
    "## "
   ]
  },
  {
   "cell_type": "markdown",
   "metadata": {},
   "source": [
    "## "
   ]
  },
  {
   "cell_type": "markdown",
   "metadata": {},
   "source": [
    "## "
   ]
  },
  {
   "cell_type": "markdown",
   "metadata": {},
   "source": [
    "## "
   ]
  },
  {
   "cell_type": "markdown",
   "metadata": {},
   "source": [
    "## "
   ]
  },
  {
   "cell_type": "markdown",
   "metadata": {},
   "source": [
    "## "
   ]
  },
  {
   "cell_type": "markdown",
   "metadata": {},
   "source": [
    "## "
   ]
  },
  {
   "cell_type": "markdown",
   "metadata": {},
   "source": [
    "## "
   ]
  },
  {
   "cell_type": "markdown",
   "metadata": {},
   "source": [
    "## "
   ]
  },
  {
   "cell_type": "markdown",
   "metadata": {},
   "source": [
    "## "
   ]
  }
 ],
 "metadata": {
  "kernelspec": {
   "display_name": "Python 3",
   "language": "python",
   "name": "python3"
  },
  "language_info": {
   "codemirror_mode": {
    "name": "ipython",
    "version": 3
   },
   "file_extension": ".py",
   "mimetype": "text/x-python",
   "name": "python",
   "nbconvert_exporter": "python",
   "pygments_lexer": "ipython3",
   "version": "3.8.1"
  },
  "toc": {
   "base_numbering": 1,
   "nav_menu": {},
   "number_sections": true,
   "sideBar": true,
   "skip_h1_title": false,
   "title_cell": "Table of Contents",
   "title_sidebar": "Contents",
   "toc_cell": false,
   "toc_position": {},
   "toc_section_display": true,
   "toc_window_display": false
  },
  "varInspector": {
   "cols": {
    "lenName": 16,
    "lenType": 16,
    "lenVar": 40
   },
   "kernels_config": {
    "python": {
     "delete_cmd_postfix": "",
     "delete_cmd_prefix": "del ",
     "library": "var_list.py",
     "varRefreshCmd": "print(var_dic_list())"
    },
    "r": {
     "delete_cmd_postfix": ") ",
     "delete_cmd_prefix": "rm(",
     "library": "var_list.r",
     "varRefreshCmd": "cat(var_dic_list()) "
    }
   },
   "types_to_exclude": [
    "module",
    "function",
    "builtin_function_or_method",
    "instance",
    "_Feature"
   ],
   "window_display": false
  }
 },
 "nbformat": 4,
 "nbformat_minor": 4
}
