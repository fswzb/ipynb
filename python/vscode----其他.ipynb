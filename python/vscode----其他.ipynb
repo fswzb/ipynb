{
 "cells": [
  {
   "cell_type": "markdown",
   "metadata": {},
   "source": [
    "重要，在线生成vscode 的代码段\n",
    "https://snippet-generator.app/?description=&tabtrigger=&snippet=&mode=vscode\n",
    "源码 https://github.com/pawelgrzybek/snippet-generator\n",
    "description 说明\n",
    "tab trigger标签触发器\n",
    "(ctrl + i): ${1:example} "
   ]
  },
  {
   "cell_type": "markdown",
   "metadata": {},
   "source": [
    "MQL内置函数，ENUMS，预定义变量和关键字的代码段\n",
    "https://github.com/nicholishen/mql-snippets-for-VScode\n",
    "\n",
    "mq4\n",
    "https://github.com/sibvic/vsc-mq4-snippets\n",
    "https://github.com/sibvic/vsc-mq5-snippets\n",
    "mq4-模板/ 模板/\n",
    "https://github.com/sibvic/mq4-templates\n",
    "\n",
    "mq4-templates"
   ]
  },
  {
   "cell_type": "markdown",
   "metadata": {},
   "source": [
    "vscode-pytorch\n",
    "https://github.com/SvenBecker/vscode-pytorch"
   ]
  },
  {
   "cell_type": "markdown",
   "metadata": {},
   "source": [
    "vscode-shell-snippets\n",
    "https://github.com/DeepInThought/vscode-shell-snippets\n"
   ]
  },
  {
   "cell_type": "markdown",
   "metadata": {},
   "source": [
    " vscode运用jupyter\n",
    " #%%，软件一旦检测到，就会在其上显示 Run cell，点击后就可以像 Jupyter notebook 一样运行一段代码。\n",
    " 使用 #%% [markdown] 就可以编写 Markdown 文本了"
   ]
  },
  {
   "cell_type": "markdown",
   "metadata": {},
   "source": [
    "Visual Studio Code snippet shell\n",
    "https://github.com/cdsama/shell-snippets\n",
    "https://github.com/DeepInThought/vscode-shell-snippets"
   ]
  },
  {
   "cell_type": "markdown",
   "metadata": {},
   "source": [
    "日本人算法\n",
    "https://github.com/taketakeyyy/my-vscode\n"
   ]
  },
  {
   "cell_type": "markdown",
   "metadata": {},
   "source": [
    "https://github.com/Yumerain/EA-MQL4\n",
    "Experts自动交易\n",
    "AutoCloseEA.mq4是一个自动平仓EA，设定盈利金额启动后会一直执行检测，达到的话自定平掉所有仓单，无论是手动下的单还是自动下的单\n",
    "OKMA.mq4是一个基于均线交叉的自动交易EA\n",
    "TrendMacd.mq4一个基于MACD指标金叉死叉的趋势型EA\n",
    "GoodMA.mq4现阶段历史回测多品种最好的一个，以60MA作为支撑压力，突破后回踩入场\n",
    "Pinball.mq4 布林走平时，震荡行情超卖做多超买做空\n",
    "\n",
    "Indicators指标或基于ea的指标\n",
    "EasyTrend.mq4一个傻瓜式的趋势指示器，不要做禁止方向的单子，提高胜率\n",
    "XBands.mq4一个把中线调粗了点的布林，便于和其他加粗均线组成系统，而不用重复一条20均线\n",
    "Trend-V20.mq4一个指标解读\n",
    "Trend-V30.mq4 一个更加详细的趋势解读\n",
    "Fishe.mq4 迄今为止最亮的自定义指标，具体效果参考图表GBPAUD，4H的MACD用于指示方向，小周期的自定义均线组成交叉点构成信号，同时提示最大仓位防止重仓\n",
    "\n",
    "Scripts脚本\n",
    "CloseAll.mq4一键关闭所有订单，手动进行马丁式交易时快速平掉所有仓位"
   ]
  },
  {
   "cell_type": "markdown",
   "metadata": {},
   "source": [
    "https://github.com/search?q=mt4+ea\n",
    "https://github.com/search?p=1&q=mt4+python&type=Repositories"
   ]
  },
  {
   "cell_type": "markdown",
   "metadata": {},
   "source": [
    "开启Hyper-V\n",
    "https://www.jianshu.com/p/005a40b9a8e6\n",
    "\n",
    "在Windows10安装Docker遇到问题的解决方法\n",
    "https://qq52o.me/2475.html\n",
    "\n",
    "\n"
   ]
  },
  {
   "cell_type": "markdown",
   "metadata": {},
   "source": [
    "docker-toolbox下载地址\n",
    "https://github.com/docker/toolbox/releases\n",
    "\n",
    "http://mirrors.aliyun.com/docker-toolbox/windows/docker-toolbox/\n",
    "http://mirrors.aliyun.com/docker-toolbox/windows/docker-for-windows/\n"
   ]
  },
  {
   "cell_type": "markdown",
   "metadata": {},
   "source": [
    "阿里云容器加速\n",
    "云服务es---容器服务---镜像加速器 https://r2t47usc.mirror.aliyuncs.com\n",
    "\n",
    "docker-machine create --engine-registry-mirror=你的阿里云镜像地址 -d virtualbox default\n",
    "\n",
    "\n",
    "docker-machine create --engine-registry-mirror=https://r2t47usc.mirror.aliyuncs.com -d virtualbox default\n",
    "\n",
    "docker-machine create -d virtualbox --virtualbox-boot2docker-url=C:\\Users\\Administrator\\.docker\\machine\\cache\\boot2docker.iso --engine-registry-mirror=https://r2t47usc.mirror.aliyuncs.com node1\n",
    "\n",
    "-d virtualbox为指定virtualbox创建虚拟机\n",
    "\n",
    "C:\\Users\\Administrator\\.docker\\machine\\cache\\boot2docker.iso\n",
    "\n",
    "\n",
    "\n",
    "docker桌面\n",
    "https://www.docker.com/products/docker-desktop\n",
    "百度网盘：\n",
    "\n",
    "Docker Desktop For Windows 链接: https://pan.baidu.com/s/1P78Ja73BQp59A1N86vOr7A 提取码: deqc\n",
    "官网：\n",
    "\n",
    "Docker Desktop For Windows: https://download.docker.com/win/stable/Docker%20Desktop%20Installer.exe\n",
    "官网下载太慢了，给同样辛苦找下载地址的小伙伴分享下我下的资源。抛砖引玉，如果有国内更快速的下载地址，欢迎分享！\n",
    "————————————————\n",
    "版权声明：本文为CSDN博主「keep_running2」的原创文章，遵循CC 4.0 BY-SA版权协议，转载请附上原文出处链接及本声明。\n",
    "原文链接：https://blog.csdn.net/keep_running2/article/details/104274475\n",
    "\n",
    "\n",
    "\n",
    "\n",
    "\n"
   ]
  },
  {
   "cell_type": "code",
   "execution_count": 6,
   "metadata": {
    "ExecuteTime": {
     "end_time": "2020-07-03T12:09:29.163423Z",
     "start_time": "2020-07-03T12:09:29.137424Z"
    }
   },
   "outputs": [
    {
     "data": {
      "text/plain": [
       "'/home/liyuanjun'"
      ]
     },
     "execution_count": 6,
     "metadata": {},
     "output_type": "execute_result"
    }
   ],
   "source": [
    "\n",
    "def parent_dir(path):\n",
    "    if path[-1] == '/': path = path[0:-1]\n",
    "    return '/'.join(path.split('/')[0:-1])\n",
    "parent_dir('/home/liyuanjun/keys')"
   ]
  },
  {
   "cell_type": "markdown",
   "metadata": {},
   "source": [
    "爬虫函数\n",
    "Crawler function\n",
    "https://github.com/search?l=Python&q=Crawler+function&type=Repositories\n",
    "\n",
    "\n"
   ]
  },
  {
   "cell_type": "markdown",
   "metadata": {},
   "source": []
  },
  {
   "cell_type": "markdown",
   "metadata": {},
   "source": []
  },
  {
   "cell_type": "markdown",
   "metadata": {},
   "source": []
  },
  {
   "cell_type": "markdown",
   "metadata": {},
   "source": [
    "//shell的常用命令\n",
    "    \"file_read_by_line\":{\n",
    "        \"prefix\": \"file_read_by_line\",\n",
    "        \"body\": \"cat $${0:FILE_NAME} | while read ${1:LINE}\\ndo\\n\\techo $${1:LINE}\\ndone\\n\",\n",
    "        \"description\": \"逐行读取文本文件\"\n",
    "    },\n",
    "    \n",
    "    \n",
    "    \"file_batch_rename\":{\n",
    "        \"prefix\": \"file_batch_rename\",\n",
    "        \"body\": \"ls | xargs -i mv {} {}.old\",\n",
    "        \"description\": \"批量重命名\"\n",
    "    },\n",
    "    \n",
    "    \n",
    "    \"awk_substr\":{\n",
    "        \"prefix\": \"awk_substr\",\n",
    "        \"body\": \"echo $VAR | awk '\\\\{print substr(\\\\$0,0,length(\\\\$0)-2)\\\\}'\",\n",
    "        \"description\": \"sub string by awk\"\n",
    "    },\n",
    "    \n",
    "    \n",
    "    \"awk_printf\":{\n",
    "        \"prefix\": \"awk_printf\",\n",
    "        \"body\": \"awk  -F ':'  '\\\\{printf(\\\"filename:%10s,linenumber:%s,columns:%s,linecontent:%s\\n\\\",FILENAME,NR,NF,\\\\$0)\\\\}' /etc/passwd\",\n",
    "        \"description\": \"printf example of awk\"\n",
    "    },\n",
    "    \n",
    "    \n",
    "    \"awk_for_loop\":{\n",
    "        \"prefix\": \"awk_for_loop\",\n",
    "        \"body\": \"awk -F ':' 'BEGIN \\\\{count=0;} \\\\{name[count] = \\\\$1;count++;\\\\}; END{for (i = 0; i < NR; i++) print i, name[i]\\\\}' /etc/passwd\",\n",
    "        \"description\": \"for loop example of awk, show all users\"\n",
    "    }"
   ]
  },
  {
   "cell_type": "markdown",
   "metadata": {},
   "source": [
    "//shellscript.json\n",
    "\n",
    "{\n",
    "    \"bash\":{\n",
    "        \"prefix\": \"bash\",\n",
    "        \"body\": \"#!/bin/bash\\n\",\n",
    "        \"description\": \"executer\"\n",
    "    },\n",
    "    \"echo\":{\n",
    "        \"prefix\": \"echo\",\n",
    "        \"body\": \"echo ${0:massage}\",\n",
    "        \"description\": \"echo message\"\n",
    "    },\n",
    "    \"read\":{\n",
    "        \"prefix\": \"read\",\n",
    "        \"body\": \"read ${0:VAR}\",\n",
    "        \"description\": \"read input\"\n",
    "    },\n",
    "    \"if\" : {\n",
    "        \"prefix\": \"if\",\n",
    "        \"body\": \"if ${0:condition} \\nthen\\n\\t${1}\\nfi\",\n",
    "        \"description\": \"if\"\n",
    "    },\n",
    "    \"elseif\" : {\n",
    "        \"prefix\": \"elseif\",\n",
    "        \"body\": \"elif ${0:condition} \\nthen\\n\\t${1}\",\n",
    "        \"description\": \"elseif\"\n",
    "    },\n",
    "    \"else\" : {\n",
    "        \"prefix\": \"else\",\n",
    "        \"body\": \"else\\n\\t${0}\",\n",
    "        \"description\": \"else\"\n",
    "    },\n",
    "    \"test_string_empty\" : {\n",
    "        \"prefix\": \"test_string_empty\",\n",
    "        \"body\": \"test -z $${0:VAR}\",\n",
    "        \"description\": \"test string empty\"\n",
    "    },\n",
    "    \"test_string_equal\" : {\n",
    "        \"prefix\": \"test_string_equal\",\n",
    "        \"body\": \"test $${0:VAR1} = $${1:VAR2}\",\n",
    "        \"description\": \"test string equal\"\n",
    "    },\n",
    "    \"test_string_not_empty\" : {\n",
    "        \"prefix\": \"test_string_not_empty\",\n",
    "        \"body\": \"test -n $${0:VAR}\",\n",
    "        \"description\": \"test string not empty\"\n",
    "    },\n",
    "    \"test_string_not_equal\" : {\n",
    "        \"prefix\": \"test_string_not_equal\",\n",
    "        \"body\": \"test $${0:VAR1} != $${1:VAR2}\",\n",
    "        \"description\": \"test string not equal\"\n",
    "    },\n",
    "    \"test_int_equal\" : {\n",
    "        \"prefix\": \"test_int_equal\",\n",
    "        \"body\": \"test $${0:VAR1} -eq $${1:VAR2}\",\n",
    "        \"description\": \"test int equal\"\n",
    "    },\n",
    "    \"test_int_great_equal\" : {\n",
    "        \"prefix\": \"test_int_great_equal\",\n",
    "        \"body\": \"test $${0:VAR1} -ge $${1:VAR2}\",\n",
    "        \"description\": \"test int great equal\"\n",
    "    },\n",
    "    \"test_int_great_than\" : {\n",
    "        \"prefix\": \"test_int_great_than\",\n",
    "        \"body\": \"test $${0:VAR1} -gt $${1:VAR2}\",\n",
    "        \"description\": \"test int great than\"\n",
    "    },\n",
    "    \"test_int_less_equal\" : {\n",
    "        \"prefix\": \"test_int_less_equal\",\n",
    "        \"body\": \"test $${0:VAR1} -le $${1:VAR2}\",\n",
    "        \"description\": \"test int less equal\"\n",
    "    },\n",
    "    \"test_int_less_than\" : {\n",
    "        \"prefix\": \"test_int_less_than\",\n",
    "        \"body\": \"test $${0:VAR1} -lt $${1:VAR2}\",\n",
    "        \"description\": \"test int less than\"\n",
    "    },\n",
    "    \"test_int_not_equal\" : {\n",
    "        \"prefix\": \"test_int_not_equal\",\n",
    "        \"body\": \"test $${0:VAR1} -ne $${1:VAR2}\",\n",
    "        \"description\": \"test int not equal\"\n",
    "    },\n",
    "    \"test_exist\" : {\n",
    "        \"prefix\": \"test_exist\",\n",
    "        \"body\": \"test -e $${0:VAR}\",\n",
    "        \"description\": \"test exist\"\n",
    "    },\n",
    "    \"test_exist_file\" : {\n",
    "        \"prefix\": \"test_exist_file\",\n",
    "        \"body\": \"test -f $${0:VAR}\",\n",
    "        \"description\": \"test exist file\"\n",
    "    },\n",
    "    \"test_exist_directory\" : {\n",
    "        \"prefix\": \"test_exist_directory\",\n",
    "        \"body\": \"test -d $${0:VAR}\",\n",
    "        \"description\": \"test exist directory\"\n",
    "    },\n",
    "    \"test_exist_readable\" : {\n",
    "        \"prefix\": \"test_exist_readable\",\n",
    "        \"body\": \"test -r $${0:VAR}\",\n",
    "        \"description\": \"test exist readable\"\n",
    "    },\n",
    "    \"test_exist_writeable\" : {\n",
    "        \"prefix\": \"test_exist_writeable\",\n",
    "        \"body\": \"test -w $${0:VAR}\",\n",
    "        \"description\": \"test exist writeable\"\n",
    "    },\n",
    "    \"test_exist_executable\" : {\n",
    "        \"prefix\": \"test_exist_executable\",\n",
    "        \"body\": \"test -x $${0:VAR}\",\n",
    "        \"description\": \"test exist executable\"\n",
    "    },\n",
    "    \"test_exist_link\" : {\n",
    "        \"prefix\": \"test_exist_link\",\n",
    "        \"body\": \"test -h $${0:VAR}\",\n",
    "        \"description\": \"test exist link\"\n",
    "    },\n",
    "    \"test_file_equal\" : {\n",
    "        \"prefix\": \"test_file_equal\",\n",
    "        \"body\": \"test $${0:VAR} -ef $${1:VAR}\",\n",
    "        \"description\": \"test file equal\"\n",
    "    },\n",
    "    \"test_file_new_than\" : {\n",
    "        \"prefix\": \"test_file_new_than\",\n",
    "        \"body\": \"test $${0:VAR} -nt $${1:VAR}\",\n",
    "        \"description\": \"test file new than\"\n",
    "    },\n",
    "    \"test_file_old_than\" : {\n",
    "        \"prefix\": \"test_file_old_than\",\n",
    "        \"body\": \"test $${0:VAR} -ot $${1:VAR}\",\n",
    "        \"description\": \"test file old than\"\n",
    "    },\n",
    "\n",
    "    \"for_in\" : {\n",
    "        \"prefix\": \"for_in\",\n",
    "        \"body\": \"for ${0:VAR} in $${1:LIST}\\ndo\\n\\techo $${0:VAR}\\ndone\\n\",\n",
    "        \"description\": \"for loop in list\"\n",
    "    },\n",
    "    \"for_i\" : {\n",
    "        \"prefix\": \"for_i\",\n",
    "        \"body\": \"for((${0:i}=0;${0:i}<${1:10};${0:i}++));\\ndo\\n\\techo $${0:i}\\ndone\\n\",\n",
    "        \"description\": \"for loop by index\"\n",
    "    },\n",
    "    \"while\" : {\n",
    "        \"prefix\": \"while\",\n",
    "        \"body\": \"while ${0:condition} \\ndo\\n\\t${1}\\ndone\\n\",\n",
    "        \"description\": \"while loop by condition\"\n",
    "    },\n",
    "    \"until\" : {\n",
    "        \"prefix\": \"until\",\n",
    "        \"body\": \"until ${0:condition} \\ndo\\n\\t${1}\\ndone\\n\",\n",
    "        \"description\": \"until loop by condition\"\n",
    "    },\n",
    "    \"function\" : {\n",
    "        \"prefix\": \"function\",\n",
    "        \"body\": \"function ${0:name}()\\n{\\n\\t${1}\\n}\",\n",
    "        \"description\": \"define a function\"\n",
    "    },\n",
    "    \"case\" : {\n",
    "        \"prefix\": \"case\",\n",
    "        \"body\": \"case $${0:VAR} in\\n\\t${1:1}) echo 1\\n\\t;;\\n\\t${2:2|3}) echo 2 or 3\\n\\t;;\\n\\t*) echo default\\n\\t;;\\nesac\\n\",\n",
    "        \"description\": \"switch case\"\n",
    "    },\n",
    "    \"break\" : {\n",
    "        \"prefix\": \"break\",\n",
    "        \"body\": \"break ${0}\",\n",
    "        \"description\": \"break loop or (n) loops\"\n",
    "    },\n",
    "    \"expr\" : {\n",
    "        \"prefix\": \"expr\",\n",
    "        \"body\": \"expr ${0:1 + 1}\",\n",
    "        \"description\": \"calculate numbers\"\n",
    "    }\n",
    "}\n"
   ]
  },
  {
   "cell_type": "markdown",
   "metadata": {},
   "source": []
  },
  {
   "cell_type": "markdown",
   "metadata": {},
   "source": [
    "ArithmeticError 算术错误\n",
    "AssertionError 断言语句，当 assert 语句失败时将被引发\n",
    "AttributeError 属性错误，当属性引用或赋值失败时将被引发，如元祖.append，元组是不可变对象\n",
    "BlockingIOError 当一个操作会被某个设置为非阻塞操作的对象（例如套接字）所阻塞时将被引发\n",
    "BrokenPipeError  当试图写入另一端已被关闭的管道，或是试图写入已关闭写入的套接字时将被引发\n",
    "BufferError 当与 缓冲区 相关的操作无法执行时将被引发\n",
    "BytesWarning  与 bytes 和 bytearray 相关的警告的基类\n",
    "ChildProcessError 当一个子进程上的操作失败时将被引发\n",
    "ConnectionAbortedError 线程连接中止，当连接尝试被对端中止时将被引发\n",
    "ConnectionError 连接错误，与连接相关问题的基类\n",
    "ConnectionRefusedError  当连接尝试被对端拒绝时将被引发\n",
    "ConnectionResetError 当连接被对端重置时将被引发\n",
    "DeprecationWarning 所使用的方法或特性已经过时\n",
    "EnvironmentError 环境出错\n",
    "EOFError 当 input() 函数未读取任何数据即达到文件结束条件 (EOF) 时将被引发\n",
    "Exception 异常错误\n",
    "FileExistsError 当试图创建一个已存在的文件或目录时将被引发\n",
    "FileNotFoundError  当所请求的文件或目录不存在时将被引发\n",
    "FloatingPointError 浮点计算错误\n",
    "FutureWarning 如果所发出的警告是针对以 Python 所编写应用的最终用户的，则以此作为与已弃用特性相关警告的基类\n",
    "ImportError 导入模块失败的时候\n",
    "ImportWarning 导入警报，与在模块导入中可能的错误相关的警告的基类\n",
    "IndentationError 缩进错误\n",
    "IndexError 索引错误，使用的索引不存在，常索引超出序列范围，序列中没有此索引(index)\n",
    "InterruptedError 当系统调用被输入信号中断时将被引发\n",
    "IOError 文件确实不存在，文件写入时遇到IOError错误，权限问题导致\n",
    "IsADirectoryError 当请求对一个目录执行文件操作将被引发\n",
    "KeyError 在读取字典中的key和value时，如果key不存在，就会触发KeyError错误\n",
    "LookupError 此基类用于派生当映射或序列所使用的键或索引无效时引发的异常\n",
    "MemoryError 内存溢出（可通过删除对象释放内存）\n",
    "ModuleNotFoundError 没找到模块错误\n",
    "NameError 试图访问的局部或全局变量名不存在，变量没有被定义\n",
    "NotADirectoryError  当请求对一个非目录对象执行目录操作时将被引发\n",
    "NotImplementedError 在用户自定义的基类中，抽象方法应当在其要求所派生类重载该方法，或是在其要求所开发的类提示具体实现尚待添加时引发此异常\n",
    "OSError 操作系统产生的异常（例如打开一个不存在的文件 或 “磁盘已满”）\n",
    "OverflowError 数值运算超出最大限制，溢出错误\n",
    "PendingDeprecationWarning 对于已过时并预计在未来弃用，但目前尚未弃用的特性相关警告的基类\n",
    "PermissionError 权限错误，文件找不到，或者被占用，或者无权限访问，或者打开的不是文件，而是一个目录\n",
    "ProcessLookupError 未找到进程错误，当给定的进程不存在时将被引发\n",
    "RecursionError 递归错误，超出了最大递归深度\n",
    "ReferenceError 在使用 weakref.proxy() 函数所创建的弱引用来试图访问一个已经被垃圾回收机制回收了的对象  \n",
    "ResourceWarning 与资源使用相关的警告的基类\n",
    "RuntimeError 当检测到一个不归属于任何其他类别的错误时将被引发\n",
    "RuntimeWarning 与模糊的运行时行为相关的警告的基类\n",
    "StopAsyncIteration  必须由一个 asynchronous iterator 对象的 __anext__() 方法来引发以停止迭代操作\n",
    "StopIteration    next()和iterator的 __next__()方法所引发，用来表示该迭代器不能产生没有更多的值\n",
    "SyntaxError 语法错误，代码形式错误\n",
    "SyntaxWarning 与模糊的语法相关的警告的基类\n",
    "SystemError 当python解释器发现内部错误，但情况看起来尚未严重到要放弃所有希望时将被引发\n",
    "TabError Tab 和空格混用\n",
    "TimeoutError 当一个系统函数发生系统级超时的情况下将被引发\n",
    "TypeError 不同类型间的无效操作，如print('字符串'+int整数)\n",
    "UnboundLocalError 当在函数或方法中对某个局部变量进行引用，但该变量并未绑定任何值时将被引发（NameError的子类）\n",
    "UnicodeError        Unicode相关的错误（ValueError的子类）\n",
    "UnicodeEncodeError    Unicode编码时的错误（UnicodeError的子类）\n",
    "UnicodeDecodeError    Unicode解码时的错误（UnicodeError的子类）\n",
    "UnicodeTranslateError   Unicode转换时的错误（UnicodeError的子类）\n",
    "UnicodeWarning 与 Unicode 相关的警告的基类\n",
    "UserWarning 用户代码所产生警告的基类\n",
    "ValueError 当操作或函数接收到具有正确类型但值不适合的参数，并且情况不能用更精确的异常来描述时将被引发\n",
    "Warning  警告类\n",
    "WindowsError 3没有这个路径，5 权限问题，13该文档被其它程序占用，123路径语法有误，145多在删除非空目录时出现\n",
    "ZeroDivisionError 除数为零"
   ]
  },
  {
   "cell_type": "markdown",
   "metadata": {},
   "source": [
    "Python 内置函数速查表\n",
    "\n",
    "————————————————\n",
    "版权声明：本文为CSDN博主「Jairoguo」的原创文章，遵循CC 4.0 BY-SA版权协议，转载请附上原文出处链接及本声明。\n",
    "原文链接：https://blog.csdn.net/Jairoguo/article/details/104137704\n",
    "\n",
    "https://blog.csdn.net/jairoguo/category_9695763.html"
   ]
  },
  {
   "cell_type": "markdown",
   "metadata": {},
   "source": []
  },
  {
   "cell_type": "markdown",
   "metadata": {},
   "source": []
  },
  {
   "cell_type": "markdown",
   "metadata": {},
   "source": []
  },
  {
   "cell_type": "markdown",
   "metadata": {},
   "source": []
  },
  {
   "cell_type": "markdown",
   "metadata": {},
   "source": []
  },
  {
   "cell_type": "markdown",
   "metadata": {},
   "source": []
  },
  {
   "cell_type": "markdown",
   "metadata": {},
   "source": []
  },
  {
   "cell_type": "markdown",
   "metadata": {},
   "source": []
  },
  {
   "cell_type": "markdown",
   "metadata": {},
   "source": []
  },
  {
   "cell_type": "markdown",
   "metadata": {},
   "source": []
  },
  {
   "cell_type": "markdown",
   "metadata": {},
   "source": []
  },
  {
   "cell_type": "markdown",
   "metadata": {},
   "source": []
  },
  {
   "cell_type": "markdown",
   "metadata": {},
   "source": []
  },
  {
   "cell_type": "markdown",
   "metadata": {},
   "source": []
  },
  {
   "cell_type": "markdown",
   "metadata": {},
   "source": []
  },
  {
   "cell_type": "markdown",
   "metadata": {},
   "source": []
  },
  {
   "cell_type": "markdown",
   "metadata": {},
   "source": []
  },
  {
   "cell_type": "markdown",
   "metadata": {},
   "source": []
  },
  {
   "cell_type": "markdown",
   "metadata": {},
   "source": []
  },
  {
   "cell_type": "markdown",
   "metadata": {},
   "source": []
  },
  {
   "cell_type": "markdown",
   "metadata": {},
   "source": []
  },
  {
   "cell_type": "markdown",
   "metadata": {},
   "source": []
  },
  {
   "cell_type": "markdown",
   "metadata": {},
   "source": []
  },
  {
   "cell_type": "markdown",
   "metadata": {},
   "source": []
  },
  {
   "cell_type": "markdown",
   "metadata": {},
   "source": []
  },
  {
   "cell_type": "markdown",
   "metadata": {},
   "source": []
  },
  {
   "cell_type": "markdown",
   "metadata": {},
   "source": []
  },
  {
   "cell_type": "markdown",
   "metadata": {},
   "source": []
  },
  {
   "cell_type": "markdown",
   "metadata": {},
   "source": []
  },
  {
   "cell_type": "markdown",
   "metadata": {},
   "source": []
  },
  {
   "cell_type": "markdown",
   "metadata": {},
   "source": []
  },
  {
   "cell_type": "markdown",
   "metadata": {},
   "source": []
  },
  {
   "cell_type": "markdown",
   "metadata": {},
   "source": []
  },
  {
   "cell_type": "markdown",
   "metadata": {},
   "source": []
  },
  {
   "cell_type": "markdown",
   "metadata": {},
   "source": []
  },
  {
   "cell_type": "markdown",
   "metadata": {},
   "source": []
  },
  {
   "cell_type": "markdown",
   "metadata": {},
   "source": []
  },
  {
   "cell_type": "markdown",
   "metadata": {},
   "source": []
  },
  {
   "cell_type": "markdown",
   "metadata": {},
   "source": []
  },
  {
   "cell_type": "markdown",
   "metadata": {},
   "source": []
  },
  {
   "cell_type": "markdown",
   "metadata": {},
   "source": []
  },
  {
   "cell_type": "markdown",
   "metadata": {},
   "source": []
  },
  {
   "cell_type": "markdown",
   "metadata": {},
   "source": []
  },
  {
   "cell_type": "markdown",
   "metadata": {},
   "source": []
  },
  {
   "cell_type": "markdown",
   "metadata": {},
   "source": []
  },
  {
   "cell_type": "markdown",
   "metadata": {},
   "source": []
  },
  {
   "cell_type": "markdown",
   "metadata": {},
   "source": []
  },
  {
   "cell_type": "markdown",
   "metadata": {},
   "source": []
  },
  {
   "cell_type": "markdown",
   "metadata": {},
   "source": []
  },
  {
   "cell_type": "markdown",
   "metadata": {},
   "source": []
  },
  {
   "cell_type": "markdown",
   "metadata": {},
   "source": []
  },
  {
   "cell_type": "markdown",
   "metadata": {},
   "source": []
  },
  {
   "cell_type": "markdown",
   "metadata": {},
   "source": []
  },
  {
   "cell_type": "markdown",
   "metadata": {},
   "source": []
  },
  {
   "cell_type": "markdown",
   "metadata": {},
   "source": []
  },
  {
   "cell_type": "markdown",
   "metadata": {},
   "source": []
  },
  {
   "cell_type": "markdown",
   "metadata": {},
   "source": []
  },
  {
   "cell_type": "markdown",
   "metadata": {},
   "source": []
  },
  {
   "cell_type": "markdown",
   "metadata": {},
   "source": []
  },
  {
   "cell_type": "markdown",
   "metadata": {},
   "source": []
  },
  {
   "cell_type": "markdown",
   "metadata": {},
   "source": []
  },
  {
   "cell_type": "markdown",
   "metadata": {},
   "source": []
  },
  {
   "cell_type": "markdown",
   "metadata": {},
   "source": []
  },
  {
   "cell_type": "markdown",
   "metadata": {},
   "source": []
  },
  {
   "cell_type": "markdown",
   "metadata": {},
   "source": []
  },
  {
   "cell_type": "markdown",
   "metadata": {},
   "source": []
  },
  {
   "cell_type": "markdown",
   "metadata": {},
   "source": []
  },
  {
   "cell_type": "markdown",
   "metadata": {},
   "source": []
  },
  {
   "cell_type": "markdown",
   "metadata": {},
   "source": []
  },
  {
   "cell_type": "markdown",
   "metadata": {},
   "source": []
  },
  {
   "cell_type": "markdown",
   "metadata": {},
   "source": []
  },
  {
   "cell_type": "markdown",
   "metadata": {},
   "source": []
  },
  {
   "cell_type": "markdown",
   "metadata": {},
   "source": []
  },
  {
   "cell_type": "markdown",
   "metadata": {},
   "source": []
  },
  {
   "cell_type": "markdown",
   "metadata": {},
   "source": []
  },
  {
   "cell_type": "markdown",
   "metadata": {},
   "source": []
  },
  {
   "cell_type": "markdown",
   "metadata": {},
   "source": []
  },
  {
   "cell_type": "markdown",
   "metadata": {},
   "source": []
  },
  {
   "cell_type": "markdown",
   "metadata": {},
   "source": []
  },
  {
   "cell_type": "markdown",
   "metadata": {},
   "source": []
  },
  {
   "cell_type": "markdown",
   "metadata": {},
   "source": []
  },
  {
   "cell_type": "markdown",
   "metadata": {},
   "source": []
  },
  {
   "cell_type": "markdown",
   "metadata": {},
   "source": []
  },
  {
   "cell_type": "markdown",
   "metadata": {},
   "source": []
  },
  {
   "cell_type": "markdown",
   "metadata": {},
   "source": []
  },
  {
   "cell_type": "markdown",
   "metadata": {},
   "source": []
  },
  {
   "cell_type": "markdown",
   "metadata": {},
   "source": []
  },
  {
   "cell_type": "markdown",
   "metadata": {},
   "source": []
  },
  {
   "cell_type": "markdown",
   "metadata": {},
   "source": []
  },
  {
   "cell_type": "markdown",
   "metadata": {},
   "source": []
  },
  {
   "cell_type": "markdown",
   "metadata": {},
   "source": []
  },
  {
   "cell_type": "markdown",
   "metadata": {},
   "source": []
  },
  {
   "cell_type": "markdown",
   "metadata": {},
   "source": []
  },
  {
   "cell_type": "markdown",
   "metadata": {},
   "source": []
  },
  {
   "cell_type": "markdown",
   "metadata": {},
   "source": []
  },
  {
   "cell_type": "markdown",
   "metadata": {},
   "source": []
  },
  {
   "cell_type": "markdown",
   "metadata": {},
   "source": []
  },
  {
   "cell_type": "markdown",
   "metadata": {},
   "source": []
  },
  {
   "cell_type": "markdown",
   "metadata": {},
   "source": []
  },
  {
   "cell_type": "markdown",
   "metadata": {},
   "source": []
  },
  {
   "cell_type": "markdown",
   "metadata": {},
   "source": []
  },
  {
   "cell_type": "markdown",
   "metadata": {},
   "source": []
  },
  {
   "cell_type": "markdown",
   "metadata": {},
   "source": []
  },
  {
   "cell_type": "markdown",
   "metadata": {},
   "source": []
  },
  {
   "cell_type": "markdown",
   "metadata": {},
   "source": []
  },
  {
   "cell_type": "markdown",
   "metadata": {},
   "source": []
  },
  {
   "cell_type": "markdown",
   "metadata": {},
   "source": []
  },
  {
   "cell_type": "markdown",
   "metadata": {},
   "source": []
  },
  {
   "cell_type": "markdown",
   "metadata": {},
   "source": []
  },
  {
   "cell_type": "markdown",
   "metadata": {},
   "source": []
  },
  {
   "cell_type": "markdown",
   "metadata": {},
   "source": []
  },
  {
   "cell_type": "markdown",
   "metadata": {},
   "source": []
  },
  {
   "cell_type": "markdown",
   "metadata": {},
   "source": []
  },
  {
   "cell_type": "markdown",
   "metadata": {},
   "source": []
  },
  {
   "cell_type": "markdown",
   "metadata": {},
   "source": []
  },
  {
   "cell_type": "markdown",
   "metadata": {},
   "source": []
  },
  {
   "cell_type": "markdown",
   "metadata": {},
   "source": []
  },
  {
   "cell_type": "markdown",
   "metadata": {},
   "source": []
  },
  {
   "cell_type": "markdown",
   "metadata": {},
   "source": []
  },
  {
   "cell_type": "markdown",
   "metadata": {},
   "source": []
  },
  {
   "cell_type": "markdown",
   "metadata": {},
   "source": []
  },
  {
   "cell_type": "markdown",
   "metadata": {},
   "source": []
  },
  {
   "cell_type": "markdown",
   "metadata": {},
   "source": []
  },
  {
   "cell_type": "markdown",
   "metadata": {},
   "source": []
  },
  {
   "cell_type": "markdown",
   "metadata": {},
   "source": []
  },
  {
   "cell_type": "markdown",
   "metadata": {},
   "source": []
  },
  {
   "cell_type": "markdown",
   "metadata": {},
   "source": []
  },
  {
   "cell_type": "markdown",
   "metadata": {},
   "source": []
  },
  {
   "cell_type": "markdown",
   "metadata": {},
   "source": []
  },
  {
   "cell_type": "markdown",
   "metadata": {},
   "source": []
  }
 ],
 "metadata": {
  "kernelspec": {
   "display_name": "Python 3",
   "language": "python",
   "name": "python3"
  },
  "language_info": {
   "codemirror_mode": {
    "name": "ipython",
    "version": 3
   },
   "file_extension": ".py",
   "mimetype": "text/x-python",
   "name": "python",
   "nbconvert_exporter": "python",
   "pygments_lexer": "ipython3",
   "version": "3.8.1"
  },
  "toc": {
   "base_numbering": 1,
   "nav_menu": {},
   "number_sections": true,
   "sideBar": true,
   "skip_h1_title": false,
   "title_cell": "Table of Contents",
   "title_sidebar": "Contents",
   "toc_cell": false,
   "toc_position": {},
   "toc_section_display": true,
   "toc_window_display": false
  },
  "varInspector": {
   "cols": {
    "lenName": 16,
    "lenType": 16,
    "lenVar": 40
   },
   "kernels_config": {
    "python": {
     "delete_cmd_postfix": "",
     "delete_cmd_prefix": "del ",
     "library": "var_list.py",
     "varRefreshCmd": "print(var_dic_list())"
    },
    "r": {
     "delete_cmd_postfix": ") ",
     "delete_cmd_prefix": "rm(",
     "library": "var_list.r",
     "varRefreshCmd": "cat(var_dic_list()) "
    }
   },
   "types_to_exclude": [
    "module",
    "function",
    "builtin_function_or_method",
    "instance",
    "_Feature"
   ],
   "window_display": false
  }
 },
 "nbformat": 4,
 "nbformat_minor": 4
}
