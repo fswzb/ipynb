{
 "cells": [
  {
   "cell_type": "markdown",
   "metadata": {},
   "source": [
    "#python100个练习例子\n",
    "来源：https://github.com/yangdd1205/python3-100-examples\n",
    "\n",
    "\n"
   ]
  },
  {
   "cell_type": "code",
   "execution_count": 144,
   "metadata": {
    "ExecuteTime": {
     "end_time": "2020-06-22T00:43:44.229761Z",
     "start_time": "2020-06-22T00:43:44.212771Z"
    },
    "cell_style": "center",
    "run_control": {
     "marked": false
    }
   },
   "outputs": [
    {
     "name": "stdout",
     "output_type": "stream",
     "text": [
      "1 2 3\n",
      "1 2 4\n",
      "1 3 2\n",
      "1 3 4\n",
      "1 4 2\n",
      "1 4 3\n",
      "2 1 3\n",
      "2 1 4\n",
      "2 3 1\n",
      "2 3 4\n",
      "2 4 1\n",
      "2 4 3\n",
      "3 1 2\n",
      "3 1 4\n",
      "3 2 1\n",
      "3 2 4\n",
      "3 4 1\n",
      "3 4 2\n",
      "4 1 2\n",
      "4 1 3\n",
      "4 2 1\n",
      "4 2 3\n",
      "4 3 1\n",
      "4 3 2\n"
     ]
    }
   ],
   "source": [
    "# %load example1.py\n",
    "#!/usr/bin/python\n",
    "\n",
    "__author__ = 'yangdd'\n",
    "\n",
    "'''\n",
    " example 001\n",
    "'''\n",
    "\n",
    "def show():\n",
    " for i in range(1,5):\n",
    "  for j in range(1,5):\n",
    "   for k in range(1,5):\n",
    "    if(i!=j) and (i!=k) and (j!=k):\n",
    "     print(i,j,k)\n",
    "\t \n",
    "\t \n",
    "if __name__ == '__main__':\n",
    "   show()\n"
   ]
  },
  {
   "cell_type": "markdown",
   "metadata": {},
   "source": [
    "# "
   ]
  },
  {
   "cell_type": "code",
   "execution_count": null,
   "metadata": {
    "ExecuteTime": {
     "start_time": "2020-06-22T00:25:48.382Z"
    },
    "run_control": {
     "marked": false
    }
   },
   "outputs": [],
   "source": [
    "# %load example2.py\n",
    "#!/usr/bin/python\n",
    "\n",
    "__author__ = 'yangdd'\n",
    "\n",
    "'''\n",
    " example 002\n",
    "'''\n",
    "\n",
    "def bonus():\n",
    " profites = int(input('请输入利润（元 ）：'))\n",
    " arr = [100*10000,60*10000,40*10000,20*10000,10*10000,0]\n",
    " rat = [0.01,0.015,0.03,0.05,0.075,0.1]\n",
    " bonus = 0\n",
    " for i in range(0,6):\n",
    "     if profites>arr[i]:\n",
    "        bonus += (profites-arr[i])*rat[i]\n",
    "        profites = arr[i]\t\t\n",
    " print('奖金是：%s' % (format(bonus,'.2f')))\n",
    "\n",
    "\n",
    "if __name__ == '__main__':\n",
    "  bonus()\n",
    "\t"
   ]
  },
  {
   "cell_type": "code",
   "execution_count": null,
   "metadata": {
    "ExecuteTime": {
     "start_time": "2020-06-22T00:25:48.396Z"
    },
    "run_control": {
     "marked": false
    }
   },
   "outputs": [],
   "source": [
    "# %load example3.py\n",
    "#!/use/bin/python\n",
    "\n",
    "__author__ = 'yangdd'\n",
    "\n",
    "'''\n",
    " example 003\n",
    "'''\n",
    "\n",
    "import math\n",
    "\n",
    "def show():\n",
    " for i in range(10000):\n",
    "  x = int(math.sqrt(i+100))\n",
    "  y = int(math.sqrt(i+268))\n",
    "  if (x*x == i+100) and (y*y==i+268):\n",
    "   print(i)\n",
    "\n",
    "\n",
    "if __name__ == '__main__':\n",
    "  show()   "
   ]
  },
  {
   "cell_type": "code",
   "execution_count": null,
   "metadata": {
    "ExecuteTime": {
     "start_time": "2020-06-22T00:25:48.412Z"
    },
    "run_control": {
     "marked": false
    }
   },
   "outputs": [],
   "source": [
    "# %load example4.py\n",
    "#!/usr/bin/python\n",
    "\n",
    "__author__ = 'yangdd'\n",
    "\n",
    "'''\n",
    " example 004\n",
    "'''\n",
    "\n",
    "def day():\n",
    " year = int(input(\"请输入年：\"))\n",
    " month = int(input(\"请输入月：\"))\n",
    " day = int(input(\"请输入日：\"))\n",
    " \n",
    " days = [31,28,31,30,31,30,31,31,30,31,30,31]\n",
    "  \n",
    " if (year % 400 ==0) or ((year % 4 == 0) and (year % 100 !=0)):\n",
    "  days[1]=29\n",
    " \n",
    "  the_day= sum(days[:month-1]) \n",
    " \n",
    " the_day += day\n",
    " \n",
    " print('it is the %dth day.' % the_day)\n",
    " \n",
    " \n",
    " \n",
    " \n",
    "if __name__ =='__main__':\n",
    "   day() \n",
    " \n",
    "  "
   ]
  },
  {
   "cell_type": "code",
   "execution_count": null,
   "metadata": {
    "ExecuteTime": {
     "start_time": "2020-06-22T00:25:48.418Z"
    },
    "run_control": {
     "marked": false
    }
   },
   "outputs": [],
   "source": [
    "# %load example5.py\n",
    "#!/usr/bin/python\n",
    "\n",
    "__author__ = 'yangdd'\n",
    "\n",
    "'''\n",
    " example 005\n",
    "'''\n",
    "\n",
    "\n",
    "def num_sort():\n",
    "  array = []\n",
    "  \n",
    "  array.append(int(input(\"请输入第一个整数：\")))\n",
    "  array.append(int(input(\"请输入第二个整数：\")))\n",
    "  array.append(int(input(\"请输入第三个整数：\")))\n",
    "  \n",
    "  sorted_array = sorted(array)\n",
    "  \n",
    "  print(sorted_array)\n",
    "  \n",
    "  \n",
    "  \n",
    "if __name__=='__main__':\n",
    "  num_sort()\n",
    "  \n",
    "  "
   ]
  },
  {
   "cell_type": "code",
   "execution_count": null,
   "metadata": {
    "ExecuteTime": {
     "start_time": "2020-06-22T00:25:48.430Z"
    },
    "code_folding": [],
    "run_control": {
     "marked": false
    }
   },
   "outputs": [],
   "source": [
    "# %load example6.py\n",
    "#!/usr/bin/python\n",
    "\n",
    "__author__ = 'yangdd'\n",
    "\n",
    "'''\n",
    " example 006\n",
    "'''\n",
    "\n",
    "## \n",
    "def fib(n):\n",
    "\ti,a,b = 0,1,1\n",
    "\twhile i < n:\n",
    "\t\tyield a\n",
    "\t\ta,b = b,a+b\n",
    "\t\ti+=1\n",
    "\treturn 'done'\n",
    "\n",
    "def showFib():\n",
    "\tn = int(input(\"要查看第几位数？\"))\n",
    "\tg = fib(n)\n",
    "\twhile True:\n",
    "\t\ttry:\n",
    "\t\t\tx = next(g)\n",
    "\t\t\tprint(x)\n",
    "\t\texcept StopIteration as e:\n",
    "\t\t\tprint('Generator return value:', e.value)\n",
    "\t\t\tbreak\n",
    "\n",
    "def recursionFib(n,b1=1,b2=1,c=3):\n",
    "\tif n<3:         \n",
    "\t\treturn 1     \n",
    "\telse:         \n",
    "\t\tif n==c:             \n",
    "\t\t\treturn b1+b2         \n",
    "\t\telse:             \n",
    "\t\t\treturn recursionFib(n,b1=b2,b2=b1+b2,c=c+1)\n",
    "\n",
    "def showRecursionFib():\n",
    "\tn = int(input(\"要查看第几位数？\"))\n",
    "\tprint(recursionFib(n))\n",
    "if __name__=='__main__':\n",
    "\t\n",
    "\t# 方法一\n",
    "\t#  showFib()\n",
    "\t\n",
    "\t#  方法二\n",
    "\tshowRecursionFib()"
   ]
  },
  {
   "cell_type": "code",
   "execution_count": null,
   "metadata": {
    "ExecuteTime": {
     "start_time": "2020-06-22T00:25:48.442Z"
    },
    "run_control": {
     "marked": false
    }
   },
   "outputs": [],
   "source": [
    "# %load example7.py\n",
    "#!/usr/bin/python\n",
    "\n",
    "__author__ = 'yangdd'\n",
    "\n",
    "'''\n",
    " example 007\n",
    " \n",
    " 切片：\n",
    " list[start:stop:step]\n",
    " start:从哪开始 （不包含）\n",
    " stop:在哪结束（包含）\n",
    " step:步长 step>0 从左到右 step<0从右到左\n",
    " \n",
    " -1:代指最后一个元素\n",
    " -2:代指倒数第二个元素\n",
    " \n",
    "'''\n",
    "\n",
    "\n",
    "a=[1,2,3,4,5]\n",
    "print(a)\n",
    "#复制a\n",
    "print('复制a')\n",
    "print(a[:])\n",
    "\n",
    "# 截取(1,3]\n",
    "print('截取从1到3')\n",
    "print(a[1:3])\n",
    "\n",
    "# 从头到尾 间隔1位取\n",
    "print('从头到尾 间隔1位取')\n",
    "print(a[::2])\n",
    "\n",
    "#倒叙\n",
    "print('倒叙')\n",
    "print(a[::-1])\n",
    "\n"
   ]
  },
  {
   "cell_type": "code",
   "execution_count": null,
   "metadata": {
    "ExecuteTime": {
     "start_time": "2020-06-22T00:25:48.448Z"
    },
    "run_control": {
     "marked": false
    }
   },
   "outputs": [],
   "source": [
    "# %load example8.py\n",
    "#!/usr/bin/python\n",
    "\n",
    "__author__ = 'yangdd'\n",
    "\n",
    "'''\n",
    " example 008\n",
    " \n",
    " 如何让print不换行\n",
    " print('',end='')\n",
    "'''\n",
    "\n",
    "for i in range(1,10):\n",
    "\tprint()\n",
    "\tfor j in range(1,i+1):\n",
    "\t\tprint('%d*%d=%d' % (j,i,i*j),end='\\t')"
   ]
  },
  {
   "cell_type": "code",
   "execution_count": null,
   "metadata": {
    "ExecuteTime": {
     "start_time": "2020-06-22T00:25:48.464Z"
    },
    "run_control": {
     "marked": false
    }
   },
   "outputs": [],
   "source": [
    "# %load example9.py\n",
    "#!/usr/bin/python\n",
    "\n",
    "__author__ = 'yangdd'\n",
    "\n",
    "\n",
    "'''\n",
    " example 009\n",
    "'''\n",
    "\n",
    "import time\n",
    "\n",
    "\n",
    "d={1:'张三',2:'李四'}\n",
    "\n",
    "for k,v in d.items():\n",
    "\tprint('%s:%s' % (k,v))\n",
    "\ttime.sleep(2)\n",
    "\n",
    "\n"
   ]
  },
  {
   "cell_type": "code",
   "execution_count": null,
   "metadata": {
    "ExecuteTime": {
     "start_time": "2020-06-22T00:25:48.473Z"
    },
    "run_control": {
     "marked": false
    }
   },
   "outputs": [],
   "source": [
    "# %load example10.py\n",
    "#!/usr/bin/python3\n",
    "\n",
    "__author__ = 'yangdd'\n",
    "\n",
    "'''\n",
    "  example 010\n",
    "'''\n",
    "\n",
    "import time\n",
    "\n",
    "\n",
    "print(time.strftime('%Y-%m-%d %H:%M:%S',time.localtime()))\n",
    "time.sleep(1)\n",
    "print(time.strftime('%Y-%m-%d %H:%M:%S')) # 这个参数在表示当前时间的时候可以省略 time.localtime()"
   ]
  },
  {
   "cell_type": "code",
   "execution_count": null,
   "metadata": {
    "ExecuteTime": {
     "start_time": "2020-06-22T00:25:48.480Z"
    },
    "run_control": {
     "marked": false
    }
   },
   "outputs": [],
   "source": [
    "# %load example11.py\n",
    "#!/usr/bin/python3\n",
    "\n",
    "\n",
    "__author__ = 'yangdd'\n",
    "\n",
    "'''\n",
    " example 011\n",
    "'''\n",
    "\n",
    "month = int(input('第几个月的兔子总数：'))\n",
    "a,b=0,1\n",
    "for i in range(1,month):\n",
    "    a,b=b,a+b\n",
    "\n",
    "\t\n",
    "print('第%d个月，兔子总数是：%d' %(month,b*2))\n",
    "\t\n",
    "\t"
   ]
  },
  {
   "cell_type": "code",
   "execution_count": null,
   "metadata": {
    "ExecuteTime": {
     "start_time": "2020-06-22T00:25:48.494Z"
    },
    "run_control": {
     "marked": false
    }
   },
   "outputs": [],
   "source": [
    "# %load example12.py\n",
    "#!/usr/bin/python3\n",
    "\n",
    "\n",
    "__author__ = 'yangdd'\n",
    "\n",
    "'''\n",
    " example 012\n",
    "\t\n",
    "  这里我们用filter求质数（素数）\n",
    "\t\n",
    "  假如求 101 到200之间的素数 可以 用一个数分别去除2到sqrt(这个数)，如果能被整除，则表明此数不是素数，反之是素数。 \n",
    "\t\n",
    " '''\n",
    "\n",
    "# 先构造一个从3开始的奇数序列\n",
    "\n",
    "def _odd_iter():\n",
    "\tn = 1\n",
    "\twhile True:\n",
    "\t\tn += 2\n",
    "\t\tyield n\n",
    "\n",
    "\t\t\n",
    "# 定义一个筛选函数\n",
    "def _not_divisible(n):\n",
    "\treturn lambda x : x % n >0\n",
    "'''\n",
    "  Python的filter要求接受一个参数，但事实上我们筛选过程中有两个参数：待筛的元素和当前筛选所用因数。\n",
    "  由于每轮筛选时因数是一定的，所以我们可以通过每轮生成一个携带因数的闭包来变两个参数为一个参数\n",
    "  \n",
    "  等同于下面的代码\n",
    "  def _not_divisible(n):\n",
    "\tdef anonymous(x):\n",
    "\t\treturn x % n >0\n",
    "  return anonymous\n",
    "  \n",
    "  \n",
    "  \n",
    "'''\t\n",
    "\n",
    "#  定义一个生成器，不断返回素数\n",
    "def primes():\n",
    "\tyield 2\n",
    "\tit = _odd_iter() # 初始化序列\n",
    "\twhile True:\n",
    "\t\tn = next(it)\n",
    "\t\tyield n\n",
    "\t\tit = filter(_not_divisible(n),it)\n",
    "\t\t\n",
    "\t\t\n",
    "# 打印1000以内的素数\n",
    "for n in primes():\n",
    "\tif n <1000:\n",
    "\t\tprint(n)\n",
    "\telse:\n",
    "\t\tbreak\n",
    "\t\n",
    "\t\t\n",
    "\t\t\n",
    "\n",
    "\n"
   ]
  },
  {
   "cell_type": "code",
   "execution_count": null,
   "metadata": {
    "ExecuteTime": {
     "start_time": "2020-06-22T00:25:48.503Z"
    },
    "run_control": {
     "marked": false
    }
   },
   "outputs": [],
   "source": [
    "# %load example13.py\n",
    "#!/usr/bin/python3\n",
    "\n",
    "__author__ = 'yangdd'\n",
    "\n",
    "\n",
    "'''\n",
    " example 013\n",
    "'''\n",
    "\n",
    "for i in range(100,1000):\n",
    "\tx = int(i / 100) \n",
    "\ty = int(i / 10 % 10)\n",
    "\tz = int(i % 10)\n",
    "\tif i == ((x ** 3) + (y ** 3) + (z ** 3)):\n",
    "\t\tprint(i)\n",
    "\n",
    "\n"
   ]
  },
  {
   "cell_type": "code",
   "execution_count": null,
   "metadata": {
    "ExecuteTime": {
     "start_time": "2020-06-22T00:25:48.517Z"
    },
    "run_control": {
     "marked": false
    }
   },
   "outputs": [],
   "source": [
    "# %load example14.py\n",
    "#!/usr/bin/python3\n",
    "\n",
    "__author__ = 'yangdd'\n",
    "\n",
    "\n",
    "'''\n",
    " example 014\n",
    "'''\n",
    "\n",
    "import math  \n",
    "number = int(input(\"Enter a number: \"))  \n",
    "  \n",
    "list = []  \n",
    "  \n",
    "def getChildren(num):  \n",
    "    print('*'*30)  \n",
    "    isZhishu = True  \n",
    "    i = 2  \n",
    "    square = int(math.sqrt(num)) + 1  #判断一个数n是否是质数时候，只需要2到n的平方根就行了\n",
    "    while i <= square:\n",
    "       \tif num % i == 0:  \n",
    "            list.append(i)  \n",
    "            isZhishu = False\t\t\t\t\t\n",
    "            getChildren(num / i)  # 不是质数 继续分解 该数\n",
    "            i += 1  \n",
    "            break  \n",
    "        i += 1  \n",
    "    if isZhishu:  \n",
    "        list.append(int(num))  # 是质数 加入list\n",
    "  \n",
    "getChildren(number)  \n",
    "print(list)  "
   ]
  },
  {
   "cell_type": "code",
   "execution_count": null,
   "metadata": {
    "ExecuteTime": {
     "end_time": "2020-06-22T00:31:43.351805Z",
     "start_time": "2020-06-22T00:31:43.342812Z"
    },
    "run_control": {
     "marked": false
    }
   },
   "outputs": [],
   "source": [
    "# %load example15.py\n",
    "#!/usr/bin/python3\n",
    "\n",
    "__author__ = 'yangdd'\n",
    "\n",
    "'''\n",
    " example 015\n",
    "'''\n",
    "\n",
    "score = int(input('请输入成绩：'))\n",
    "\n",
    "if score >= 90:\n",
    "\tgrade = 'A'\n",
    "elif score >= 60:\n",
    "\tgrade = 'B'\n",
    "else:\n",
    "\tgrade = 'C'\n",
    "\t\n",
    "print('%d belongs to %s' % (score,grade))\t"
   ]
  },
  {
   "cell_type": "code",
   "execution_count": null,
   "metadata": {
    "ExecuteTime": {
     "end_time": "2020-06-22T00:31:45.399646Z",
     "start_time": "2020-06-22T00:31:45.391649Z"
    },
    "run_control": {
     "marked": false
    }
   },
   "outputs": [],
   "source": [
    "# %load example16.py\n",
    "#!/usr/bin/python3\n",
    "\n",
    "__author__ = 'yangdd'\n",
    "\n",
    "\n",
    "'''\n",
    "  example 016\n",
    "  \n",
    "  python中日期格式化符号\n",
    "  \n",
    "\t%y 两位数的年份表示（00-99）\n",
    "\t%Y 四位数的年份表示（000-9999）\n",
    "\t%m 月份（01-12）\n",
    "\t%d 月内中的一天（0-31）\n",
    "\t%H 24小时制小时数（0-23）\n",
    "\t%I 12小时制小时数（01-12）\n",
    "\t%M 分钟数（00=59）\n",
    "\t%S 秒（00-59）\n",
    "\t%a 本地简化星期名称\n",
    "\t%A 本地完整星期名称\n",
    "\t%b 本地简化的月份名称\n",
    "\t%B 本地完整的月份名称\n",
    "\t%c 本地相应的日期表示和时间表示\n",
    "\t%j 年内的一天（001-366）\n",
    "\t%p 本地A.M.或P.M.的等价符\n",
    "\t%U 一年中的星期数（00-53）星期天为星期的开始\n",
    "\t%w 星期（0-6），星期天为星期的开始\n",
    "\t%W 一年中的星期数（00-53）星期一为星期的开始\n",
    "\t%x 本地相应的日期表示\n",
    "\t%X 本地相应的时间表示\n",
    "\t%Z 当前时区的名称\n",
    "\t%% %号本身\n",
    "  \n",
    "'''\n",
    "\n",
    "import time\n",
    "import calendar\n",
    "import datetime\n",
    "\n",
    "if __name__ == '__main__':\n",
    "\t\n",
    "\tticks = time.time()\n",
    "\tprint('当前时间戳:',ticks)\n",
    "\t\n",
    "\tlocaltime = time.localtime();\n",
    "\tprint('本地时间：',localtime)\n",
    "\tprint()\n",
    "\tprint('获取格式化的时间')\n",
    "\tlocaltime = time.asctime( time.localtime(time.time()) )\n",
    "\tprint (\"本地时间为 :\", localtime)\n",
    "\tprint()\n",
    "\tprint('可以使用 time 模块的 strftime 方法来格式化日期')\n",
    "\t# 格式化成2016-03-20 11:45:39形式\n",
    "\tprint (time.strftime(\"%Y-%m-%d %H:%M:%S\", time.localtime()))\n",
    "\n",
    "\t# 格式化成Sat Mar 28 22:24:24 2016形式\n",
    "\tprint (time.strftime(\"%a %b %d %H:%M:%S %Y\", time.localtime()))\n",
    "  \n",
    "\t# 将格式字符串转换为时间戳\n",
    "\ta = \"Sat Mar 28 22:24:24 2016\"\n",
    "\tprint (time.mktime(time.strptime(a,\"%a %b %d %H:%M:%S %Y\")))\n",
    "\n",
    "\tprint()\n",
    "\tprint('Calendar模块有很广泛的方法用来处理年历和月历，例如打印某月的月历：')\n",
    "\tcal = calendar.month(2017, 3)\n",
    "\tprint (\"以下输出2017年3月份的日历:\")\n",
    "\tprint (cal)\n",
    "\t\n",
    "\t# 创建日期对象\n",
    "\tmiyazakiBirthDate = datetime.date(1941, 1, 5)\n",
    " \n",
    "\tprint(miyazakiBirthDate.strftime('%d/%m/%Y'))\n",
    " \n",
    "    # 日期算术运算\n",
    "\tmiyazakiBirthNextDay = miyazakiBirthDate + datetime.timedelta(days=1)\n",
    " \n",
    "\tprint(miyazakiBirthNextDay.strftime('%d/%m/%Y'))\n",
    " \n",
    "    # 日期替换\n",
    "\tmiyazakiFirstBirthday = miyazakiBirthDate.replace(year=miyazakiBirthDate.year + 1)\n",
    " \n",
    "\tprint(miyazakiFirstBirthday.strftime('%d/%m/%Y'))\n",
    "\n"
   ]
  },
  {
   "cell_type": "code",
   "execution_count": null,
   "metadata": {
    "ExecuteTime": {
     "end_time": "2020-06-22T00:31:45.980134Z",
     "start_time": "2020-06-22T00:31:45.971141Z"
    },
    "run_control": {
     "marked": false
    }
   },
   "outputs": [],
   "source": [
    "# %load example17.py\n",
    "#!/usr/bin/python3\n",
    "\n",
    "__author__ = 'yangdd' \n",
    "\n",
    "\n",
    "'''\n",
    "\texample 017\n",
    "'''\n",
    "\n",
    "str = input('input a String:')\n",
    "\n",
    "letters=0\n",
    "space =0\n",
    "digit=0\n",
    "others=0\n",
    "\n",
    "for s in str:\n",
    "\tif s.isalpha():\n",
    "\t\tletters+=1\n",
    "\telif s.isspace():\n",
    "\t\tspace+=1\n",
    "\telif s.isdigit():\n",
    "\t\tdigit+=1\n",
    "\telse:\n",
    "\t\tothers+=1\n",
    "\t\t\n",
    "print('char = %d,space = %d,digit = %d,others = %d' % (letters,space,digit,others))\t\t"
   ]
  },
  {
   "cell_type": "code",
   "execution_count": null,
   "metadata": {
    "ExecuteTime": {
     "end_time": "2020-06-22T00:31:46.586396Z",
     "start_time": "2020-06-22T00:31:46.579401Z"
    },
    "run_control": {
     "marked": false
    }
   },
   "outputs": [],
   "source": [
    "# %load example18.py\n",
    "#!/usr/bin/python3\n",
    "\n",
    "__author__ = 'yangdd'\n",
    "\n",
    "'''\n",
    "\texample 018\n",
    "'''\n",
    "\n",
    "from functools import reduce\n",
    "\n",
    "def add(x,y):\n",
    "\tn = x*10+y\n",
    "\tlist.append(n)\n",
    "\treturn n\n",
    "\n",
    "n = int(input('请输入一个数值：'))\n",
    "\n",
    "leap= int(input('请输入需要相加的次数：'))\n",
    "\n",
    "list=[n]\n",
    "\n",
    "basicList=[n]*leap\n",
    "\n",
    "# 生成需要相加的list\n",
    "reduce(add,basicList)\n",
    "\n",
    "total = sum(list)\n",
    "\n",
    "print('total:',total)\t"
   ]
  },
  {
   "cell_type": "code",
   "execution_count": null,
   "metadata": {
    "ExecuteTime": {
     "end_time": "2020-06-22T00:31:47.243479Z",
     "start_time": "2020-06-22T00:31:47.235487Z"
    },
    "run_control": {
     "marked": false
    }
   },
   "outputs": [],
   "source": [
    "# %load example19.py\n",
    "#!/usr/bin/python3\n",
    "\n",
    "__author__ = 'yangdd'\n",
    "\n",
    "'''\n",
    "\texample 019\n",
    "'''\n",
    "\n",
    "import math\n",
    "\n",
    "\n",
    "\n",
    "# 先构造一个从3开始的奇数序列\n",
    "\n",
    "def _odd_iter():\n",
    "\tn = 1\n",
    "\twhile True:\n",
    "\t\tn += 2\n",
    "\t\tyield n\n",
    "\n",
    "\t\t\n",
    "# 定义一个筛选函数\n",
    "def _not_divisible(n):\n",
    "\treturn lambda x : x % n >0\n",
    "  \n",
    "#  定义一个生成器，不断返回素数\n",
    "def primes():\n",
    "\tyield 2\n",
    "\tit = _odd_iter() # 初始化序列\n",
    "\twhile True:\n",
    "\t\tn = next(it)\n",
    "\t\tyield n\n",
    "\t\tit = filter(_not_divisible(n),it)\n",
    "\t\t\n",
    "\t\t\n",
    "list=[]\n",
    "\n",
    "for p in primes():\n",
    "\tif p < 1000:\n",
    "\t\tlist.append(p)\n",
    "\telse:\n",
    "\t\tbreak\n",
    "\n",
    "'''\n",
    "如果p是质数，且2^p-1也是质数，那么（2^p-1）X2^（p-1）便是一个完全数。\n",
    "'''\n",
    "for p in range(1,10):\n",
    "\tif (p in list) and (pow(2,p)-1 in list):\n",
    "\t\tnum1 = pow(2,p)-1\n",
    "\t\tnum2 = pow(2,p-1)\n",
    "\t\tprint('完数：',num1*num2)"
   ]
  },
  {
   "cell_type": "code",
   "execution_count": null,
   "metadata": {
    "ExecuteTime": {
     "end_time": "2020-06-22T00:31:47.792005Z",
     "start_time": "2020-06-22T00:31:47.783011Z"
    },
    "run_control": {
     "marked": false
    }
   },
   "outputs": [],
   "source": [
    "# %load example20.py\n",
    "#!/use/bin/python3\n",
    "\n",
    "__author__ = 'yangdd'\n",
    "\n",
    "'''\n",
    "\texample 020\n",
    "'''\n",
    "\n",
    "\n",
    "# 每次下落的高度\n",
    "fall = []\n",
    "# 每次上升的高度\n",
    "up=[]\n",
    "\n",
    "height = 100;\n",
    "\n",
    "tim = 10\n",
    "for i in range(1,tim+1):\n",
    "\tfall.append(height)\n",
    "\theight/=2\n",
    "\tup.append(fall[-1]/2)\n",
    "\t\n",
    "\n",
    "\n",
    "print('它在第%d次落地时，共经过%f米' % (tim,sum(fall)+sum(up[:-1])))\n",
    "print('第%d次反弹%f米' % (tim,up[-1]))\t"
   ]
  },
  {
   "cell_type": "code",
   "execution_count": null,
   "metadata": {
    "ExecuteTime": {
     "end_time": "2020-06-22T00:31:48.362678Z",
     "start_time": "2020-06-22T00:31:48.352686Z"
    },
    "run_control": {
     "marked": false
    }
   },
   "outputs": [],
   "source": [
    "# %load example21.py\n",
    "#!/usr/bin/python3\n",
    "\n",
    "__author__ = 'yangdd'\n",
    "\n",
    "'''\n",
    "\texample 021\n",
    "'''\n",
    "\n",
    "peaches = 1\n",
    "\n",
    "for i in range(9,0,-1):\n",
    "\tpeaches = (peaches+1)*2\n",
    "print(peaches)"
   ]
  },
  {
   "cell_type": "code",
   "execution_count": null,
   "metadata": {
    "ExecuteTime": {
     "end_time": "2020-06-22T00:31:48.984942Z",
     "start_time": "2020-06-22T00:31:48.977952Z"
    },
    "run_control": {
     "marked": false
    }
   },
   "outputs": [],
   "source": [
    "# %load example22.py\n",
    "#!/usr/bin/python3\n",
    "\n",
    "__author__ = 'yangdd'\n",
    "\n",
    "'''\n",
    "\texample 022\n",
    "'''\n",
    "\n",
    "for i in range(ord('x'),ord('z') + 1):\n",
    "    for j in range(ord('x'),ord('z') + 1):\n",
    "        if i != j:\n",
    "            for k in range(ord('x'),ord('z') + 1):\n",
    "                if (i != k) and (j != k):\n",
    "                    if (i != ord('x')) and (k != ord('x')) and (k != ord('z')):\n",
    "                        print('order is a -- %s\\t b -- %s\\tc--%s' % (chr(i),chr(j),chr(k)))\n",
    "\t\t\t\t\t\t\t"
   ]
  },
  {
   "cell_type": "code",
   "execution_count": null,
   "metadata": {
    "ExecuteTime": {
     "end_time": "2020-06-22T00:31:50.241903Z",
     "start_time": "2020-06-22T00:31:50.233904Z"
    },
    "run_control": {
     "marked": false
    }
   },
   "outputs": [],
   "source": [
    "# %load example23.py\n",
    "#!/usr/bin/python3\n",
    "\n",
    "__author__ = 'yangdd'\n",
    "\n",
    "'''\n",
    "\texample 023\n",
    "\t\n",
    "\tPython的内置方法 str.center(width [, fillchar]) \n",
    "\tstr最中心的字符 ，width即打印的最大宽度，fillchar：其他位置填充的字符，默认填充字符就是空格。 如果width小于或等于len（s），则返回原始字符串\n",
    "'''\n",
    "\n",
    "s = '*'\n",
    "for i in range(1, 8, 2):\n",
    "    print((s*i).center(7))\n",
    "for i in reversed(range(1, 6, 2)):\n",
    "    print((s*i).center(7))"
   ]
  },
  {
   "cell_type": "code",
   "execution_count": null,
   "metadata": {
    "ExecuteTime": {
     "end_time": "2020-06-22T00:31:53.698738Z",
     "start_time": "2020-06-22T00:31:53.689745Z"
    },
    "run_control": {
     "marked": false
    }
   },
   "outputs": [],
   "source": [
    "# %load example24.py\n",
    "#!/use/bin/python3\n",
    "\n",
    "__author__ = 'yangdd'\n",
    "\n",
    "'''\n",
    "\texample 024\n",
    "'''\n",
    "\n",
    "\n",
    "a = 2\n",
    "b =1\n",
    "\n",
    "total = 0.0\n",
    "\n",
    "for i in range(1,21):\n",
    "\ttotal += a/b\n",
    "\ta,b=a+b,a\n",
    "\t\n",
    "print(total)\n"
   ]
  },
  {
   "cell_type": "code",
   "execution_count": null,
   "metadata": {
    "ExecuteTime": {
     "end_time": "2020-06-22T00:31:53.933605Z",
     "start_time": "2020-06-22T00:31:53.924612Z"
    },
    "run_control": {
     "marked": false
    }
   },
   "outputs": [],
   "source": [
    "# %load example25.py\n",
    "#!/usr/bin/python3\n",
    "\n",
    "__author__ = 'yangdd'\n",
    "\n",
    "'''\n",
    "\texample 025\n",
    "'''\n",
    "\n",
    "s = 1\n",
    "total = 0\n",
    "for i in range(1,21):\n",
    "\ts *= i # 每个阶乘的值\n",
    "\ttotal += s\n",
    "\t\n",
    "\n",
    "\t\n",
    "print(total)"
   ]
  },
  {
   "cell_type": "code",
   "execution_count": null,
   "metadata": {
    "ExecuteTime": {
     "end_time": "2020-06-22T00:31:54.177465Z",
     "start_time": "2020-06-22T00:31:54.169469Z"
    },
    "run_control": {
     "marked": false
    }
   },
   "outputs": [],
   "source": [
    "# %load example26.py\n",
    "#!/usr/bin/python3\n",
    "\n",
    "__author__ = 'yangdd'\n",
    "\n",
    "'''\n",
    "\texample 026\n",
    "'''\n",
    "\n",
    "\n",
    "\n",
    "def fact(num):\n",
    "\treturn fact_inter(num,1);\n",
    "\n",
    "def fact_inter(num,product):\n",
    "\tif num ==1:\n",
    "\t\treturn product\t\n",
    "\treturn fact_inter(num-1,num*product)\n",
    "\t\n",
    "\n",
    "\t\n",
    "\t\n",
    "print(\"5!=\",fact(5))\t"
   ]
  },
  {
   "cell_type": "code",
   "execution_count": null,
   "metadata": {
    "ExecuteTime": {
     "end_time": "2020-06-22T00:31:54.352365Z",
     "start_time": "2020-06-22T00:31:54.342371Z"
    },
    "run_control": {
     "marked": false
    }
   },
   "outputs": [],
   "source": [
    "# %load example27.py\n",
    "#!/use/bin/python3\n",
    "\n",
    "__author__ = 'yangdd'\n",
    "\n",
    "'''\n",
    "\texample 027\n",
    "'''\n",
    "\n",
    "def output(str):\n",
    "\tif len(str)>0:\n",
    "\t\tprint(str[-1])\n",
    "\t\toutput(str[0:-1])\n",
    "\n",
    "\n",
    "string = str(input('请输入一个字符串：'))\n",
    "output(string)\t\t"
   ]
  },
  {
   "cell_type": "code",
   "execution_count": null,
   "metadata": {
    "ExecuteTime": {
     "end_time": "2020-06-22T00:31:54.548253Z",
     "start_time": "2020-06-22T00:31:54.537261Z"
    },
    "run_control": {
     "marked": false
    }
   },
   "outputs": [],
   "source": [
    "# %load example28.py\n",
    "#!/use/bin/python3\n",
    "\n",
    "__author__ = 'yangdd'\n",
    "\n",
    "'''\n",
    "\texample 028\n",
    "'''\n",
    "\n",
    "def age(age):\n",
    "\treturn age_inter(age,5);\n",
    "\n",
    "def age_inter(age,num):\n",
    "\tif num ==1:\n",
    "\t\treturn age\t\n",
    "\treturn age_inter(age+2,num-1)\n",
    "\t\n",
    "\n",
    "\t\n",
    "\t\n",
    "print(age(10))\t"
   ]
  },
  {
   "cell_type": "code",
   "execution_count": null,
   "metadata": {
    "ExecuteTime": {
     "end_time": "2020-06-22T00:31:54.809103Z",
     "start_time": "2020-06-22T00:31:54.799108Z"
    },
    "run_control": {
     "marked": false
    }
   },
   "outputs": [],
   "source": [
    "# %load example29.py\n",
    "#!/use/bin/python3\n",
    "\n",
    "__author__ = 'yangdd'\n",
    "\n",
    "'''\n",
    "\texample 029\n",
    "'''\n",
    "\n",
    "x = int(input('请输入一个数：'))\n",
    "\n",
    "#a = int(num / 10000)\n",
    "#b = int(num / 1000 % 10)\n",
    "#c = int(num / 100 % 10)\n",
    "#d = int(num / 10 % 10)\n",
    "#e = int(num % 10)\n",
    "\n",
    "a = int(x / 10000)\n",
    "b = int(x % 10000 / 1000)\n",
    "c = int(x % 1000 / 100)\n",
    "d = int(x % 100 / 10)\n",
    "e = int(x % 10)\n",
    "\n",
    "if a!=0:\n",
    "\tprint('5 位数：',a,b,c,d,e)"
   ]
  },
  {
   "cell_type": "code",
   "execution_count": null,
   "metadata": {
    "ExecuteTime": {
     "end_time": "2020-06-22T00:31:55.004992Z",
     "start_time": "2020-06-22T00:31:54.997016Z"
    },
    "run_control": {
     "marked": false
    }
   },
   "outputs": [],
   "source": [
    "# %load example30.py\n",
    "#!/usr/bin/python3\n",
    "\n",
    "__author__ = 'yangdd'\n",
    "\n",
    "'''\n",
    "\texample 030\n",
    "'''\n",
    "\n",
    "a = int(input(\"请输入一个数字：\"))\n",
    "\n",
    "s = str(a)\n",
    "\n",
    "if s == s[::-1]:\n",
    "\tprint(s,\"是回文数\")\n",
    "else:\n",
    "\tprint(s,'不是回文数')"
   ]
  },
  {
   "cell_type": "code",
   "execution_count": null,
   "metadata": {
    "ExecuteTime": {
     "end_time": "2020-06-22T00:31:55.257846Z",
     "start_time": "2020-06-22T00:31:55.250852Z"
    },
    "run_control": {
     "marked": false
    }
   },
   "outputs": [],
   "source": [
    "# %load example31.py\n",
    "#!/usr/bin/python3\n",
    "\n",
    "__author__ = 'yangdd'\n",
    "\n",
    "'''\n",
    "\texample 031\n",
    "'''\n",
    "\n",
    "week = ['Monday','Tuesday','Wednesday','Thursday','Friday','Saturday','Sunday']\n",
    "\n",
    "num = 0\n",
    "inputed = ''\n",
    "while True:\n",
    "\tnum+=1\n",
    "\tif num > 8:\n",
    "\t\tprint('找不到')\n",
    "\t\tbreak\n",
    "\telse:\n",
    "\t\tresult= []\n",
    "\t\ttip = '请输入第'+str(num)+'个单词：'\n",
    "\t\ts = str(input(tip))\n",
    "\t\tif s!='':\n",
    "\t\t\ts = inputed + s\n",
    "\t\t\tfor w in week:\n",
    "\t\t\t\tif s!='' and w.startswith(s):\n",
    "\t\t\t\t\tresult.append(w)\n",
    "\t\t\tif len(result)==1:\n",
    "\t\t\t\tprint(result[0])\n",
    "\t\t\t\tbreak\n",
    "\t\t\tinputed=s\t"
   ]
  },
  {
   "cell_type": "code",
   "execution_count": null,
   "metadata": {
    "ExecuteTime": {
     "end_time": "2020-06-22T00:31:55.448736Z",
     "start_time": "2020-06-22T00:31:55.439741Z"
    },
    "run_control": {
     "marked": false
    }
   },
   "outputs": [],
   "source": [
    "# %load example32.py\n",
    "#!/usr/bin/python3\n",
    "\n",
    "__author__ = 'yangdd'\n",
    "\n",
    "'''\n",
    "\texample 032\n",
    "'''\n",
    "\n",
    "\n",
    "a = ['one', 'two', 'three']\n",
    "for i in a[::-1]:\n",
    "\tprint(i)"
   ]
  },
  {
   "cell_type": "code",
   "execution_count": null,
   "metadata": {
    "ExecuteTime": {
     "end_time": "2020-06-22T00:31:55.953447Z",
     "start_time": "2020-06-22T00:31:55.944469Z"
    },
    "run_control": {
     "marked": false
    }
   },
   "outputs": [],
   "source": [
    "# %load example33.py\n",
    "#!/usr/bin/python3\n",
    "\n",
    "__author__ = 'yangdd'\n",
    "\n",
    "'''\n",
    "\texample 033\n",
    "'''\n",
    "\n",
    "l=[1,2,3,4,5]\n",
    "s = ','.join(map(lambda x : str(x),l))\n",
    "print(s)"
   ]
  },
  {
   "cell_type": "code",
   "execution_count": null,
   "metadata": {
    "ExecuteTime": {
     "end_time": "2020-06-22T00:31:56.384200Z",
     "start_time": "2020-06-22T00:31:56.378204Z"
    },
    "run_control": {
     "marked": false
    }
   },
   "outputs": [],
   "source": [
    "# %load example34.py\n",
    "#!/usr/bin/python3\n",
    "\n",
    "__author__ = 'yangdd'\n",
    "\n",
    "'''\n",
    "\texample 034\n",
    "'''\n",
    "\n",
    "def hello_world():\n",
    "\tprint('Hello World')\n",
    "\t\n",
    "\t\n",
    "def three_hello():\n",
    "\tfor i in range(3):\n",
    "\t\thello_world()\n",
    "\t\t\n",
    "\n",
    "if __name__ == '__main__':\n",
    "\tthree_hello()"
   ]
  },
  {
   "cell_type": "code",
   "execution_count": null,
   "metadata": {
    "ExecuteTime": {
     "end_time": "2020-06-22T00:31:56.750990Z",
     "start_time": "2020-06-22T00:31:56.742992Z"
    },
    "run_control": {
     "marked": false
    }
   },
   "outputs": [],
   "source": [
    "# %load example35.py\n",
    "#!/usr/bin/python\n",
    "\n",
    "'''\n",
    "\texample 035\n",
    "\tonly linux\n",
    "\twindows --> https://my.oschina.net/bluefly/blog/311209\n",
    "'''\n",
    "\n",
    "class bcolors:\n",
    "    HEADER = '\\033[95m'\n",
    "    OKBLUE = '\\033[94m'\n",
    "    OKGREEN = '\\033[92m'\n",
    "    WARNING = '\\033[93m'\n",
    "    FAIL = '\\033[91m'\n",
    "    ENDC = '\\033[0m'\n",
    "    BOLD = '\\033[1m'\n",
    "    UNDERLINE = '\\033[4m'\n",
    "print(bcolors.WARNING + \"警告的颜色字体?\" + bcolors.ENDC)"
   ]
  },
  {
   "cell_type": "code",
   "execution_count": null,
   "metadata": {
    "ExecuteTime": {
     "end_time": "2020-06-22T00:31:57.030829Z",
     "start_time": "2020-06-22T00:31:57.023834Z"
    },
    "run_control": {
     "marked": false
    }
   },
   "outputs": [],
   "source": [
    "# %load example36.py\n",
    "#!/usr/bin/python\n",
    "\n",
    "'''\n",
    "\texample 036\n",
    "'''\n",
    "\n",
    "lower = int(input(\"输入区间最小值: \"))\n",
    "upper = int(input(\"输入区间最大值: \"))\n",
    "\n",
    "for num in range(lower,upper+1):\n",
    "\tif num > 1:\n",
    "\t\tfor i in range(2,num):\n",
    "\t\t\tif (num % i) == 0:\n",
    "\t\t\t\tbreak\n",
    "\t\telse:\n",
    "\t\t\tprint(num)\n",
    "\t\t\t\t\n"
   ]
  },
  {
   "cell_type": "code",
   "execution_count": null,
   "metadata": {
    "ExecuteTime": {
     "end_time": "2020-06-22T00:31:57.304675Z",
     "start_time": "2020-06-22T00:31:57.295677Z"
    },
    "run_control": {
     "marked": false
    }
   },
   "outputs": [],
   "source": [
    "# %load example37.py\n",
    "#!/usr/bin/python3\n",
    "\n",
    "'''\n",
    "\texample 037\n",
    "\t选择排序\n",
    "'''\n",
    "\n",
    "l = [5,3,23,67,2,56,45,89,239,9]\n",
    "\n",
    "for i in range(10-1):\n",
    "\tmin = i\n",
    "\tfor j in range(i+1,10):\n",
    "\t\tif l[min]>l[j]:\n",
    "\t\t\tmin = j\n",
    "\tprint(i,min)\n",
    "\tl[i],l[min]=l[min],l[i]\n",
    "\t\n",
    "\n",
    "for i in range(10):\n",
    "\tprint(l[i])"
   ]
  },
  {
   "cell_type": "code",
   "execution_count": null,
   "metadata": {
    "ExecuteTime": {
     "end_time": "2020-06-22T00:31:57.514552Z",
     "start_time": "2020-06-22T00:31:57.505556Z"
    },
    "run_control": {
     "marked": false
    }
   },
   "outputs": [],
   "source": [
    "# %load example38.py\n",
    "#!/usr/bin/python3\n",
    "\n",
    "'''\n",
    "\texample 038\n",
    "'''\n",
    "if __name__ == '__main__':\n",
    "    a = []\n",
    "    sum = 0.0\n",
    "    for i in range(3):\n",
    "        a.append([])\n",
    "        for j in range(3):\n",
    "            a[i].append(float(input(\"input num:\\n\")))\n",
    "    for i in range(3):\n",
    "        sum += a[i][i]\n",
    "    print(sum)"
   ]
  },
  {
   "cell_type": "code",
   "execution_count": null,
   "metadata": {
    "ExecuteTime": {
     "end_time": "2020-06-22T00:31:57.718435Z",
     "start_time": "2020-06-22T00:31:57.709439Z"
    },
    "run_control": {
     "marked": false
    }
   },
   "outputs": [],
   "source": [
    "# %load example39.py\n",
    "#!/usr/bin/python3\n",
    "\n",
    "'''\n",
    "\texample 039\n",
    "'''\n",
    "\n",
    "if __name__ == '__main__':\n",
    "\ta = [1,4,6,9,13,16,19,28,40,100] # 顺序\n",
    "\t#a = a[::-1] # 倒叙\n",
    "\tprint('original list is：')\n",
    "\tfor i in range(len(a)):\n",
    "\t\tprint(a[i])\n",
    "\t\t\n",
    "\tnumber = int(input('insert a new number:'))\n",
    "\t\n",
    "\tif a[0]<a[1]:\n",
    "\t\tif number < a[0]:\n",
    "\t\t\ta.insert(0,number)\n",
    "\t\telif number > a[-1]:\n",
    "\t\t\ta.insert(len(a),number)\n",
    "\t\telse:\n",
    "\t\t\tfor i in range(len(a)-1):\n",
    "\t\t\t\tif a[i]< number and a[i+1]> number:\n",
    "\t\t\t\t\ta.insert(i+1,number)\n",
    "\t\t\t\t\tbreak\n",
    "\telse:\n",
    "\t\tif number > a[0]:\n",
    "\t\t\ta.insert(0,number)\n",
    "\t\telif number<a[-1]:\n",
    "\t\t\ta.insert(len(a),number)\n",
    "\t\telse:\n",
    "\t\t\tfor i in range(len(a)-1):\n",
    "\t\t\t\tif a[i]>number and number>a[i+1]:\n",
    "\t\t\t\t\ta.insert(i+1,number)\n",
    "\t\t\t\t\tbreak\n",
    "\t\t\t\t\t\n",
    "\tprint('new list is：')\n",
    "\tfor i in range(len(a)):\n",
    "\t\tprint(a[i])\t\t\t\t"
   ]
  },
  {
   "cell_type": "code",
   "execution_count": null,
   "metadata": {
    "ExecuteTime": {
     "end_time": "2020-06-22T00:31:57.942307Z",
     "start_time": "2020-06-22T00:31:57.935310Z"
    },
    "run_control": {
     "marked": false
    }
   },
   "outputs": [],
   "source": [
    "# %load example40.py\n",
    "#!/usr/bin/python3\n",
    "\n",
    "'''\n",
    "\texample 040\n",
    "'''\n",
    "a = [9,6,5,4,1]\n",
    "\n",
    "def solution1():\n",
    "\tprint(a)\n",
    "\tN = len(a)\n",
    "\tfor i in range(N >> 1):\n",
    "\t\ta[i],a[N-1-i]=a[N-1-i],a[i]\n",
    "\t\n",
    "\tprint(a)\n",
    "\t\n",
    "def solution2():\n",
    "\tprint(a[::-1])\n",
    "\t\n",
    "\t\n",
    "if __name__ == '__main__':\n",
    "\tsolution2()"
   ]
  },
  {
   "cell_type": "code",
   "execution_count": null,
   "metadata": {
    "ExecuteTime": {
     "end_time": "2020-06-22T00:31:58.202157Z",
     "start_time": "2020-06-22T00:31:58.193165Z"
    },
    "run_control": {
     "marked": false
    }
   },
   "outputs": [],
   "source": [
    "# %load example41.py\n",
    "#!/usr/bin/python3\n",
    "\n",
    "'''\n",
    "\texample 041\n",
    "'''\n",
    "\n",
    "class Static():\n",
    "\tstaticNum=1\n",
    "\tdef add(self):\n",
    "\t\tself.staticNum+=1\n",
    "\t\tprint(self.staticNum)\n",
    "\t\t\n",
    "\n",
    "\n",
    "s = Static()\n",
    "for i in range(3):\n",
    "\ts.add()"
   ]
  },
  {
   "cell_type": "code",
   "execution_count": null,
   "metadata": {
    "ExecuteTime": {
     "end_time": "2020-06-22T00:31:58.396060Z",
     "start_time": "2020-06-22T00:31:58.387050Z"
    },
    "run_control": {
     "marked": false
    }
   },
   "outputs": [],
   "source": [
    "# %load example42.py\n",
    "#!/usr/bin/python3\n",
    "\n",
    "'''\n",
    " example 042\n",
    "'''\n",
    "\n",
    "\n",
    "num = 2\n",
    "def autofunc():\n",
    "    num = 1\n",
    "    print 'internal block num = %d' % num\n",
    "    num += 1\n",
    "for i in range(3):\n",
    "    print 'The num = %d' % num\n",
    "    num += 1\n",
    "    autofunc()"
   ]
  },
  {
   "cell_type": "code",
   "execution_count": null,
   "metadata": {
    "ExecuteTime": {
     "end_time": "2020-06-22T00:31:58.611921Z",
     "start_time": "2020-06-22T00:31:58.602926Z"
    },
    "run_control": {
     "marked": false
    }
   },
   "outputs": [],
   "source": [
    "# %load example43.py\n",
    "#!/usr/bin/python3\n",
    "\n",
    "'''\n",
    " example 043\n",
    "'''\n",
    "\n",
    "class Num:\n",
    "    nNum = 1\n",
    "    def inc(self):\n",
    "        self.nNum += 1\n",
    "        print('nNum = %d' % self.nNum)\n",
    "\n",
    "if __name__ == '__main__':\n",
    "    nNum = 2\n",
    "    inst = Num()\n",
    "    for i in range(3):\n",
    "        nNum += 1\n",
    "        print('The num = %d' % nNum)\n",
    "        inst.inc()"
   ]
  },
  {
   "cell_type": "code",
   "execution_count": null,
   "metadata": {
    "ExecuteTime": {
     "end_time": "2020-06-22T00:31:58.861778Z",
     "start_time": "2020-06-22T00:31:58.853783Z"
    },
    "run_control": {
     "marked": false
    }
   },
   "outputs": [],
   "source": [
    "# %load example44.py\n",
    "#!/usr/bin/python3\n",
    "\n",
    "'''\n",
    " example 044\n",
    "'''\n",
    "\n",
    "X = [[12,7,3],[4,5,6],[7,8,9]]\n",
    "\n",
    "Y = [[5,8,1],[6,7,3],[4,5,9]]\n",
    "\n",
    "#result=[[],[],[]]\n",
    "\n",
    "result = [([0] * 3) for i in range(3)]\n",
    "\n",
    "\n",
    "\n",
    "for i in range(0,len(X)):\n",
    "\ttemp = X[i]\n",
    "\tfor j in range(0,len(temp)):\n",
    "\t\tresult[i][j]=X[i][j]+Y[i][j]\n",
    "\n",
    "\n",
    "\n",
    "for r in result:\n",
    "   print(r)"
   ]
  },
  {
   "cell_type": "code",
   "execution_count": null,
   "metadata": {
    "ExecuteTime": {
     "end_time": "2020-06-22T00:31:59.074656Z",
     "start_time": "2020-06-22T00:31:59.066661Z"
    },
    "run_control": {
     "marked": false
    }
   },
   "outputs": [],
   "source": [
    "# %load example45.py\n",
    "#!/usr/bin/python3\n",
    "\n",
    "'''\n",
    "\texample 045\n",
    "'''\n",
    "\n",
    "# solution 1\n",
    "\n",
    "from functools import reduce\n",
    "\n",
    "print(sum(range(1,101)))\n",
    "\n",
    "print(reduce(lambda a,b:a+b,range(1,101)))\n",
    "\n",
    "\n",
    "n = 0\n",
    "\n",
    "for x in range(101):\n",
    "\tn = x + n\n",
    "\t\n",
    "\n",
    "print(n)"
   ]
  },
  {
   "cell_type": "code",
   "execution_count": null,
   "metadata": {
    "ExecuteTime": {
     "end_time": "2020-06-22T00:31:59.326512Z",
     "start_time": "2020-06-22T00:31:59.315517Z"
    },
    "run_control": {
     "marked": false
    }
   },
   "outputs": [],
   "source": [
    "# %load example46.py\n",
    "#!/usr/bin/python3\n",
    "\n",
    "'''\n",
    "\texample 046\n",
    "\t\n",
    "\t** 幂运算\n",
    "\tpow(a,b) a的b次方\n",
    "\t\n",
    "'''\n",
    "\n",
    "flag = True\n",
    "\n",
    "while flag:\n",
    "\t\n",
    "\tnum = int(input('Please input number:'))\n",
    "\t\n",
    "\tresult = num ** 2\n",
    "\tprint('结果：',result)\n",
    "\tif result < 50:\n",
    "\t\tflag = False\n",
    "\t\tprint('结果小于50，则程序退出。')"
   ]
  },
  {
   "cell_type": "code",
   "execution_count": null,
   "metadata": {
    "ExecuteTime": {
     "end_time": "2020-06-22T00:31:59.486422Z",
     "start_time": "2020-06-22T00:31:59.480424Z"
    },
    "run_control": {
     "marked": false
    }
   },
   "outputs": [],
   "source": [
    "# %load example47.py\n",
    "#!/usr/bin/python3\n",
    "\n",
    "'''\n",
    "\texample 047\n",
    "'''\n",
    "\n",
    "def change(a,b):\n",
    "\ta,b=b,a\n",
    "\treturn (a,b)\n",
    "\t\n",
    "\t\n",
    "if __name__ == '__main__':\n",
    "\t\n",
    "\ta = 10\n",
    "\tb = 20\n",
    "\tprint('a = %d, b = %d' % (a,b))\n",
    "\ta,b = change(a,b)\n",
    "\tprint('a = %d, b = %d'  % (a,b))"
   ]
  },
  {
   "cell_type": "code",
   "execution_count": null,
   "metadata": {
    "ExecuteTime": {
     "end_time": "2020-06-22T00:31:59.789247Z",
     "start_time": "2020-06-22T00:31:59.780252Z"
    },
    "run_control": {
     "marked": false
    }
   },
   "outputs": [],
   "source": [
    "# %load example48.py\n",
    "#!/usr/bin/python3\n",
    "\n",
    "'''\n",
    "\texample 048\n",
    "'''\n",
    "\n",
    "a = int(input('请输入第一个整数：'))\n",
    "b = int(input('请输入第二个整数：'))\n",
    "\n",
    "if a > b:\n",
    "\tprint('%d > %d' % (a,b))\n",
    "elif a < b:\n",
    "\tprint('%d < %d' % (a,b))\n",
    "else:\n",
    "\tprint('%d = %d' % (a,b))"
   ]
  },
  {
   "cell_type": "code",
   "execution_count": null,
   "metadata": {
    "ExecuteTime": {
     "end_time": "2020-06-22T00:32:00.087076Z",
     "start_time": "2020-06-22T00:32:00.078080Z"
    },
    "run_control": {
     "marked": false
    }
   },
   "outputs": [],
   "source": [
    "# %load example49.py\n",
    "#!/usr/bin/python3\n",
    "\n",
    "'''\n",
    "\texample 049\n",
    "'''\n",
    "\n",
    "\n",
    "add = lambda x,y:x+y;\n",
    "hello = lambda who:'hello,'+who\n",
    "compare =  lambda x, y: x if x < y else y\n",
    "\n",
    "print(add(1,2))\n",
    "print(hello('Lee'))\n",
    "print(compare(1,2))"
   ]
  },
  {
   "cell_type": "code",
   "execution_count": null,
   "metadata": {
    "ExecuteTime": {
     "end_time": "2020-06-22T00:32:00.375910Z",
     "start_time": "2020-06-22T00:32:00.367915Z"
    },
    "run_control": {
     "marked": false
    }
   },
   "outputs": [],
   "source": [
    "# %load example50.py\n",
    "#!/usr/bin/python3\n",
    "\n",
    "\n",
    "import random\n",
    "\n",
    "__author__ = 'yangdd1205'\n",
    "\n",
    "\n",
    "\"\"\"\n",
    "    随机数\n",
    "\"\"\"\n",
    "\n",
    "for i in range(10):\n",
    "    print(int(random.random()*10))\n",
    "    print(random.randint(10, 20))\n"
   ]
  },
  {
   "cell_type": "code",
   "execution_count": null,
   "metadata": {
    "ExecuteTime": {
     "end_time": "2020-06-22T00:32:00.655749Z",
     "start_time": "2020-06-22T00:32:00.646754Z"
    },
    "run_control": {
     "marked": false
    }
   },
   "outputs": [],
   "source": [
    "# %load example51.py\n",
    "#!/usr/bin/python3\n",
    "\n",
    "__author__ = \"\"\n",
    "\n",
    "\"\"\"\n",
    "    example 051\n",
    "    & 运算符 转为二进制 按补码计算 同为1，结果1，否则0\n",
    "    0010\n",
    "    0011\n",
    "    ————\n",
    "    0010\n",
    "\"\"\"\n",
    "\n",
    "print(' 2 & 3  = %d' % (2 & 3))  # 0010 & 0011\n",
    "print(' 2 & -3  = %d' % (2 & -3))  # 0010 & 1101\n",
    "print(' -2 & 3  = %d' % (-2 & 3))  # 1110 & 0011\n",
    "\n",
    "\n",
    "\n"
   ]
  },
  {
   "cell_type": "code",
   "execution_count": null,
   "metadata": {
    "ExecuteTime": {
     "end_time": "2020-06-22T00:32:00.928592Z",
     "start_time": "2020-06-22T00:32:00.920597Z"
    },
    "run_control": {
     "marked": false
    }
   },
   "outputs": [],
   "source": [
    "# %load example52.py\n",
    "#!/usr/bin/python3\n",
    "\n",
    "__author__ = \"yang.dd\"\n",
    "\n",
    "\"\"\"\n",
    "    example 052\n",
    "    | 运算符 转为二进制 按补码计算 遇1，结果1，全0，为0\n",
    "    0000 0010\n",
    "    0000 0011\n",
    "    ——————————\n",
    "    0000 0011\n",
    "\"\"\"\n",
    "\n",
    "print(' 2 | 3  = %d' % (2 | 3))    # 0000 0010 | 0000 0011\n",
    "print(' 2 | -3  = %d' % (2 | -3))  # 0000 0010 | 1111 1101\n",
    "print(' -2 | 3  = %d' % (-2 | 3))  # 1111 1110 | 0000 0011\n",
    "\n",
    "\n",
    "\n"
   ]
  },
  {
   "cell_type": "code",
   "execution_count": null,
   "metadata": {
    "ExecuteTime": {
     "end_time": "2020-06-22T00:32:01.098496Z",
     "start_time": "2020-06-22T00:32:01.089501Z"
    },
    "run_control": {
     "marked": false
    }
   },
   "outputs": [],
   "source": [
    "# %load example53.py\n",
    "#!/usr/bin/python3\n",
    "\n",
    "__author__ = \"yang.dd\"\n",
    "\n",
    "\"\"\"\n",
    "    example 0534\n",
    "    ^ 运算符 转为二进制 按补码计算 相同，为0，不同，为1\n",
    "    0000 0010\n",
    "    0000 0011\n",
    "    ——————————\n",
    "    0000 0001\n",
    "\"\"\"\n",
    "\n",
    "print(' 2 ^ 3  = %d' % (2 ^ 3))    # 0000 0010 ^ 0000 0011\n",
    "print(' 2 ^ -3  = %d' % (2 ^ -3))  # 0000 0010 ^ 1111 1101\n",
    "print(' -2 ^ 3  = %d' % (-2 ^ 3))  # 1111 1110 ^ 0000 0011\n",
    "\n",
    "\n",
    "\n"
   ]
  },
  {
   "cell_type": "code",
   "execution_count": null,
   "metadata": {
    "ExecuteTime": {
     "end_time": "2020-06-22T00:32:01.398324Z",
     "start_time": "2020-06-22T00:32:01.390329Z"
    },
    "run_control": {
     "marked": false
    }
   },
   "outputs": [],
   "source": [
    "# %load example54.py\n",
    "#!/usr/bin/python3\n",
    "\n",
    "__author__ = \"yang.dd\"\n",
    "\n",
    "\"\"\"\n",
    "    example 054\n",
    "    \n",
    "\"\"\"\n",
    "\n",
    "if __name__ == '__main__':\n",
    "    a = int(input('input a number:\\n'))\n",
    "    print('%d binary is  %s' % (a, bin(a)))\n",
    "    b = a >> 3\n",
    "    c = b & 0xF\n",
    "    print(\"result \", bin(c))\n"
   ]
  },
  {
   "cell_type": "code",
   "execution_count": null,
   "metadata": {
    "ExecuteTime": {
     "end_time": "2020-06-22T00:32:01.706147Z",
     "start_time": "2020-06-22T00:32:01.697153Z"
    },
    "run_control": {
     "marked": false
    }
   },
   "outputs": [],
   "source": [
    "# %load example55.py\n",
    "#!/usr/bin/python3\n",
    "\n",
    "__author__ = \"yang.dd\"\n",
    "\n",
    "\"\"\"\n",
    "    example 055\n",
    "       ~ 运算符 转为二进制 按补码计算 取反 1为0,0为1\n",
    "    0000 0010\n",
    "    ——————————\n",
    "    1111 1101 \n",
    "\"\"\"\n",
    "\n",
    "if __name__ == '__main__':\n",
    "    a = 2   # 0000 0010\n",
    "    b = ~a  # 1111 1101\n",
    "    print('a = %d，~a=%d' % (a, b))\n",
    "    a = -2  # 1111 1110\n",
    "    b = ~a  # 0000 0001\n",
    "    print('a = %d，~a=%d' % (a, b))\n"
   ]
  },
  {
   "cell_type": "code",
   "execution_count": null,
   "metadata": {
    "ExecuteTime": {
     "end_time": "2020-06-22T00:32:02.443723Z",
     "start_time": "2020-06-22T00:32:02.432730Z"
    },
    "run_control": {
     "marked": false
    }
   },
   "outputs": [],
   "source": [
    "# %load example56.py\n",
    "#!/usr/bin/python3\n",
    "\n",
    "from tkinter import *\n",
    "\n",
    "__author__ = \"yang.dd\"\n",
    "\n",
    "\n",
    "\"\"\"\n",
    "    example 056\n",
    "\"\"\"\n",
    "\n",
    "if __name__ == '__main__':\n",
    "    canvas = Canvas(width=800, height=600, bg='yellow')\n",
    "    canvas.pack(expand=YES, fill=BOTH)\n",
    "    k = j = 1\n",
    "    for i in range(0, 26):\n",
    "        canvas.create_oval(310 - k, 250 - k, 310 + k, 250 + k, width=1)\n",
    "        k += j\n",
    "        j += 0.3\n",
    "    mainloop()"
   ]
  },
  {
   "cell_type": "code",
   "execution_count": null,
   "metadata": {
    "ExecuteTime": {
     "end_time": "2020-06-22T00:32:02.925447Z",
     "start_time": "2020-06-22T00:32:02.918454Z"
    },
    "run_control": {
     "marked": false
    }
   },
   "outputs": [],
   "source": [
    "# %load example57.py\n",
    "#!/usr/bin/python3\n",
    "\n",
    "from tkinter import *\n",
    "\n",
    "__author__ = \"yang.dd\"\n",
    "\n",
    "\n",
    "\"\"\"\n",
    "    example 057\n",
    "\"\"\"\n",
    "\n",
    "if __name__ == '__main__':\n",
    "    canvas = Canvas(width=300, height=300, bg='black')\n",
    "    canvas.pack(expand=YES, fill=BOTH)\n",
    "    x = 10\n",
    "    y = 290\n",
    "    for i in range(10, 300, 10):\n",
    "        canvas.create_line(x, 10, y, 290, width=1, fill='red')\n",
    "        x += 10\n",
    "        y -= 10\n",
    "    mainloop()"
   ]
  },
  {
   "cell_type": "code",
   "execution_count": null,
   "metadata": {
    "ExecuteTime": {
     "end_time": "2020-06-22T00:32:03.775084Z",
     "start_time": "2020-06-22T00:32:03.768093Z"
    },
    "run_control": {
     "marked": false
    }
   },
   "outputs": [],
   "source": [
    "# %load example58.py\n",
    "#!/usr/bin/python3\n",
    "\n",
    "from tkinter import *\n",
    "\n",
    "__author__ = \"yang.dd\"\n",
    "\n",
    "\n",
    "\"\"\"\n",
    "    example 058\n",
    "\"\"\"\n",
    "\n",
    "if __name__ == '__main__':\n",
    "    canvas = Canvas(width=300, height=300, bg='purple')\n",
    "    canvas.pack(expand=YES, fill=BOTH)\n",
    "    x = 145\n",
    "    y = 155\n",
    "    for i in range(1, 20):\n",
    "        canvas.create_rectangle(x, x, y, y, width=2, outline='yellow')\n",
    "        x -= 5\n",
    "        y += 5\n",
    "\n",
    "    mainloop()"
   ]
  },
  {
   "cell_type": "code",
   "execution_count": null,
   "metadata": {
    "ExecuteTime": {
     "end_time": "2020-06-22T00:32:04.156623Z",
     "start_time": "2020-06-22T00:32:04.148625Z"
    },
    "run_control": {
     "marked": false
    }
   },
   "outputs": [],
   "source": [
    "# %load example59.py\n",
    "#!/usr/bin/python3\n",
    "\n",
    "from tkinter import *\n",
    "\n",
    "__author__ = \"yang.dd\"\n",
    "\n",
    "\"\"\"\n",
    "    example 059\n",
    "\"\"\"\n",
    "\n",
    "if __name__ == '__main__':\n",
    "    width = 600\n",
    "    height = 400\n",
    "    root = Tk()\n",
    "    root.title('红旗')\n",
    "    root.resizable(False, False);\n",
    "    root['width'] = width\n",
    "    root['height'] = height\n",
    "    canvas = Canvas(width=width, height=height, bg='#F40002 ')  # china red = F40002 , star yellow =  FAF408\n",
    "    canvas.pack(expand=NO, fill=BOTH)\n",
    "    width_half = width / 2\n",
    "    height_half = height / 2\n",
    "    canvas.create_line(width_half, 0, width_half, height_half)\n",
    "    canvas.create_line(0, height_half, width_half, height_half)\n",
    "    x = y = 0\n",
    "    for i in range(0, 15):\n",
    "        canvas.create_line(x, 0, x, height_half)\n",
    "        x += width_half / 15\n",
    "    for i in range(0, 10):\n",
    "        canvas.create_line(0, y, width_half, y)\n",
    "        y += height_half / 10\n",
    "\n",
    "    a = width_half / 15\n",
    "    # 在从原点开始长为8a，宽为8a的矩形中，画椭圆 2a,2a 分别为椭圆左上角x,y的坐标\n",
    "    canvas.create_oval(2 * a, 2 * a, 8 * a, 8 * a, width=1)\n",
    "\n",
    "    mainloop()\n"
   ]
  },
  {
   "cell_type": "code",
   "execution_count": null,
   "metadata": {
    "ExecuteTime": {
     "end_time": "2020-06-22T00:32:04.476438Z",
     "start_time": "2020-06-22T00:32:04.469440Z"
    },
    "run_control": {
     "marked": false
    }
   },
   "outputs": [],
   "source": [
    "# %load example60.py\n",
    "#!/usr/bin/python3\n",
    "\n",
    "from tkinter import *\n",
    "\n",
    "__author__ = \"yang.dd\"\n",
    "\n",
    "\"\"\"\n",
    "    example 060\n",
    "\"\"\"\n",
    "\n",
    "if __name__ == '__main__':\n",
    "    string = input('please input a string: ')\n",
    "    print('%s length is %d' % (string, len(string)))\n"
   ]
  },
  {
   "cell_type": "code",
   "execution_count": null,
   "metadata": {
    "ExecuteTime": {
     "end_time": "2020-06-22T00:32:04.734290Z",
     "start_time": "2020-06-22T00:32:04.725294Z"
    },
    "run_control": {
     "marked": false
    }
   },
   "outputs": [],
   "source": [
    "# %load example61.py\n",
    "#!/usr/bin/python3\n",
    "\n",
    "__author__ = \"yang.dd\"\n",
    "\n",
    "\"\"\"\n",
    "    example 061\n",
    "    enumerate():返回index和value \n",
    "\"\"\"\n",
    "\n",
    "\n",
    "def solution1():\n",
    "    l = [1]\n",
    "    while True:\n",
    "        yield l\n",
    "        l = [1] + [x + l[i + 1] for i, x in enumerate(l) if i < len(l) - 1] + [1]\n",
    "\n",
    "\n",
    "def solution2():\n",
    "    l = [1]\n",
    "    while True:\n",
    "        yield l\n",
    "        l.append(0)\n",
    "        l = [l[i - 1] + l[i] for i in range(len(l))]\n",
    "\n",
    "\n",
    "if __name__ == \"__main__\":\n",
    "    n = 0\n",
    "    for t in solution1():\n",
    "        print(t)\n",
    "        n = n + 1\n",
    "        if n == 10:\n",
    "            break\n"
   ]
  },
  {
   "cell_type": "code",
   "execution_count": null,
   "metadata": {
    "ExecuteTime": {
     "end_time": "2020-06-22T00:32:04.964156Z",
     "start_time": "2020-06-22T00:32:04.955160Z"
    },
    "run_control": {
     "marked": false
    }
   },
   "outputs": [],
   "source": [
    "# %load example62.py\n",
    "#!/usr/bin/python3\n",
    "\n",
    "__author__ = \"yang.dd\"\n",
    "\n",
    "\"\"\"\n",
    "    example 062\n",
    "\"\"\"\n",
    "\n",
    "if __name__ == \"__main__\":\n",
    "    string = \"abcdef\"\n",
    "    s = \"bc\"\n",
    "    print(\"method: count(), result: \", string.count(s))  # 返回 str 在 string 里面出现的次数，如果 beg 或者 end 指定则返回指定范围内 str 出现的次数\n",
    "    print(\"method: find(), result: \",\n",
    "          string.find(s))  # 检测 str 是否包含在字符串中 中，如果 beg 和 end 指定范围，则检查是否包含在指定范围内，如果是返回开始的索引值，否则返回-1\n",
    "    print(\"method: index(), result: \", string.index(s))  # 跟find()方法一样，只不过如果str不在字符串中会报一个异常.\n",
    "    print(\"method: rfind(), result: \", string.rfind(s))  # 类似于 find()函数，不过是从右边开始查找.\n",
    "    print(\"method: rindex(), result: \", string.rindex(s))  # 类似于 index()，不过是从右边开始.\n",
    "    print(\"method: in, result: \", s in string)\n"
   ]
  },
  {
   "cell_type": "code",
   "execution_count": null,
   "metadata": {
    "ExecuteTime": {
     "end_time": "2020-06-22T00:32:05.236000Z",
     "start_time": "2020-06-22T00:32:05.225005Z"
    },
    "run_control": {
     "marked": false
    }
   },
   "outputs": [],
   "source": [
    "# %load example63.py\n",
    "#!/usr/bin/python3\n",
    "\n",
    "from tkinter import *\n",
    "\n",
    "__author__ = \"yang.dd\"\n",
    "\n",
    "\"\"\"\n",
    "    example 063\n",
    "\"\"\"\n",
    "\n",
    "if __name__ == \"__main__\":\n",
    "    root = Tk()\n",
    "    canvas = Canvas(root, width=\"600\", height=\"800\", bg=\"white\")\n",
    "    canvas.pack()\n",
    "    x = 100\n",
    "    y = 200\n",
    "    width = 500\n",
    "    height = 600\n",
    "    for i in range(40):\n",
    "        u = 5 * i\n",
    "        canvas.create_oval(x + u, y - u, width - u, height + u)\n",
    "    mainloop()\n"
   ]
  },
  {
   "cell_type": "code",
   "execution_count": null,
   "metadata": {
    "ExecuteTime": {
     "end_time": "2020-06-22T00:32:05.653761Z",
     "start_time": "2020-06-22T00:32:05.644764Z"
    },
    "run_control": {
     "marked": false
    }
   },
   "outputs": [],
   "source": [
    "# %load example64.py\n",
    "#!/usr/bin/python3\n",
    "\n",
    "from tkinter import *\n",
    "\n",
    "__author__ = \"yang.dd\"\n",
    "\n",
    "\"\"\"\n",
    "    example 064\n",
    "\"\"\"\n",
    "\n",
    "if __name__ == \"__main__\":\n",
    "    canvas = Canvas(width = 400,height = 600,bg = 'white')\n",
    "    left = 20\n",
    "    right = 50\n",
    "    top = 50\n",
    "    num = 15\n",
    "    for i in range(num):\n",
    "        canvas.create_oval(250 - right,250 - left,250 + right,250 + left)\n",
    "        canvas.create_oval(250 - 20,250 - top,250 + 20,250 + top)\n",
    "        canvas.create_rectangle(20 - 2 * i,20 - 2 * i,10 * (i + 2),10 * ( i + 2))\n",
    "        right += 5\n",
    "        left += 5\n",
    "        top += 10\n",
    "\n",
    "    canvas.pack()\n",
    "    mainloop()"
   ]
  },
  {
   "cell_type": "code",
   "execution_count": null,
   "metadata": {
    "ExecuteTime": {
     "end_time": "2020-06-22T00:32:05.931604Z",
     "start_time": "2020-06-22T00:32:05.924606Z"
    },
    "run_control": {
     "marked": false
    }
   },
   "outputs": [],
   "source": [
    "# %load example65.py\n",
    "#!/usr/bin/python3\n",
    "\n",
    "from tkinter import *\n",
    "import math\n",
    "\n",
    "__author__ = \"yang.dd\"\n",
    "\n",
    "\"\"\"\n",
    "    example 065\n",
    "\"\"\"\n",
    "\n",
    "\n",
    "class PTS:\n",
    "    def __init__(self):\n",
    "        self.x = 0\n",
    "        self.y = 0\n",
    "\n",
    "\n",
    "points = []\n",
    "\n",
    "\n",
    "def linetodemo():\n",
    "    screenx = 400\n",
    "    screeny = 400\n",
    "    canvas = Canvas(width=screenx, height=screeny, bg='white')\n",
    "\n",
    "    AspectRatio = 0.85\n",
    "    MAXPTS = 15\n",
    "    h = screeny\n",
    "    w = screenx\n",
    "    xcenter = w / 2\n",
    "    ycenter = h / 2\n",
    "    radius = (h - 30) / (AspectRatio * 2) - 20\n",
    "    step = 360 / MAXPTS\n",
    "    angle = 0.0\n",
    "    for i in range(MAXPTS):\n",
    "        rads = angle * math.pi / 180.0\n",
    "        p = PTS()\n",
    "        p.x = xcenter + int(math.cos(rads) * radius)\n",
    "        p.y = ycenter - int(math.sin(rads) * radius * AspectRatio)\n",
    "        angle += step\n",
    "        points.append(p)\n",
    "    canvas.create_oval(xcenter - radius, ycenter - radius, xcenter + radius, ycenter + radius)\n",
    "    for i in range(MAXPTS):\n",
    "        for j in range(i, MAXPTS):\n",
    "            canvas.create_line(points[i].x, points[i].y, points[j].x, points[j].y)\n",
    "\n",
    "    canvas.pack()\n",
    "    mainloop()\n",
    "\n",
    "\n",
    "if __name__ == '__main__':\n",
    "    linetodemo()\n"
   ]
  },
  {
   "cell_type": "code",
   "execution_count": null,
   "metadata": {
    "ExecuteTime": {
     "end_time": "2020-06-22T00:32:06.558760Z",
     "start_time": "2020-06-22T00:32:06.549766Z"
    },
    "run_control": {
     "marked": false
    }
   },
   "outputs": [],
   "source": [
    "# %load example66.py\n",
    "#!/usr/bin/python3\n",
    "\n",
    "__author__ = \"yang.dd\"\n",
    "\n",
    "\"\"\"\n",
    "    example 066\n",
    "\"\"\"\n",
    "\n",
    "if __name__ == '__main__':\n",
    "    nums = []\n",
    "    for i in range(3):\n",
    "        nums.append(int(input(\"请输入一个数字：\")))\n",
    "    nums.sort()\n",
    "    print(\"按顺序排列：\", nums)\n",
    "    nums.reverse()\n",
    "    print(\"按倒叙排列：\", nums)\n"
   ]
  },
  {
   "cell_type": "code",
   "execution_count": null,
   "metadata": {
    "ExecuteTime": {
     "end_time": "2020-06-22T00:32:06.865585Z",
     "start_time": "2020-06-22T00:32:06.858589Z"
    },
    "run_control": {
     "marked": false
    }
   },
   "outputs": [],
   "source": [
    "# %load example67.py\n",
    "#!/usr/bin/python3\n",
    "\n",
    "__author__ = \"yang.dd\"\n",
    "\n",
    "\"\"\"\n",
    "    example 067\n",
    "\"\"\"\n",
    "\n",
    "if __name__ == '__main__':\n",
    "    nums = []\n",
    "    for i in range(6):\n",
    "        nums.append(int(input(\"请输入数字：\")))\n",
    "\n",
    "    for i in range(len(nums)):\n",
    "        if nums[i] == max(nums):\n",
    "            nums[0], nums[i] = nums[i], nums[0]\n",
    "            break\n",
    "    for i in range(len(nums)):\n",
    "        if nums[i] == min(nums):\n",
    "            nums[i], nums[len(nums)-1] = nums[len(nums)-1], nums[i]\n",
    "            break\n",
    "    print(nums)\n"
   ]
  },
  {
   "cell_type": "code",
   "execution_count": null,
   "metadata": {
    "ExecuteTime": {
     "end_time": "2020-06-22T00:32:07.155419Z",
     "start_time": "2020-06-22T00:32:07.146425Z"
    },
    "run_control": {
     "marked": false
    }
   },
   "outputs": [],
   "source": [
    "# %load example68.py\n",
    "#!/usr/bin/python3\n",
    "\n",
    "from collections import deque\n",
    "\n",
    "__author__ = \"yang.dd\"\n",
    "\n",
    "\"\"\"\n",
    "    example 068\n",
    "\"\"\"\n",
    "\n",
    "\n",
    "def move1(number, m):\n",
    "    m -= 1\n",
    "    after = number[0:m]\n",
    "    before = number[m:len(number)]\n",
    "    return before + after\n",
    "\n",
    "\n",
    "def move2(number, m):\n",
    "    d = deque(number)\n",
    "    d.rotate(m)\n",
    "    return list(d)\n",
    "\n",
    "\n",
    "if __name__ == '__main__':\n",
    "    n = int(input(\"请输入数字总个数：\"))\n",
    "    m = int(input(\"请输入要移动的结束位置：\"))\n",
    "    number = []\n",
    "    for i in range(n):\n",
    "        number.append(int(input(\"请输入一个数字：\")))\n",
    "    print(\"原数据：\", number)\n",
    "    number = move1(number, m)\n",
    "    # number = move2(number, m)\n",
    "    print(\"移动过后：\", number)\n"
   ]
  },
  {
   "cell_type": "code",
   "execution_count": null,
   "metadata": {
    "ExecuteTime": {
     "end_time": "2020-06-22T00:32:07.377292Z",
     "start_time": "2020-06-22T00:32:07.368297Z"
    },
    "run_control": {
     "marked": false
    }
   },
   "outputs": [],
   "source": [
    "# %load example69.py\n",
    "#!/usr/bin/python3\n",
    "\n",
    "__author__ = \"yang.dd\"\n",
    "\n",
    "\"\"\"\n",
    "    example 069\n",
    "\"\"\"\n",
    "\n",
    "if __name__ == '__main__':\n",
    "    n = int(input(\"请输入参与的人数：\"))\n",
    "    # p = list(range(1, n + 1))\n",
    "    p = [x for x in range(1, n + 1)]\n",
    "\n",
    "    i = 0\n",
    "    s = 1\n",
    "    while len(p) > 1:\n",
    "        if i > len(p) - 1:\n",
    "            i = 0\n",
    "        if s % 3 == 0:\n",
    "            p.pop(i)\n",
    "            s = 1\n",
    "            continue\n",
    "        s += 1\n",
    "        i += 1\n",
    "    print(p.pop())\n"
   ]
  },
  {
   "cell_type": "code",
   "execution_count": null,
   "metadata": {
    "ExecuteTime": {
     "end_time": "2020-06-22T00:32:07.638143Z",
     "start_time": "2020-06-22T00:32:07.629146Z"
    },
    "run_control": {
     "marked": false
    }
   },
   "outputs": [],
   "source": [
    "# %load example70.py\n",
    "#!/usr/bin/python3\n",
    "\n",
    "__author__ = \"yang.dd\"\n",
    "\n",
    "\"\"\"\n",
    "    example 070\n",
    "\"\"\"\n",
    "\n",
    "if __name__ == '__main__':\n",
    "    s = input(\"请输入一个字符串：\")\n",
    "    print(\"字符串长度为：%d\" % len(s))"
   ]
  },
  {
   "cell_type": "code",
   "execution_count": null,
   "metadata": {},
   "outputs": [],
   "source": []
  },
  {
   "cell_type": "code",
   "execution_count": null,
   "metadata": {
    "ExecuteTime": {
     "end_time": "2020-06-22T00:32:08.150859Z",
     "start_time": "2020-06-22T00:32:08.141854Z"
    },
    "run_control": {
     "marked": false
    }
   },
   "outputs": [],
   "source": [
    "# %load example71.py\n",
    "#!/usr/bin/python3\n",
    "\n",
    "__author__ = \"yang.dd\"\n",
    "\n",
    "\"\"\"\n",
    "    example 071\n",
    "\"\"\"\n",
    "\n",
    "\n",
    "class Student(object):\n",
    "    def __init__(self):\n",
    "        self.__num = 0\n",
    "        self.__name = \"\"\n",
    "        self.__score = [0, 0, 0, 0]\n",
    "\n",
    "    def get_num(self):\n",
    "        return self.__num\n",
    "\n",
    "    def get_name(self):\n",
    "        return self.__name\n",
    "\n",
    "    def get_score(self):\n",
    "        return self.__score\n",
    "\n",
    "    def set_name(self, name):\n",
    "        self.__name = name\n",
    "\n",
    "    def set_num(self, num):\n",
    "        try:\n",
    "            num = int(num)\n",
    "            self.__num = num\n",
    "        except ValueError as e:\n",
    "            print(\"Please input a int\")\n",
    "\n",
    "    def set_score(self, score_1, score_2, score_3, score_4):\n",
    "        self.__score[0] = score_1\n",
    "        self.__score[1] = score_2\n",
    "        self.__score[2] = score_3\n",
    "        self.__score[3] = score_4\n",
    "\n",
    "\n",
    "def input_stu(n):\n",
    "    student_list = []\n",
    "    for i in range(n):\n",
    "        s = Student()\n",
    "        s.set_num(input(\"请输入编号：\"))\n",
    "        s.set_name(input(\"请输入姓名：\"))\n",
    "        s.set_score(input(\"请输入成绩1：\"), input(\"请输入成绩2：\"), input(\"请输入成绩3：\"), input(\"请输入成绩4：\"))\n",
    "        student_list.append(s)\n",
    "    return student_list\n",
    "\n",
    "\n",
    "def output_stu(student_list):\n",
    "    for i in range(len(student_list)):\n",
    "        s = student_list[i]\n",
    "        print(\"编号：%s\\t姓名：%s\\t成绩[%s\\t%s\\t%s\\t%s]\" % (\n",
    "            s.get_num(), s.get_name(), s.get_score()[0], s.get_score()[1], s.get_score()[2], s.get_score()[3]))\n",
    "\n",
    "\n",
    "if __name__ == '__main__':\n",
    "    output_stu(input_stu(1))\n"
   ]
  },
  {
   "cell_type": "code",
   "execution_count": null,
   "metadata": {
    "ExecuteTime": {
     "end_time": "2020-06-22T00:32:08.430691Z",
     "start_time": "2020-06-22T00:32:08.422692Z"
    },
    "run_control": {
     "marked": false
    }
   },
   "outputs": [],
   "source": [
    "# %load example72.py\n",
    "#!/usr/bin/python3\n",
    "\n",
    "__author__ = \"yang.dd\"\n",
    "\n",
    "\"\"\"\n",
    "    example 072\n",
    "\"\"\"\n",
    "\n",
    "if __name__ == '__main__':\n",
    "    num = []\n",
    "    for i in range(3):\n",
    "        num.append(int(input(\"请输入一个数字：\")))\n",
    "    print(num)"
   ]
  },
  {
   "cell_type": "code",
   "execution_count": null,
   "metadata": {
    "ExecuteTime": {
     "end_time": "2020-06-22T00:32:08.772490Z",
     "start_time": "2020-06-22T00:32:08.763498Z"
    },
    "run_control": {
     "marked": false
    }
   },
   "outputs": [],
   "source": [
    "# %load example73.py\n",
    "#!/usr/bin/python3\n",
    "\n",
    "__author__ = \"yang.dd\"\n",
    "\n",
    "\"\"\"\n",
    "    example 073\n",
    "\"\"\"\n",
    "\n",
    "if __name__ == '__main__':\n",
    "    num = []\n",
    "    for i in range(3):\n",
    "        num.append(int(input(\"请输入一个数字：\")))\n",
    "    print(num)\n",
    "    num.reverse()\n",
    "    print(num)\n",
    "    print(num[::-1])"
   ]
  },
  {
   "cell_type": "code",
   "execution_count": null,
   "metadata": {
    "ExecuteTime": {
     "end_time": "2020-06-22T00:32:09.035342Z",
     "start_time": "2020-06-22T00:32:09.027344Z"
    },
    "run_control": {
     "marked": false
    }
   },
   "outputs": [],
   "source": [
    "# %load example74.py\n",
    "#!/usr/bin/python3\n",
    "\n",
    "__author__ = \"yang.dd\"\n",
    "\n",
    "\"\"\"\n",
    "    example 074\n",
    "\"\"\"\n",
    "\n",
    "if __name__ == '__main__':\n",
    "    a = list(range(1, 4))\n",
    "    print(a)\n",
    "    b = list(range(4, 8))\n",
    "    print(b)\n",
    "    print('使用+：', a + b)\n",
    "    a.extend(b)\n",
    "    print(\"使用extend方法：\", a)\n",
    "    a = list(range(1, 4))\n",
    "    b = list(range(4, 8))\n",
    "    a.append(b)\n",
    "    print(\"使用append方法：\", a)\n",
    "    a = list(range(1, 4))\n",
    "    b = list(range(4, 8))\n",
    "    a[len(a):len(a)] = b\n",
    "    print(\"使用切面：\", a)\n"
   ]
  },
  {
   "cell_type": "code",
   "execution_count": null,
   "metadata": {
    "ExecuteTime": {
     "end_time": "2020-06-22T00:32:09.320181Z",
     "start_time": "2020-06-22T00:32:09.309185Z"
    },
    "run_control": {
     "marked": false
    }
   },
   "outputs": [],
   "source": [
    "# %load example75.py\n",
    "#!/usr/bin/python3\n",
    "\n",
    "__author__ = \"yang.dd\"\n",
    "\n",
    "\"\"\"\n",
    "    example 075\n",
    "\"\"\"\n",
    "\n",
    "if __name__ == '__main__':\n",
    "    for i in range(5):\n",
    "        n = 0\n",
    "        if i != 1:\n",
    "            n += 1\n",
    "        if i == 3:\n",
    "            n += 1\n",
    "        if i == 4:\n",
    "            n += 1\n",
    "        if i != 4:\n",
    "            n += 1\n",
    "        if n == 3:\n",
    "            print(64 + i)\n"
   ]
  },
  {
   "cell_type": "code",
   "execution_count": null,
   "metadata": {
    "ExecuteTime": {
     "end_time": "2020-06-22T00:32:09.535053Z",
     "start_time": "2020-06-22T00:32:09.526059Z"
    },
    "run_control": {
     "marked": false
    }
   },
   "outputs": [],
   "source": [
    "# %load example76.py\n",
    "#!/usr/bin/python3\n",
    "\n",
    "__author__ = \"yang.dd\"\n",
    "\n",
    "\"\"\"\n",
    "    example 076\n",
    "\"\"\"\n",
    "\n",
    "\n",
    "def peven(n):\n",
    "    result = 0\n",
    "    for i in range(2, n + 1, 2):\n",
    "        result += 1 / i\n",
    "    return result\n",
    "\n",
    "\n",
    "def podd(n):\n",
    "    result = 0\n",
    "    for i in range(1, n + 1, 2):\n",
    "        result += 1 / i\n",
    "    return result;\n",
    "\n",
    "\n",
    "def dcall(fp, n):\n",
    "    result = fp(n)\n",
    "    return result\n",
    "\n",
    "\n",
    "if __name__ == '__main__':\n",
    "    n = int(input(\"请输入一个大于零整数：\"))\n",
    "    if n > 0:\n",
    "        if n % 2 == 0:\n",
    "            print(dcall(peven, n));\n",
    "        else:\n",
    "            print(dcall(podd, n));\n",
    "    else:\n",
    "        print(\"请输入一个大于零的整数。\")\n"
   ]
  },
  {
   "cell_type": "code",
   "execution_count": null,
   "metadata": {
    "ExecuteTime": {
     "end_time": "2020-06-22T00:32:09.791908Z",
     "start_time": "2020-06-22T00:32:09.783911Z"
    },
    "run_control": {
     "marked": false
    }
   },
   "outputs": [],
   "source": [
    "# %load example77.py\n",
    "#!/usr/bin/python3\n",
    "\n",
    "__author__ = \"yang.dd\"\n",
    "\n",
    "\"\"\"\n",
    "    example 077\n",
    "\"\"\"\n",
    "\n",
    "if __name__ == '__main__':\n",
    "    s = [\"man\", \"woman\", \"girl\", \"boy\", \"sister\"]\n",
    "    for i in range(len(s)):\n",
    "        print(s[i])\n"
   ]
  },
  {
   "cell_type": "code",
   "execution_count": null,
   "metadata": {
    "ExecuteTime": {
     "end_time": "2020-06-22T00:32:10.118718Z",
     "start_time": "2020-06-22T00:32:10.110724Z"
    },
    "run_control": {
     "marked": false
    }
   },
   "outputs": [],
   "source": [
    "# %load example78.py\n",
    "#!/usr/bin/python3\n",
    "\n",
    "__author__ = \"yang.dd\"\n",
    "\n",
    "\"\"\"\n",
    "    example 078\n",
    "\"\"\"\n",
    "\n",
    "if __name__ == '__main__':\n",
    "    person = {\"li\": 18, \"wang\": 50, \"zhang\": 20, \"sun\": 22}\n",
    "    values = sorted(person.values(),reverse=True)\n",
    "    for key in person.keys():\n",
    "        if person[key] == values[0]:\n",
    "            print('%s,%d' % (key,person[key]))\n"
   ]
  },
  {
   "cell_type": "code",
   "execution_count": null,
   "metadata": {
    "ExecuteTime": {
     "end_time": "2020-06-22T00:32:10.308613Z",
     "start_time": "2020-06-22T00:32:10.301614Z"
    },
    "run_control": {
     "marked": false
    }
   },
   "outputs": [],
   "source": [
    "# %load example79.py\n",
    "#!/usr/bin/python3\n",
    "\n",
    "__author__ = \"yang.dd\"\n",
    "\n",
    "\"\"\"\n",
    "    example 079\n",
    "\"\"\"\n",
    "\n",
    "if __name__ == '__main__':\n",
    "    s = []\n",
    "    for i in range(3):\n",
    "        s.append(input(\"请输入一个字符串：\"))\n",
    "\n",
    "    print(\"排序前\")\n",
    "    print(s)\n",
    "    s.sort();\n",
    "    print(\"排序后\")\n",
    "    print(s)\n"
   ]
  },
  {
   "cell_type": "code",
   "execution_count": null,
   "metadata": {
    "ExecuteTime": {
     "end_time": "2020-06-22T00:32:10.935272Z",
     "start_time": "2020-06-22T00:32:10.926260Z"
    },
    "run_control": {
     "marked": false
    }
   },
   "outputs": [],
   "source": [
    "# %load example80.py\n",
    "#!/usr/bin/python3\n",
    "\n",
    "__author__ = \"yang.dd\"\n",
    "\n",
    "\"\"\"\n",
    "    example 080\n",
    "\"\"\"\n",
    "\n",
    "if __name__ == '__main__':\n",
    "    '''\n",
    "        从第五只猴子拿1个的桃子开始算\n",
    "        如果有一只不满足条件，则从头开始计算，直到满足\n",
    "    '''\n",
    "    monkey = 5\n",
    "    peach5th = 1\n",
    "    peach = 1\n",
    "\n",
    "    while monkey > 1:\n",
    "        total = peach * 5 + 1\n",
    "        if total % 4 == 0:\n",
    "            monkey -= 1\n",
    "            peach = total / 4\n",
    "        else:\n",
    "            # 从第5只猴开始算\n",
    "            peach5th += 1\n",
    "            peach = peach5th\n",
    "            monkey = 5\n",
    "\n",
    "    print(\"沙滩上最少有：%d个桃子。\" % (int(peach * 5 + 1)))\n"
   ]
  },
  {
   "cell_type": "code",
   "execution_count": null,
   "metadata": {
    "ExecuteTime": {
     "end_time": "2020-06-22T00:32:11.333022Z",
     "start_time": "2020-06-22T00:32:11.322030Z"
    },
    "run_control": {
     "marked": false
    }
   },
   "outputs": [],
   "source": [
    "# %load example81.py\n",
    "#!/usr/bin/python3\n",
    "\n",
    "__author__ = \"yang.dd\"\n",
    "\n",
    "\"\"\"\n",
    "    example 081\n",
    "\"\"\"\n",
    "\n",
    "'''\n",
    "809*??=800*??+9*??+1 其中??代表的两位数,8*??的结果为两位数，9*??的结果为3位数。求??代表的两位数，及809*??后的结果\n",
    "'''\n"
   ]
  },
  {
   "cell_type": "code",
   "execution_count": null,
   "metadata": {
    "ExecuteTime": {
     "end_time": "2020-06-22T00:32:11.691817Z",
     "start_time": "2020-06-22T00:32:11.681823Z"
    },
    "run_control": {
     "marked": false
    }
   },
   "outputs": [],
   "source": [
    "# %load example82.py\n",
    "#!/usr/bin/python3\n",
    "\n",
    "__author__ = \"yang.dd\"\n",
    "\n",
    "\"\"\"\n",
    "    example 082\n",
    "\"\"\"\n",
    "\n",
    "if __name__ == \"__main__\":\n",
    "    octNumber = input(\"Please input a octal number: \")\n",
    "    num = int(octNumber, 8)\n",
    "    print(num)\n"
   ]
  },
  {
   "cell_type": "code",
   "execution_count": null,
   "metadata": {
    "ExecuteTime": {
     "end_time": "2020-06-22T00:32:11.961662Z",
     "start_time": "2020-06-22T00:32:11.952668Z"
    },
    "run_control": {
     "marked": false
    }
   },
   "outputs": [],
   "source": [
    "# %load example83.py\n",
    "#!/usr/bin/python3\n",
    "\n",
    "__author__ = \"yang.dd\"\n",
    "\n",
    "\"\"\"\n",
    "    example 083\n",
    "\n",
    "    排列组合\n",
    "    1位数：只有1,3,5,7。4种情况\n",
    "    2位数：有 4 * 7 种情况（首位数字不为0）。\n",
    "    3位数：有 4 * 8 * 7 种情况。\n",
    "    4位数：有 4 * 8 * 8 *7 种情况\n",
    "    ......\n",
    "\"\"\"\n",
    "\n",
    "if __name__ == \"__main__\":\n",
    "    sum, count = 0, 0\n",
    "    for i in range(1, 9):\n",
    "        if i == 1:\n",
    "            count = 4\n",
    "        elif i == 2:\n",
    "            count *= 7\n",
    "        else:\n",
    "            count *= 8\n",
    "        sum += count\n",
    "    print(sum)\n"
   ]
  },
  {
   "cell_type": "code",
   "execution_count": null,
   "metadata": {
    "ExecuteTime": {
     "end_time": "2020-06-22T00:32:12.230507Z",
     "start_time": "2020-06-22T00:32:12.220514Z"
    },
    "run_control": {
     "marked": false
    }
   },
   "outputs": [],
   "source": [
    "# %load example84.py\n",
    "#!/usr/bin/python3\n",
    "\n",
    "__author__ = \"yang.dd\"\n",
    "\n",
    "\"\"\"\n",
    "    example 084\n",
    "\"\"\"\n",
    "\n",
    "if __name__ == \"__main__\":\n",
    "    delimiter = ','\n",
    "    mylist = ['Brazil', 'Russia', 'India', 'China']\n",
    "    print(delimiter.join(mylist))\n"
   ]
  },
  {
   "cell_type": "code",
   "execution_count": null,
   "metadata": {
    "ExecuteTime": {
     "end_time": "2020-06-22T00:32:12.488362Z",
     "start_time": "2020-06-22T00:32:12.479365Z"
    },
    "run_control": {
     "marked": false
    }
   },
   "outputs": [],
   "source": [
    "# %load example85.py\n",
    "#!/usr/bin/python3\n",
    "\n",
    "__author__ = \"yang.dd\"\n",
    "\n",
    "\"\"\"\n",
    "    example 085\n",
    "\"\"\"\n",
    "\n",
    "if __name__ == \"__main__\":\n",
    "    b = int(input(\"请输入一个数字：\"))\n",
    "    n = 9\n",
    "    count = 1\n",
    "    while True:\n",
    "        if (n % b == 0):\n",
    "            break\n",
    "        else:\n",
    "            n = n * 10 + 9\n",
    "            count += 1\n",
    "    print(\"%d可以被%d个9整除\" % (b, count))\n"
   ]
  },
  {
   "cell_type": "code",
   "execution_count": null,
   "metadata": {
    "ExecuteTime": {
     "end_time": "2020-06-22T00:32:12.763202Z",
     "start_time": "2020-06-22T00:32:12.756206Z"
    },
    "run_control": {
     "marked": false
    }
   },
   "outputs": [],
   "source": [
    "# %load example86.py\n",
    "#!/usr/bin/python3\n",
    "\n",
    "__author__ = \"yang.dd\"\n",
    "\n",
    "\"\"\"\n",
    "    example 086\n",
    "\"\"\"\n",
    "\n",
    "if __name__ == \"__main__\":\n",
    "    a = input(\"请输入第一个字符串：\")\n",
    "    b = input(\"请输入第二个字符串：\")\n",
    "    print(a + b)\n"
   ]
  },
  {
   "cell_type": "code",
   "execution_count": null,
   "metadata": {
    "ExecuteTime": {
     "end_time": "2020-06-22T00:32:12.976083Z",
     "start_time": "2020-06-22T00:32:12.966090Z"
    },
    "run_control": {
     "marked": false
    }
   },
   "outputs": [],
   "source": [
    "# %load example87.py\n",
    "#!/usr/bin/python3\n",
    "\n",
    "__author__ = \"yang.dd\"\n",
    "\n",
    "\"\"\"\n",
    "    example 087\n",
    "    python是按值传递参数\n",
    "\"\"\"\n",
    "\n",
    "if __name__ == \"__main__\":\n",
    "    class student:\n",
    "        x = 0\n",
    "        c = 0\n",
    "\n",
    "\n",
    "    def f(stu):\n",
    "        stu.x = 20\n",
    "        stu.c = 'c'\n",
    "\n",
    "\n",
    "    a = student()\n",
    "    a.x = 3\n",
    "    a.c = 'a'\n",
    "    f(a)\n",
    "    print(a.x, a.c)\n"
   ]
  },
  {
   "cell_type": "code",
   "execution_count": null,
   "metadata": {
    "ExecuteTime": {
     "end_time": "2020-06-22T00:32:13.318888Z",
     "start_time": "2020-06-22T00:32:13.310892Z"
    },
    "run_control": {
     "marked": false
    }
   },
   "outputs": [],
   "source": [
    "# %load example88.py\n",
    "#!/usr/bin/python3\n",
    "\n",
    "__author__ = \"yang.dd\"\n",
    "\n",
    "\"\"\"\n",
    "    example 088\n",
    "\"\"\"\n",
    "\n",
    "if __name__ == \"__main__\":\n",
    "    n = 0\n",
    "    while n < 7:\n",
    "        a = int(input(\"请输入一个数字：\"))\n",
    "        while a < 1 or a > 50:\n",
    "            a = int(input(\"请输入一个数字：\"))\n",
    "        print(a * \"*\")\n",
    "        n += 1\n"
   ]
  },
  {
   "cell_type": "code",
   "execution_count": null,
   "metadata": {
    "ExecuteTime": {
     "end_time": "2020-06-22T00:32:13.705662Z",
     "start_time": "2020-06-22T00:32:13.694669Z"
    },
    "run_control": {
     "marked": false
    }
   },
   "outputs": [],
   "source": [
    "# %load example89.py\n",
    "#!/usr/bin/python3\n",
    "\n",
    "__author__ = \"yang.dd\"\n",
    "\n",
    "\"\"\"\n",
    "    example 089\n",
    "\"\"\"\n",
    "\n",
    "if __name__ == \"__main__\":\n",
    "    n = input(\"请输入原文：\")\n",
    "    a = []\n",
    "    for i in n:\n",
    "        a.append((int(i) + 5) % 10)\n",
    "    a[0], a[3] = a[3], a[0]\n",
    "    a[1], a[2] = a[2], a[1]\n",
    "    result = \"\".join(str(x) for x in a)\n",
    "    print(\"密文：\" + result)\n"
   ]
  },
  {
   "cell_type": "code",
   "execution_count": null,
   "metadata": {
    "ExecuteTime": {
     "end_time": "2020-06-22T00:32:13.961518Z",
     "start_time": "2020-06-22T00:32:13.954519Z"
    },
    "run_control": {
     "marked": false
    }
   },
   "outputs": [],
   "source": [
    "# %load example90.py\n",
    "#!/usr/bin/python3\n",
    "\n",
    "__author__ = \"yang.dd\"\n",
    "\n",
    "\"\"\"\n",
    "    example 090\n",
    "\"\"\"\n",
    "# list\n",
    "# 新建list\n",
    "testList = [10086, \"中国移动\", [1, 2, 3, 4]]\n",
    "\n",
    "# 访问列表长度\n",
    "print(\"list len: \", len(testList))\n",
    "\n",
    "# 切片\n",
    "print(\"切片（slice）:\", testList[1:])\n",
    "\n",
    "# 追加\n",
    "\n",
    "print(\"追加一个元素\")\n",
    "testList.append(\"i'm new here!\");\n",
    "\n",
    "print(\"list len: \", len(testList))\n",
    "print(\"last item :\", testList[-1])\n",
    "\n",
    "print(\"pop: \", testList.pop())\n",
    "print(\"list len: \", len(testList))\n",
    "print(testList)\n",
    "\n",
    "matrix = [[1, 2, 3], [4, 5, 6], [7, 8, 9]]\n",
    "print(matrix)\n",
    "\n",
    "print(matrix[1])\n",
    "\n",
    "col2 = [x[1] for x in matrix]\n",
    "print(col2)\n",
    "\n",
    "col2even = [x[1] for x in matrix if x[1] % 2 == 0]\n",
    "print(col2even)"
   ]
  },
  {
   "cell_type": "code",
   "execution_count": null,
   "metadata": {
    "ExecuteTime": {
     "end_time": "2020-06-22T00:32:14.318311Z",
     "start_time": "2020-06-22T00:32:14.309316Z"
    },
    "run_control": {
     "marked": false
    }
   },
   "outputs": [],
   "source": [
    "# %load example91.py\n",
    "#!/usr/bin/python3\n",
    "\n",
    "import time\n",
    "import calendar\n",
    "\n",
    "__author__ = \"yang.dd\"\n",
    "\n",
    "\"\"\"\n",
    "    example 091\n",
    "\"\"\"\n",
    "\n",
    "if __name__ == \"__main__\":\n",
    "    ticks = time.time();\n",
    "    print(\"当前时间戳：\", ticks)\n",
    "    localtime = time.localtime(time.time())\n",
    "    print(\"本地时间为：\", localtime)\n",
    "    localtime = time.asctime(time.localtime(time.time()))\n",
    "    print(\"本地时间为：\", localtime)\n",
    "    print(time.strftime(\"%Y-%m-%d %H:%M:%S\", time.localtime()))\n",
    "    print(time.strftime(\"%a %b %d %H:%M:%S %Y\", time.localtime()))\n",
    "    a = \"Sat Mar 28 22:24:24 2016\"\n",
    "    print(time.mktime(time.strptime(a, \"%a %b %d %H:%M:%S %Y\")))\n",
    "    cal = calendar.month(2017,5)\n",
    "    print(\"以下是2017年5月的日历\")\n",
    "    print(cal)\n"
   ]
  },
  {
   "cell_type": "code",
   "execution_count": null,
   "metadata": {
    "ExecuteTime": {
     "end_time": "2020-06-22T00:32:14.602161Z",
     "start_time": "2020-06-22T00:32:14.592154Z"
    },
    "run_control": {
     "marked": false
    }
   },
   "outputs": [],
   "source": [
    "# %load example92.py\n",
    "#!/usr/bin/python3\n",
    "\n",
    "import time\n",
    "\n",
    "__author__ = \"yang.dd\"\n",
    "\n",
    "\"\"\"\n",
    "    example 092\n",
    "\"\"\"\n",
    "\n",
    "if __name__ == \"__main__\":\n",
    "    start = time.time()\n",
    "    for i in range(3000):\n",
    "        print(i)\n",
    "    end = time.time()\n",
    "\n",
    "    print(end-start)"
   ]
  },
  {
   "cell_type": "code",
   "execution_count": null,
   "metadata": {
    "ExecuteTime": {
     "end_time": "2020-06-22T00:32:14.891982Z",
     "start_time": "2020-06-22T00:32:14.882986Z"
    },
    "run_control": {
     "marked": false
    }
   },
   "outputs": [],
   "source": [
    "# %load example93.py\n",
    "#!/usr/bin/python3\n",
    "\n",
    "import time\n",
    "\n",
    "__author__ = \"yang.dd\"\n",
    "\n",
    "\"\"\"\n",
    "    example 093\n",
    "\"\"\"\n",
    "\n",
    "if __name__ == \"__main__\":\n",
    "    start = time.clock()\n",
    "    for i in range(3000):\n",
    "        print(i)\n",
    "    end = time.clock()\n",
    "\n",
    "    print(end-start)"
   ]
  },
  {
   "cell_type": "code",
   "execution_count": null,
   "metadata": {
    "ExecuteTime": {
     "end_time": "2020-06-22T00:32:15.254773Z",
     "start_time": "2020-06-22T00:32:15.246779Z"
    },
    "run_control": {
     "marked": false
    }
   },
   "outputs": [],
   "source": [
    "# %load example94.py\n",
    "#!/usr/bin/python3\n",
    "\n",
    "import time\n",
    "import random\n",
    "\n",
    "__author__ = \"yang.dd\"\n",
    "\n",
    "\"\"\"\n",
    "    example 094\n",
    "\"\"\"\n",
    "\n",
    "if __name__ == \"__main__\":\n",
    "    print(\"*\" * 5 + \"猜数字游戏\" + \"*\" * 5)\n",
    "    play = input(\"你准备好了么？（Y OR N）\")\n",
    "    while play in (\"Y\", \"y\"):\n",
    "        c = input(\"请输入任意字符开始\")\n",
    "        i = random.randint(0, 2 ** 32) % 100\n",
    "        start = time.clock()\n",
    "        a = time.time()\n",
    "        guess = int(input(\"请输入你的答案：\"))\n",
    "        while guess != i:\n",
    "            if guess > i:\n",
    "                print(\"请输入一个小一点的数。\")\n",
    "                guess = int(input(\"请输入你的答案：\"))\n",
    "            else:\n",
    "                print(\"请输入一个大一点的数。\")\n",
    "                guess = int(input(\"请输入你的答案：\"))\n",
    "        end = time.clock()\n",
    "        b = time.time()\n",
    "\n",
    "        var = (end - start) / 18.2\n",
    "        if var < 15:\n",
    "            print('you are very clever!')\n",
    "        elif var < 25:\n",
    "            print('you are normal!')\n",
    "        else:\n",
    "            print('you are stupid!')\n",
    "        play = play = input(\"你准备好了么？（Y OR N）\")\n"
   ]
  },
  {
   "cell_type": "code",
   "execution_count": null,
   "metadata": {
    "ExecuteTime": {
     "end_time": "2020-06-22T00:32:15.717525Z",
     "start_time": "2020-06-22T00:32:15.709512Z"
    },
    "run_control": {
     "marked": false
    }
   },
   "outputs": [],
   "source": [
    "# %load example95.py\n",
    "#!/usr/bin/python3\n",
    "\n",
    "import time\n",
    "\n",
    "__author__ = \"yang.dd\"\n",
    "\n",
    "\"\"\"\n",
    "    example 095\n",
    "    python3 好像没有 dateutil\n",
    "\"\"\"\n",
    "\n",
    "if __name__ == \"__main__\":\n",
    "    print(time.strftime(\"%Y-%m-%d %H:%M:%S\", time.localtime()))\n"
   ]
  },
  {
   "cell_type": "code",
   "execution_count": null,
   "metadata": {
    "ExecuteTime": {
     "end_time": "2020-06-22T00:32:16.094291Z",
     "start_time": "2020-06-22T00:32:16.083299Z"
    },
    "run_control": {
     "marked": false
    }
   },
   "outputs": [],
   "source": [
    "# %load example96.py\n",
    "#!/usr/bin/python3\n",
    "\n",
    "\n",
    "__author__ = \"yang.dd\"\n",
    "\n",
    "\"\"\"\n",
    "    example 096\n",
    "\"\"\"\n",
    "\n",
    "if __name__ == \"__main__\":\n",
    "    str1 = input(\"请输入一个字符串：\")\n",
    "    str2 = input(\"请输入一个子字符串：\")\n",
    "    print(\"%s中出现%s共%s次\" % (str1,str2,str1.count(str2)))"
   ]
  },
  {
   "cell_type": "code",
   "execution_count": null,
   "metadata": {
    "ExecuteTime": {
     "end_time": "2020-06-22T00:32:16.670177Z",
     "start_time": "2020-06-22T00:32:16.662176Z"
    },
    "run_control": {
     "marked": false
    }
   },
   "outputs": [],
   "source": [
    "# %load example97.py\n",
    "#!/usr/bin/python3\n",
    "\n",
    "from sys import stdout\n",
    "\n",
    "__author__ = \"yang.dd\"\n",
    "\n",
    "\"\"\"\n",
    "    example 097\n",
    "\"\"\"\n",
    "\n",
    "if __name__ == \"__main__\":\n",
    "    filename = input(\"请输入一个文件名：\")\n",
    "    fp = open(filename, \"w\")\n",
    "    ch = input(\"请输入内容：\")\n",
    "    while ch != '#':\n",
    "        fp.write(ch)\n",
    "        stdout.write(ch)\n",
    "        ch = input('')\n",
    "    fp.close()\n"
   ]
  },
  {
   "cell_type": "code",
   "execution_count": null,
   "metadata": {
    "ExecuteTime": {
     "end_time": "2020-06-22T00:32:17.327382Z",
     "start_time": "2020-06-22T00:32:17.320385Z"
    },
    "run_control": {
     "marked": false
    }
   },
   "outputs": [],
   "source": [
    "# %load example98.py\n",
    "#!/usr/bin/python3\n",
    "\n",
    "\n",
    "__author__ = \"yang.dd\"\n",
    "\n",
    "\"\"\"\n",
    "    example 098\n",
    "\"\"\"\n",
    "\n",
    "if __name__ == \"__main__\":\n",
    "    fp = open(\"test.txt\", \"w\")\n",
    "    string = input(\"请输入一个字符串：\")\n",
    "    string = string.upper();\n",
    "    fp.write(string)\n",
    "    fp = open(\"test.txt\", \"r\")\n",
    "    print(fp.read())\n",
    "    fp.close()\n"
   ]
  },
  {
   "cell_type": "code",
   "execution_count": 137,
   "metadata": {
    "ExecuteTime": {
     "end_time": "2020-06-22T00:32:17.901380Z",
     "start_time": "2020-06-22T00:32:17.874396Z"
    },
    "run_control": {
     "marked": true
    }
   },
   "outputs": [
    {
     "ename": "FileNotFoundError",
     "evalue": "[Errno 2] No such file or directory: 'test.txt'",
     "output_type": "error",
     "traceback": [
      "\u001b[1;31m---------------------------------------------------------------------------\u001b[0m",
      "\u001b[1;31mFileNotFoundError\u001b[0m                         Traceback (most recent call last)",
      "\u001b[1;32m<ipython-input-137-45c445e12c4a>\u001b[0m in \u001b[0;36m<module>\u001b[1;34m\u001b[0m\n\u001b[0;32m     10\u001b[0m \u001b[1;33m\u001b[0m\u001b[0m\n\u001b[0;32m     11\u001b[0m \u001b[1;32mif\u001b[0m \u001b[0m__name__\u001b[0m \u001b[1;33m==\u001b[0m \u001b[1;34m\"__main__\"\u001b[0m\u001b[1;33m:\u001b[0m\u001b[1;33m\u001b[0m\u001b[1;33m\u001b[0m\u001b[0m\n\u001b[1;32m---> 12\u001b[1;33m     \u001b[0mf1\u001b[0m \u001b[1;33m=\u001b[0m \u001b[0mopen\u001b[0m\u001b[1;33m(\u001b[0m\u001b[1;34m\"test.txt\"\u001b[0m\u001b[1;33m,\u001b[0m \u001b[1;34m\"r\"\u001b[0m\u001b[1;33m)\u001b[0m\u001b[1;33m\u001b[0m\u001b[1;33m\u001b[0m\u001b[0m\n\u001b[0m\u001b[0;32m     13\u001b[0m     \u001b[0mf2\u001b[0m \u001b[1;33m=\u001b[0m \u001b[0mopen\u001b[0m\u001b[1;33m(\u001b[0m\u001b[1;34m\"test1.txt\"\u001b[0m\u001b[1;33m,\u001b[0m \u001b[1;34m\"r\"\u001b[0m\u001b[1;33m)\u001b[0m\u001b[1;33m\u001b[0m\u001b[1;33m\u001b[0m\u001b[0m\n\u001b[0;32m     14\u001b[0m     \u001b[0mresult\u001b[0m \u001b[1;33m=\u001b[0m \u001b[0mf1\u001b[0m\u001b[1;33m.\u001b[0m\u001b[0mread\u001b[0m\u001b[1;33m(\u001b[0m\u001b[1;33m)\u001b[0m\u001b[1;33m\u001b[0m\u001b[1;33m\u001b[0m\u001b[0m\n",
      "\u001b[1;31mFileNotFoundError\u001b[0m: [Errno 2] No such file or directory: 'test.txt'"
     ]
    }
   ],
   "source": [
    "# %load example99.py\n",
    "#!/usr/bin/python3\n",
    "\n",
    "\n",
    "__author__ = \"yang.dd\"\n",
    "\n",
    "\"\"\"\n",
    "    example 099\n",
    "\"\"\"\n",
    "\n",
    "if __name__ == \"__main__\":\n",
    "    f1 = open(\"test.txt\", \"r\")\n",
    "    f2 = open(\"test1.txt\", \"r\")\n",
    "    result = f1.read()\n",
    "    result += f2.read()\n",
    "    print(result)\n",
    "    merge = open(\"merge.txt\", \"w\")\n",
    "    merge.write(\"\".join(sorted(result)))\n",
    "    print(\"合并结果已写入merge.txt文件中\")\n"
   ]
  },
  {
   "cell_type": "code",
   "execution_count": null,
   "metadata": {
    "ExecuteTime": {
     "end_time": "2020-06-22T00:32:18.437297Z",
     "start_time": "2020-06-22T00:32:18.428298Z"
    },
    "cell_style": "center",
    "run_control": {
     "marked": false
    }
   },
   "outputs": [],
   "source": [
    "# %load example100.py\n",
    "#!/usr/bin/python3\n",
    "\n",
    "\n",
    "__author__ = \"yang.dd\"\n",
    "\n",
    "\"\"\"\n",
    "    example 100\n",
    "\"\"\"\n",
    "\n",
    "if __name__ == \"__main__\":\n",
    "    print(\"*****两个List转Dict****\")\n",
    "    keys = ['key1', 'key2', 'key3']\n",
    "    print(\"第一个List: \", keys)\n",
    "    values = ['value1', 'value2', 'value3']\n",
    "    print(\"第二个List: \", values)\n",
    "    result = dict(zip(keys, values))\n",
    "    print(\"Dict: \", result)\n"
   ]
  },
  {
   "cell_type": "code",
   "execution_count": null,
   "metadata": {},
   "outputs": [],
   "source": []
  }
 ],
 "metadata": {
  "kernelspec": {
   "display_name": "Python 3",
   "language": "python",
   "name": "python3"
  },
  "toc": {
   "base_numbering": 1,
   "nav_menu": {},
   "number_sections": true,
   "sideBar": true,
   "skip_h1_title": false,
   "title_cell": "Table of Contents",
   "title_sidebar": "Contents",
   "toc_cell": false,
   "toc_position": {},
   "toc_section_display": true,
   "toc_window_display": false
  },
  "varInspector": {
   "cols": {
    "lenName": 16,
    "lenType": 16,
    "lenVar": 40
   },
   "kernels_config": {
    "python": {
     "delete_cmd_postfix": "",
     "delete_cmd_prefix": "del ",
     "library": "var_list.py",
     "varRefreshCmd": "print(var_dic_list())"
    },
    "r": {
     "delete_cmd_postfix": ") ",
     "delete_cmd_prefix": "rm(",
     "library": "var_list.r",
     "varRefreshCmd": "cat(var_dic_list()) "
    }
   },
   "types_to_exclude": [
    "module",
    "function",
    "builtin_function_or_method",
    "instance",
    "_Feature"
   ],
   "window_display": false
  }
 },
 "nbformat": 4,
 "nbformat_minor": 4
}
