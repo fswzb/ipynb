{
 "cells": [
  {
   "cell_type": "markdown",
   "metadata": {},
   "source": [
    "docker下载地址 https://docs.docker.com/toolbox/toolbox_install_windows/"
   ]
  },
  {
   "cell_type": "markdown",
   "metadata": {},
   "source": [
    "代码池\n",
    "https://hub.fastgit.org/Rockyzsu/CodePool\n",
    "\n",
    "很多爬虫项目\n",
    "https://hub.fastgit.org/Rockyzsu/CrawlMan\n",
    "\n",
    "模拟知乎登录，获取自己关注的问题答案\n",
    "https://hub.fastgit.org/Rockyzsu/zhihuToKindle\n",
    "\n",
    "爬虫中遇到的验证码解决方案\n",
    "https://hub.fastgit.org/Rockyzsu/image_recognise\n",
    "\n",
    "抓取拉钩网的职位\n",
    "https://hub.fastgit.org/Rockyzsu/lagou\n",
    "\n",
    "抓取雪球上的文章并生成电子书\n",
    "https://hub.fastgit.org/Rockyzsu/xueqiu\n",
    "\n",
    "精通python爬虫框架scrapy源码\n",
    "https://hub.fastgit.org/Rockyzsu/learning_scrapy\n",
    "\n",
    "金融街金融数据爬虫\n",
    "https://hub.fastgit.org/Rockyzsu/jrjmarket\n",
    "\n",
    "ython3网络爬虫实战：VIP视频破解助手；GEETEST验证码破解；小说、动漫下载；手机APP爬取；财务报表入库；火车票抢票；抖音APP视频下载；百万英雄辅助；网易云音乐下载；B站视频和弹幕下载；京东晒单图下载\n",
    "https://hub.fastgit.org/Rockyzsu/python-spider\n",
    "\n",
    "\n",
    "滑动验证码破解示例，替代学习使用。\n",
    "https://hub.fastgit.org/Rockyzsu/crack-geetest\n",
    "\n",
    "pyalgotrade为中国股市量身定制\n",
    "https://hub.fastgit.org/Rockyzsu/pyalgotrade-cn\n",
    "\n",
    "越来越多的网站具有反爬虫特性，有的用图片隐藏关键数据，有的使用反人类的验证码，建立反反爬虫的代码仓库，通过与不同特性的网站做斗争（无恶意）提高技术。（欢迎提交难以采集的网站）（因工作原因去TX写验证码了，项目暂停）\n",
    "https://hub.fastgit.org/Rockyzsu/Anti-Anti-Spider\n",
    "\n",
    "自动抓取深圳新房和二手房的成交量\n",
    "https://hub.fastgit.org/Rockyzsu/house\n",
    "\n",
    "\n",
    "\n",
    "\n",
    "\n",
    "\n",
    "\n",
    "\n",
    "\n",
    "\n",
    "\n"
   ]
  },
  {
   "cell_type": "markdown",
   "metadata": {},
   "source": []
  },
  {
   "cell_type": "markdown",
   "metadata": {},
   "source": []
  },
  {
   "cell_type": "markdown",
   "metadata": {},
   "source": []
  },
  {
   "cell_type": "markdown",
   "metadata": {},
   "source": []
  },
  {
   "cell_type": "markdown",
   "metadata": {},
   "source": []
  },
  {
   "cell_type": "markdown",
   "metadata": {},
   "source": []
  },
  {
   "cell_type": "markdown",
   "metadata": {},
   "source": []
  },
  {
   "cell_type": "markdown",
   "metadata": {},
   "source": []
  },
  {
   "cell_type": "markdown",
   "metadata": {},
   "source": []
  },
  {
   "cell_type": "markdown",
   "metadata": {},
   "source": []
  }
 ],
 "metadata": {
  "kernelspec": {
   "display_name": "Python 3",
   "language": "python",
   "name": "python3"
  },
  "language_info": {
   "codemirror_mode": {
    "name": "ipython",
    "version": 3
   },
   "file_extension": ".py",
   "mimetype": "text/x-python",
   "name": "python",
   "nbconvert_exporter": "python",
   "pygments_lexer": "ipython3",
   "version": "3.8.1"
  },
  "toc": {
   "base_numbering": 1,
   "nav_menu": {},
   "number_sections": true,
   "sideBar": true,
   "skip_h1_title": false,
   "title_cell": "Table of Contents",
   "title_sidebar": "Contents",
   "toc_cell": false,
   "toc_position": {},
   "toc_section_display": true,
   "toc_window_display": false
  },
  "varInspector": {
   "cols": {
    "lenName": 16,
    "lenType": 16,
    "lenVar": 40
   },
   "kernels_config": {
    "python": {
     "delete_cmd_postfix": "",
     "delete_cmd_prefix": "del ",
     "library": "var_list.py",
     "varRefreshCmd": "print(var_dic_list())"
    },
    "r": {
     "delete_cmd_postfix": ") ",
     "delete_cmd_prefix": "rm(",
     "library": "var_list.r",
     "varRefreshCmd": "cat(var_dic_list()) "
    }
   },
   "types_to_exclude": [
    "module",
    "function",
    "builtin_function_or_method",
    "instance",
    "_Feature"
   ],
   "window_display": false
  }
 },
 "nbformat": 4,
 "nbformat_minor": 4
}
