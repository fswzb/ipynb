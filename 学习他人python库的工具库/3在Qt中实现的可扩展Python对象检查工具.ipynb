{
 "cells": [
  {
   "cell_type": "markdown",
   "metadata": {},
   "source": []
  },
  {
   "cell_type": "markdown",
   "metadata": {},
   "source": [
    "在Qt中实现的可扩展Python对象检查工具\n",
    "用于Python对象自省的GUI\n",
    "在Qt中实现的可扩展Python对象检查工具。\n",
    "将对象显示为树，并允许您递归检查其属性（例如，浏览字典列表）。您可以将自己的检查方法添加为树视图中的新列，或添加为详细信息窗格中的单选按钮。也可以改变现有的检查方法。\n",
    "https://github.com/titusjan/objbrowser\n",
    "https://pypi.org/project/objbrowser/"
   ]
  },
  {
   "cell_type": "markdown",
   "metadata": {},
   "source": [
    "pip install six\n",
    "pip install pyside\n",
    "\n",
    "pip install SIP\n",
    "pip install PyQt5\n",
    "\n",
    "pip install objbrowser"
   ]
  },
  {
   "cell_type": "markdown",
   "metadata": {},
   "source": [
    "在命令行模式下执行才有效的调出gui\n",
    "第一个参数是要检查的对象。 例如，您可以使用局部变量检查字典：\n",
    "\n"
   ]
  },
  {
   "cell_type": "code",
   "execution_count": 13,
   "metadata": {
    "ExecuteTime": {
     "end_time": "2020-07-09T16:10:14.301575Z",
     "start_time": "2020-07-09T16:10:14.280577Z"
    }
   },
   "outputs": [
    {
     "ename": "ImportError",
     "evalue": "cannot import name 'browse' from 'objbrowser' (e:\\miniconda\\lib\\site-packages\\objbrowser\\__init__.py)",
     "output_type": "error",
     "traceback": [
      "\u001b[1;31m---------------------------------------------------------------------------\u001b[0m",
      "\u001b[1;31mImportError\u001b[0m                               Traceback (most recent call last)",
      "\u001b[1;32m<ipython-input-13-301c3d295503>\u001b[0m in \u001b[0;36m<module>\u001b[1;34m\u001b[0m\n\u001b[1;32m----> 1\u001b[1;33m \u001b[1;32mfrom\u001b[0m \u001b[0mobjbrowser\u001b[0m \u001b[1;32mimport\u001b[0m \u001b[0mbrowse\u001b[0m\u001b[1;33m\u001b[0m\u001b[1;33m\u001b[0m\u001b[0m\n\u001b[0m\u001b[0;32m      2\u001b[0m \u001b[0ma\u001b[0m \u001b[1;33m=\u001b[0m \u001b[1;36m67\u001b[0m\u001b[1;33m;\u001b[0m \u001b[0mpi\u001b[0m \u001b[1;33m=\u001b[0m \u001b[1;36m3.1415\u001b[0m\u001b[1;33m\u001b[0m\u001b[1;33m\u001b[0m\u001b[0m\n\u001b[0;32m      3\u001b[0m \u001b[0mbrowse\u001b[0m\u001b[1;33m(\u001b[0m\u001b[0mlocals\u001b[0m\u001b[1;33m(\u001b[0m\u001b[1;33m)\u001b[0m\u001b[1;33m)\u001b[0m\u001b[1;33m\u001b[0m\u001b[1;33m\u001b[0m\u001b[0m\n",
      "\u001b[1;31mImportError\u001b[0m: cannot import name 'browse' from 'objbrowser' (e:\\miniconda\\lib\\site-packages\\objbrowser\\__init__.py)"
     ]
    }
   ],
   "source": [
    "from objbrowser import browse\n",
    "a = 67; pi = 3.1415 \n",
    "browse(locals())\n"
   ]
  },
  {
   "cell_type": "markdown",
   "metadata": {},
   "source": [
    "第二个参数可以是对象的名称。 在这种情况下，对象本身将显示在根节点中。\n",
    "\n",
    "browse(locals(), 'locals()')\n"
   ]
  },
  {
   "cell_type": "markdown",
   "metadata": {},
   "source": [
    "通过设置show_callable_attributes和/或show_special_attributes参数，您可以从“视图”菜单覆盖设置。 reset参数重置永久窗口设置（例如大小和位置）\n",
    "from objbrowser import browse\n",
    "\n",
    "s1 = 'Hello'\n",
    "s2 = 'World'\n",
    "\n",
    "browse({'s1': s1, 's2': s2}, \n",
    "        show_callable_attributes = True,\n",
    "        show_special_attributes = False, \n",
    "        reset = True)"
   ]
  },
  {
   "cell_type": "markdown",
   "metadata": {},
   "source": [
    ">> helping.info(objbrowser)\n",
    "objbrowser (<class 'module'>)\n",
    "  methods:\n",
    "    browse()\n",
    "    handleException()\n",
    "    logging_basic_config()\n",
    "    patch_qheaderview_if_needed()\n",
    "\n",
    "  classes:\n",
    "    ObjectBrowser\n",
    "\n",
    "  attributes:\n",
    "    app\n",
    "    attribute_model\n",
    "    DEBUGGING\n",
    "    logger\n",
    "    logging\n",
    "    objectbrowser\n",
    "    patches\n",
    "    qtpy\n",
    "    six\n",
    "    sys\n",
    "    toggle_column_mixin\n",
    "    treeitem\n",
    "    treemodel\n",
    "    utils\n",
    "     version"
   ]
  },
  {
   "cell_type": "markdown",
   "metadata": {},
   "source": [
    "打开并执行窗口\n",
    "\n",
    "help(objbrowser.browse)\n",
    "\n",
    "browse(*args, **kwargs)\n",
    "    Opens and executes an ObjectBrowser window\n",
    "    "
   ]
  },
  {
   "cell_type": "markdown",
   "metadata": {},
   "source": [
    ">>> help(objbrowser.handleException)\n",
    "Help on function handleException in module objbrowser.app:\n",
    "\n",
    "handleException(exc_type, exc_value, exc_traceback)\n",
    "    Causes the application to quit in case of an unhandled exception (as God intended)\n",
    "    Shows an error dialog before quitting when not in debugging mode.\n",
    "\n",
    "handleException（异常类型、异常值、异常回溯）\n",
    "\n",
    "导致应用程序在出现未处理的异常时退出（如上帝所愿）\n",
    "\n",
    "在不处于调试模式时，在退出之前显示错误对话框。    \n",
    "    "
   ]
  },
  {
   "cell_type": "markdown",
   "metadata": {},
   "source": [
    ">>> help(objbrowser.logging_basic_config)\n",
    "Help on function logging_basic_config in module objbrowser.utils:\n",
    "\n",
    "logging_basic_config(level='INFO')\n",
    "    Setup basic config logging. Useful for debugging to quickly setup a useful logger\n",
    "    \n",
    "有关在模块中记录“基本配置”的函数的帮助objbrowser.utils:\n",
    "日志记录\\基本配置（level='INFO'）\n",
    "\n",
    "设置基本配置日志记录。用于调试以快速设置有用的记录器"
   ]
  },
  {
   "cell_type": "markdown",
   "metadata": {},
   "source": [
    ">>> help(objbrowser. patch_qheaderview_if_needed)\n",
    "Help on function patch_qheaderview_if_needed in module objbrowser.patches:\n",
    "\n",
    "patch_qheaderview_if_needed()\n",
    "    Checks that we are in PyQt4 or PySide and that QHeaderView hasn't been patched already.\n",
    "\n",
    "    If so it will add the new Qt5 methods to the QHeaderView class.\n",
    "    \n",
    "如果在模块中需要函数补丁_qheaderview_，请提供帮助objbrowser.patches:\n",
    "如果需要的话，修补程序\n",
    "检查我们是否在PyQt4或PySide中，并且QHeaderView尚未修补。\n",
    "如果是这样，它将向QHeaderView类添加新的Qt5方法。"
   ]
  },
  {
   "cell_type": "markdown",
   "metadata": {},
   "source": []
  },
  {
   "cell_type": "markdown",
   "metadata": {},
   "source": []
  },
  {
   "cell_type": "markdown",
   "metadata": {},
   "source": []
  },
  {
   "cell_type": "markdown",
   "metadata": {},
   "source": []
  },
  {
   "cell_type": "markdown",
   "metadata": {},
   "source": []
  },
  {
   "cell_type": "markdown",
   "metadata": {},
   "source": []
  },
  {
   "cell_type": "markdown",
   "metadata": {},
   "source": []
  },
  {
   "cell_type": "markdown",
   "metadata": {},
   "source": []
  },
  {
   "cell_type": "markdown",
   "metadata": {},
   "source": []
  },
  {
   "cell_type": "markdown",
   "metadata": {},
   "source": []
  },
  {
   "cell_type": "markdown",
   "metadata": {},
   "source": []
  },
  {
   "cell_type": "markdown",
   "metadata": {},
   "source": []
  },
  {
   "cell_type": "markdown",
   "metadata": {},
   "source": []
  },
  {
   "cell_type": "markdown",
   "metadata": {},
   "source": []
  },
  {
   "cell_type": "markdown",
   "metadata": {},
   "source": []
  },
  {
   "cell_type": "markdown",
   "metadata": {},
   "source": []
  },
  {
   "cell_type": "markdown",
   "metadata": {},
   "source": []
  },
  {
   "cell_type": "markdown",
   "metadata": {},
   "source": []
  },
  {
   "cell_type": "markdown",
   "metadata": {},
   "source": []
  },
  {
   "cell_type": "markdown",
   "metadata": {},
   "source": []
  },
  {
   "cell_type": "markdown",
   "metadata": {},
   "source": []
  },
  {
   "cell_type": "markdown",
   "metadata": {},
   "source": []
  },
  {
   "cell_type": "markdown",
   "metadata": {},
   "source": []
  },
  {
   "cell_type": "markdown",
   "metadata": {},
   "source": []
  },
  {
   "cell_type": "markdown",
   "metadata": {},
   "source": []
  },
  {
   "cell_type": "markdown",
   "metadata": {},
   "source": []
  },
  {
   "cell_type": "markdown",
   "metadata": {},
   "source": []
  },
  {
   "cell_type": "markdown",
   "metadata": {},
   "source": []
  },
  {
   "cell_type": "markdown",
   "metadata": {},
   "source": []
  },
  {
   "cell_type": "markdown",
   "metadata": {},
   "source": []
  },
  {
   "cell_type": "markdown",
   "metadata": {},
   "source": []
  },
  {
   "cell_type": "markdown",
   "metadata": {},
   "source": []
  },
  {
   "cell_type": "markdown",
   "metadata": {},
   "source": []
  }
 ],
 "metadata": {
  "kernelspec": {
   "display_name": "Python 3",
   "language": "python",
   "name": "python3"
  },
  "language_info": {
   "codemirror_mode": {
    "name": "ipython",
    "version": 3
   },
   "file_extension": ".py",
   "mimetype": "text/x-python",
   "name": "python",
   "nbconvert_exporter": "python",
   "pygments_lexer": "ipython3",
   "version": "3.8.1"
  },
  "toc": {
   "base_numbering": 1,
   "nav_menu": {},
   "number_sections": true,
   "sideBar": true,
   "skip_h1_title": false,
   "title_cell": "Table of Contents",
   "title_sidebar": "Contents",
   "toc_cell": false,
   "toc_position": {},
   "toc_section_display": true,
   "toc_window_display": false
  },
  "varInspector": {
   "cols": {
    "lenName": 16,
    "lenType": 16,
    "lenVar": 40
   },
   "kernels_config": {
    "python": {
     "delete_cmd_postfix": "",
     "delete_cmd_prefix": "del ",
     "library": "var_list.py",
     "varRefreshCmd": "print(var_dic_list())"
    },
    "r": {
     "delete_cmd_postfix": ") ",
     "delete_cmd_prefix": "rm(",
     "library": "var_list.r",
     "varRefreshCmd": "cat(var_dic_list()) "
    }
   },
   "types_to_exclude": [
    "module",
    "function",
    "builtin_function_or_method",
    "instance",
    "_Feature"
   ],
   "window_display": false
  }
 },
 "nbformat": 4,
 "nbformat_minor": 4
}
