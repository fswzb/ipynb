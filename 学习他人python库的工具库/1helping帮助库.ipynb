{
 "cells": [
  {
   "cell_type": "markdown",
   "metadata": {},
   "source": [
    "helping帮助库，重要"
   ]
  },
  {
   "cell_type": "markdown",
   "metadata": {},
   "source": [
    "使用方法\n",
    "\n",
    "安装\n",
    "pip install helping\n",
    "导入\n",
    "import helping\n",
    "helping.info()  列举出python自带的\n",
    "方法methods，\n",
    "属性attributes\n",
    "类classes\n",
    "异常exceptions\n",
    "\n",
    "示私有项\n",
    "helping.info(private=True)\n",
    "\n",
    "以表格输出\n",
    "helping.info(compact=True) \n",
    "\n",
    "显示脚本中定义的所有函数以及所有内置的Python函数。\n",
    "helping.functions()\n",
    "\n",
    "仅显示指定对象的方法。\n",
    "helping.methods()\n",
    "\n",
    "仅显示指定对象的属性。\n",
    "helping.attributes()\n",
    "\n",
    "仅显示属于指定对象的类。\n",
    "helping.classes()\n",
    "\n",
    "仅显示属于指定对象的异常。\n",
    "helping.exceptions()"
   ]
  },
  {
   "cell_type": "markdown",
   "metadata": {},
   "source": [
    "内置函数方法类\n",
    " methods:\n",
    "    abs()\n",
    "    all()\n",
    "    any()\n",
    "    ascii()\n",
    "    bin()\n",
    "    breakpoint()\n",
    "    callable()\n",
    "    chr()\n",
    "    compile()\n",
    "    copyright()\n",
    "    credits()\n",
    "    delattr()\n",
    "    dir()\n",
    "    divmod()\n",
    "    eval()\n",
    "    exec()\n",
    "    exit()\n",
    "    format()\n",
    "    getattr()\n",
    "    globals()\n",
    "    hasattr()\n",
    "    hash()\n",
    "    help()\n",
    "    hex()\n",
    "    id()\n",
    "    input()\n",
    "    isinstance()\n",
    "    issubclass()\n",
    "    iter()\n",
    "    len()\n",
    "    license()\n",
    "    locals()\n",
    "    max()\n",
    "    min()\n",
    "    next()\n",
    "    oct()\n",
    "    open()\n",
    "    ord()\n",
    "    pow()\n",
    "    print()\n",
    "    quit()\n",
    "    repr()\n",
    "    round()\n",
    "    setattr()\n",
    "    sorted()\n",
    "    sum()\n",
    "    vars()\n",
    "\n",
    "  classes:\n",
    "    BaseException\n",
    "    bool\n",
    "    bytearray\n",
    "    bytes\n",
    "    classmethod\n",
    "    complex\n",
    "    dict\n",
    "    enumerate\n",
    "    filter\n",
    "    float\n",
    "    frozenset\n",
    "    GeneratorExit\n",
    "    int\n",
    "    KeyboardInterrupt\n",
    "    list\n",
    "    map\n",
    "    memoryview\n",
    "    object\n",
    "    property\n",
    "    range\n",
    "    reversed\n",
    "    set\n",
    "    slice\n",
    "    staticmethod\n",
    "    str\n",
    "    super\n",
    "    SystemExit\n",
    "    tuple\n",
    "    type\n",
    "    UnicodeDecodeError\n",
    "    UnicodeEncodeError\n",
    "    UnicodeTranslateError\n",
    "    zip\n",
    "\n",
    "  attributes:\n",
    "    Ellipsis\n",
    "    NotImplemented\n",
    "\n",
    "  exceptions:\n",
    "    ArithmeticError\n",
    "    AssertionError\n",
    "    AttributeError\n",
    "    BlockingIOError\n",
    "    BrokenPipeError\n",
    "    BufferError\n",
    "    BytesWarning\n",
    "    ChildProcessError\n",
    "    ConnectionAbortedError\n",
    "    ConnectionError\n",
    "    ConnectionRefusedError\n",
    "    ConnectionResetError\n",
    "    DeprecationWarning\n",
    "    EnvironmentError\n",
    "    EOFError\n",
    "    Exception\n",
    "    FileExistsError\n",
    "    FileNotFoundError\n",
    "    FloatingPointError\n",
    "    FutureWarning\n",
    "    ImportError\n",
    "    ImportWarning\n",
    "    IndentationError\n",
    "    IndexError\n",
    "    InterruptedError\n",
    "    IOError\n",
    "    IsADirectoryError\n",
    "    KeyError\n",
    "    LookupError\n",
    "    MemoryError\n",
    "    ModuleNotFoundError\n",
    "    NameError\n",
    "    NotADirectoryError\n",
    "    NotImplementedError\n",
    "    OSError\n",
    "    OverflowError\n",
    "    PendingDeprecationWarning\n",
    "    PermissionError\n",
    "    ProcessLookupError\n",
    "    RecursionError\n",
    "    ReferenceError\n",
    "    ResourceWarning\n",
    "    RuntimeError\n",
    "    RuntimeWarning\n",
    "    StopAsyncIteration\n",
    "    StopIteration\n",
    "    SyntaxError\n",
    "    SyntaxWarning\n",
    "    SystemError\n",
    "    TabError\n",
    "    TimeoutError\n",
    "    TypeError\n",
    "    UnboundLocalError\n",
    "    UnicodeError\n",
    "    UnicodeWarning\n",
    "    UserWarning\n",
    "    ValueError\n",
    "    Warning\n",
    "    WindowsError\n",
    "    ZeroDivisionError\n"
   ]
  },
  {
   "cell_type": "markdown",
   "metadata": {},
   "source": []
  },
  {
   "cell_type": "markdown",
   "metadata": {},
   "source": []
  },
  {
   "cell_type": "markdown",
   "metadata": {},
   "source": []
  },
  {
   "cell_type": "markdown",
   "metadata": {},
   "source": []
  },
  {
   "cell_type": "markdown",
   "metadata": {},
   "source": []
  },
  {
   "cell_type": "markdown",
   "metadata": {},
   "source": []
  },
  {
   "cell_type": "markdown",
   "metadata": {},
   "source": []
  },
  {
   "cell_type": "markdown",
   "metadata": {},
   "source": []
  },
  {
   "cell_type": "markdown",
   "metadata": {},
   "source": []
  },
  {
   "cell_type": "markdown",
   "metadata": {},
   "source": []
  },
  {
   "cell_type": "markdown",
   "metadata": {},
   "source": []
  },
  {
   "cell_type": "markdown",
   "metadata": {},
   "source": []
  },
  {
   "cell_type": "markdown",
   "metadata": {},
   "source": []
  },
  {
   "cell_type": "markdown",
   "metadata": {},
   "source": []
  },
  {
   "cell_type": "markdown",
   "metadata": {},
   "source": []
  },
  {
   "cell_type": "markdown",
   "metadata": {},
   "source": []
  },
  {
   "cell_type": "markdown",
   "metadata": {},
   "source": []
  },
  {
   "cell_type": "markdown",
   "metadata": {},
   "source": []
  },
  {
   "cell_type": "markdown",
   "metadata": {},
   "source": []
  },
  {
   "cell_type": "markdown",
   "metadata": {},
   "source": []
  },
  {
   "cell_type": "markdown",
   "metadata": {},
   "source": []
  },
  {
   "cell_type": "markdown",
   "metadata": {},
   "source": []
  },
  {
   "cell_type": "markdown",
   "metadata": {},
   "source": []
  },
  {
   "cell_type": "markdown",
   "metadata": {},
   "source": []
  },
  {
   "cell_type": "markdown",
   "metadata": {},
   "source": []
  },
  {
   "cell_type": "markdown",
   "metadata": {},
   "source": []
  },
  {
   "cell_type": "markdown",
   "metadata": {},
   "source": []
  },
  {
   "cell_type": "markdown",
   "metadata": {},
   "source": []
  },
  {
   "cell_type": "markdown",
   "metadata": {},
   "source": []
  },
  {
   "cell_type": "markdown",
   "metadata": {},
   "source": []
  },
  {
   "cell_type": "markdown",
   "metadata": {},
   "source": []
  },
  {
   "cell_type": "markdown",
   "metadata": {},
   "source": []
  },
  {
   "cell_type": "markdown",
   "metadata": {},
   "source": []
  },
  {
   "cell_type": "markdown",
   "metadata": {},
   "source": []
  },
  {
   "cell_type": "markdown",
   "metadata": {},
   "source": []
  },
  {
   "cell_type": "markdown",
   "metadata": {},
   "source": []
  },
  {
   "cell_type": "markdown",
   "metadata": {},
   "source": []
  },
  {
   "cell_type": "markdown",
   "metadata": {},
   "source": []
  },
  {
   "cell_type": "markdown",
   "metadata": {},
   "source": []
  },
  {
   "cell_type": "markdown",
   "metadata": {},
   "source": []
  },
  {
   "cell_type": "markdown",
   "metadata": {},
   "source": []
  }
 ],
 "metadata": {
  "kernelspec": {
   "display_name": "Python 3",
   "language": "python",
   "name": "python3"
  },
  "language_info": {
   "codemirror_mode": {
    "name": "ipython",
    "version": 3
   },
   "file_extension": ".py",
   "mimetype": "text/x-python",
   "name": "python",
   "nbconvert_exporter": "python",
   "pygments_lexer": "ipython3",
   "version": "3.8.1"
  },
  "toc": {
   "base_numbering": 1,
   "nav_menu": {},
   "number_sections": true,
   "sideBar": true,
   "skip_h1_title": false,
   "title_cell": "Table of Contents",
   "title_sidebar": "Contents",
   "toc_cell": false,
   "toc_position": {},
   "toc_section_display": true,
   "toc_window_display": false
  },
  "varInspector": {
   "cols": {
    "lenName": 16,
    "lenType": 16,
    "lenVar": 40
   },
   "kernels_config": {
    "python": {
     "delete_cmd_postfix": "",
     "delete_cmd_prefix": "del ",
     "library": "var_list.py",
     "varRefreshCmd": "print(var_dic_list())"
    },
    "r": {
     "delete_cmd_postfix": ") ",
     "delete_cmd_prefix": "rm(",
     "library": "var_list.r",
     "varRefreshCmd": "cat(var_dic_list()) "
    }
   },
   "types_to_exclude": [
    "module",
    "function",
    "builtin_function_or_method",
    "instance",
    "_Feature"
   ],
   "window_display": false
  }
 },
 "nbformat": 4,
 "nbformat_minor": 4
}
