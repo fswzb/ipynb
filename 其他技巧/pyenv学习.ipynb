{
 "cells": [
  {
   "cell_type": "code",
   "execution_count": null,
   "metadata": {},
   "outputs": [],
   "source": []
  },
  {
   "cell_type": "markdown",
   "metadata": {},
   "source": [
    "安装pyenv\n",
    "下载pyenv-installer.sh脚本\n",
    "\n",
    "curl https://pyenv.run | bash\n",
    "\n",
    "或\n",
    "\n",
    "curl -L https://github.com/pyenv/pyenv-installer/raw/master/bin/pyenv-installer | bash\n",
    "\n",
    "加入环境变量，将以下内容添加到〜/ .bash_profile中\n",
    "\n",
    "export PATH = “〜/ .pyenv / bin：$ PATH ”\n",
    " eval  “ $（ pyenv init- ） ”\n",
    " eval  “ $（ pyenv virtualenv-init- ） ”\n",
    "生成环境变量：\n",
    "\n",
    "source ~/.bash_profile\n",
    "\n",
    "升级pyenv\n",
    "pyenv update\n",
    "\n",
    "卸载pyenv\n",
    "rm -rf ~/.pyenv\n",
    "\n",
    "使用pyenv安装python\n",
    "安装系统依赖包\n",
    "\n",
    "CentOS的： yum -y install zlib* libffi-devel gcc make patch gdbm-devel openssl-devel sqlite-devel readline-devel zlib-devel bzip2-devel\n",
    "\n",
    "Ubuntu： sudo apt-get install build-essential libssl-dev libevent-dev libjpeg-dev libxml2-dev libxslt-dev libsqlite3-dev libbz2-dev libreadline-dev\n",
    "\n",
    "安装python物理版本\n",
    "\n",
    "pyenv install 3.6.6\n",
    "\n",
    "pyenv常用命令\n",
    "查看pyenv支持的python版本\n",
    "\n",
    "pyenv install -l\n",
    "\n",
    "查看pyenv安装过的python版本，包括虚拟环境\n",
    "\n",
    "pyenv versions\n",
    "\n",
    "创建虚拟环境\n",
    "\n",
    "pyenv virtualenv 3.6.6 m3.6\n",
    "\n",
    "切换python环境\n",
    "\n",
    "pyenv local m3.6\n",
    "pyenv shell m3.6\n",
    "pyenv global m3.6"
   ]
  }
 ],
 "metadata": {
  "kernelspec": {
   "display_name": "Python 3",
   "language": "python",
   "name": "python3"
  },
  "language_info": {
   "codemirror_mode": {
    "name": "ipython",
    "version": 3
   },
   "file_extension": ".py",
   "mimetype": "text/x-python",
   "name": "python",
   "nbconvert_exporter": "python",
   "pygments_lexer": "ipython3",
   "version": "3.8.1"
  },
  "toc": {
   "base_numbering": 1,
   "nav_menu": {},
   "number_sections": true,
   "sideBar": true,
   "skip_h1_title": false,
   "title_cell": "Table of Contents",
   "title_sidebar": "Contents",
   "toc_cell": false,
   "toc_position": {},
   "toc_section_display": true,
   "toc_window_display": false
  },
  "varInspector": {
   "cols": {
    "lenName": 16,
    "lenType": 16,
    "lenVar": 40
   },
   "kernels_config": {
    "python": {
     "delete_cmd_postfix": "",
     "delete_cmd_prefix": "del ",
     "library": "var_list.py",
     "varRefreshCmd": "print(var_dic_list())"
    },
    "r": {
     "delete_cmd_postfix": ") ",
     "delete_cmd_prefix": "rm(",
     "library": "var_list.r",
     "varRefreshCmd": "cat(var_dic_list()) "
    }
   },
   "types_to_exclude": [
    "module",
    "function",
    "builtin_function_or_method",
    "instance",
    "_Feature"
   ],
   "window_display": false
  }
 },
 "nbformat": 4,
 "nbformat_minor": 4
}
