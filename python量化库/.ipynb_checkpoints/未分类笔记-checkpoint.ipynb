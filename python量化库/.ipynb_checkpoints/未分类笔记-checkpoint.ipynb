{
 "cells": [
  {
   "cell_type": "markdown",
   "metadata": {},
   "source": [
    "国人写的量化项目\n",
    "https://github.com/goodchinas/pyxq"
   ]
  },
  {
   "cell_type": "markdown",
   "metadata": {},
   "source": [
    "高阶学习书籍\n",
    "\n",
    "Python for Finance，2014,Yves Hilpisch中文版：Python金融大数据分析，人民邮电出版社\n",
    "\n",
    "Mastering Python for Finance，2015，James Ma Weiming\n",
    "\n",
    "Personal Finance with Python，2018，Max Humber\n",
    "\n",
    "Python for Finance，2017，Yuxing Yan\n",
    "\n",
    "Derivatives Analytics with Python，2015，Yves Hilpisch\n",
    "\n",
    "QuantEcon Lectures，2019，Thomas J. Sargent and John Stachurski\n",
    "\n",
    "量化投资以Python为工具，2017，蔡立耑\n",
    "\n",
    "零起点Python大数据与量化交易，2017，何海群\n",
    "\n",
    "量化交易之路用Python做股票量化分析，2017，阿布\n"
   ]
  },
  {
   "cell_type": "markdown",
   "metadata": {},
   "source": [
    "GitHub项目：\n",
    "\n",
    "https://github.com/goodchinas/pyquant\n",
    "\n",
    "  分享notebook格式小项目，从入门到numpy、pandas、matplotlib等各种库的讲解和练习，非常适合新手入门"
   ]
  },
  {
   "cell_type": "markdown",
   "metadata": {},
   "source": [
    "量化数据源\n",
    "\n",
    "金融量化数据源主要有三种：一是大数据网站，一般只有日线级数据；二是专业金融数据公司，如通联和万德，收费价格高但数据齐全且比较稳定；三是开源数据模块库，如Tushare，pandas-datareader，ccxt数字货币等，github上还有很多不一一列举。\n",
    "\n",
    "Python开源数据\n",
    "\n",
    "TuShare pro，中文财经数据接口包，有积分限制。\n",
    "\n",
    " https://tushare.pro/\n",
    "\n",
    "BaoStock，与tushare类似，主要提供国内股票行情数据、公司基本面和宏观数据：http://baostock.com/\n",
    "\n",
    "Quandl :https://www.quandl.com/\n",
    "\n",
    "     国际金融和经济数据。\n",
    "\n",
    "pandas_datareader：https://pandas-datareader.readthedocs.io/en/latest/\n",
    "\n",
    "    从pandas中独立出来的数据开源库，丰富的数据源，包括美股、A股、宏观数据等。\n",
    "\n",
    "yfinance：https://pypi.org/project/yfinance/\n",
    "\n",
    "     雅虎财经数据api的修复。\n",
    "\n",
    "ccxt：https://github.com/ccxt/ccxt\n",
    "\n",
    "python数字货币开源接口\n",
    "\n",
    "其他数据源\n",
    "\n",
    "通达信 （免费）\n",
    "\n",
    "聚宽：jqdatasdk（免费）\n",
    "\n",
    "新浪、雅虎、东方财富网（免费）\n",
    "\n",
    "Wind资讯-经济数据库（收费）\n",
    "\n",
    "东方财富Choice金融终端（收费）\n",
    "\n",
    "同花顺金融数据终端 （可免费导出）\n"
   ]
  },
  {
   "cell_type": "markdown",
   "metadata": {},
   "source": [
    "在线量化平台和开源框架\n",
    "\n",
    "平台之间大同小异，可以重点关注各大平台的策略大赛（练手）、社区（借鉴参考优秀项目）和学院（系统学习量化知识框架）板块。\n",
    "\n",
    "国内平台（排名不分先后）：\n",
    "\n",
    "BigQuant ：https://bigquant.com/\n",
    "\n",
    "人工智能量化平台，社区和学院提供了较丰富的资源。\n",
    "\n",
    "聚宽 ：https://www.joinquant.com/       \n",
    "\n",
    "免费量化数据、投研工具、量化学习体系\n",
    "\n",
    "优矿 ：https://uqer.io/       \n",
    "\n",
    "特色是深度报告、量化学堂和量化社区\n",
    "\n",
    "万矿 ：https://www.windquant.com/      \n",
    "\n",
    " 金融大数据、策略研究和数据可视化\n",
    "\n",
    "Ricequant ：https://www.ricequant.com/welcome/\n",
    "\n",
    "涵盖金融数据、投资组合管理与风险分析、量化投研交易模块\n",
    "\n",
    "掘金量化 ：https://www.myquant.cn/\n",
    "\n",
    "Factors ：http://factors.chinascope.com/\n",
    "\n",
    "专注于多因子分析，界面操作，黑盒子。\n",
    "\n",
    "国外量化平台：  \n",
    "\n",
    "    国外量化平台非常多，这里只推荐两个。\n",
    "\n",
    "Quantopian ：https://www.quantopian.com/posts\n",
    "\n",
    "比较知名的平台，旗下有量化三大件：pyFolio，zipline，alphalens\n",
    "\n",
    "Quantstart：https://www.quantstart.com/\n",
    "\n",
    "平台文章提供了构建自己量化交易系统的思路框架\n",
    "\n",
    "开源框架（实现本地化）：     \n",
    "\n",
    "     一般是直接在终端（cmd）上使用pip install xxx(库名）进行安装，有些可能需要下载安装包离线安装。\n",
    "\n",
    "Zipline - 回测框架\n",
    "\n",
    "vnpy - python开源开发框架\n",
    "\n",
    "easytrader - 自动程序化股票交易\n",
    "\n",
    "pyalgotrade - 基于事件驱动回测框架\n",
    "\n",
    "quantmod - 量化金融建模\n",
    "\n",
    "backtrader -量化回测框架\n"
   ]
  },
  {
   "cell_type": "markdown",
   "metadata": {},
   "source": [
    "策略来源\n",
    "\n",
    "量化投资专业网站、博客、论坛\n",
    "\n",
    "ARQ：https://www.aqr.com/\n",
    "\n",
    "Quantivity：https://quantivity.wordpress.com/page/2/ \n",
    "\n",
    "QuantLib:http://www.implementingquantlib.com/ \n",
    "\n",
    "NuclearPhynance: http://www.nuclearphynance.com/ \n",
    "\n",
    "QuantNet Community：\n",
    "\n",
    "https://quantnet.com/ \n",
    "\n",
    "Udacity ：\n",
    "\n",
    "https://www.udacity.com/course/machine-learning-for-trading--ud501\n",
    "\n",
    "Quant At Risk ：\n",
    "\n",
    "http://www.quantatrisk.com/ \n",
    "\n",
    "经管之家：\n",
    "\n",
    "https://bbs.pinggu.org/forum-2166-1.html\n",
    "\n",
    "知乎 -宽客：\n",
    "\n",
    "https://bbs.pinggu.org/forum-2166-1.html \n",
    "\n",
    "知乎 -量化：\n",
    "\n",
    "https://www.zhihu.com/topic/19815465/hot\n",
    "\n",
    "GitHub : https://github.com/\n",
    "\n",
    "FMZ发明者量化交易平台: https://www.fmz.com/bbs\n"
   ]
  },
  {
   "cell_type": "markdown",
   "metadata": {},
   "source": [
    "量化投资书籍\n",
    "\n",
    "     如果完全不懂金融投资理论，就谈量化投资，很容易流于形式，画出来漂亮的图表和策略，也就能忽悠一下外行而已。一直强调Python只是工具，不要舍本逐末，量化投资核心是策略和思路，而策略的来源需要一定的统计和投资学的积累与沉淀。\n",
    "\n",
    "曼昆的宏微观经济学、米什金的《货币金融学》、罗斯《公司理财》、博迪《投资学》、《金融工程》、索罗斯《金融炼金术》）\n",
    "\n",
    "《计量经济学导论：现代观点》\n",
    "\n",
    "     主要学习时间序列分析、多元统计线性回归，可结合Python的statsmodels、scipy、sklearn模块进行学习。\n",
    "\n",
    "多因子模型：基础好的话可以阅读砝码三因子的PAPER。\n",
    "\n",
    "    此外，Barra风险模型（多因子模型扩展）是现在非常主流的量化模型，有很多可以参考的资料，如《Barra Risk Model Handbook（US）》。\n",
    "\n",
    "投资相关书籍\n",
    "\n",
    "《打开量化投资的黑箱》 里什·纳兰\n",
    "\n",
    "《宽客》[美] 斯科特·帕特森\n",
    "\n",
    "《解读量化投资：西蒙斯用公式打败市场的故事》忻海\n",
    "\n",
    "《漫步华尔街》麦基尔\n",
    "\n",
    "《海龟交易法则》柯蒂斯·费思\n",
    "\n",
    "《交易策略评估与最佳化》罗伯特·帕多\n",
    "\n",
    "《统计套利》 安德鲁·波尔\n",
    "\n",
    "《信号与噪声》纳特•西尔弗\n",
    "\n",
    "《量化投资—策略与技术》丁鹏\n",
    "\n",
    "《量化投资策略:如何实现超额收益Alpha》吴冲锋\n",
    "\n",
    "《以交易为生》埃尔德\n",
    "\n",
    "《高级技术分析》布鲁斯·巴布科克\n",
    "\n",
    "《积极型投资组合管理》格里纳德，卡恩\n",
    "\n",
    "《金融计量学:从初级到高级建模技术》斯维特洛扎\n",
    "\n",
    "《量化交易如何建立自己的算法交易事业》欧内斯特·陈\n",
    "\n",
    "《聪明的投资者》 本杰明·格雷厄姆\n",
    "\n",
    "《期权、期货和其他衍生品》 约翰·赫尔\n",
    "\n",
    "注：金融投资书籍及金融史，可在公众号里分别回复“金融书籍”、“金融历史”获取\n"
   ]
  },
  {
   "cell_type": "markdown",
   "metadata": {},
   "source": [
    "回测框架的比较  Zipline 与 PyAlgoTrade 的对比评分\n",
    "\n",
    "\n",
    "https://blog.csdn.net/FrankieHello/article/details/79481573?ops_request_misc=%257B%2522request%255Fid%2522%253A%2522159421449119724811814607%2522%252C%2522scm%2522%253A%252220140713.130102334..%2522%257D&request_id=159421449119724811814607&biz_id=0&utm_medium=distribute.pc_search_result.none-task-blog-2~all~sobaiduend~default-3-79481573.pc_ecpm_v3_pc_rank_v3&utm_term=python+%E9%87%8F%E5%8C%96%E5%BA%93%E5%A4%A7%E5%85%A8"
   ]
  },
  {
   "cell_type": "markdown",
   "metadata": {},
   "source": [
    "目前比较流行的Python量化开源框架汇总(交易+风险分析工具)\n",
    "带github地址\n",
    "https://blog.csdn.net/weixin_30723433/article/details/95919366?ops_request_misc=&request_id=&biz_id=102&utm_term=python%20%E9%87%8F%E5%8C%96%E5%BA%93%E5%A4%A7%E5%85%A8&utm_medium=distribute.pc_search_result.none-task-blog-2~all~sobaiduweb~default-3-95919366"
   ]
  },
  {
   "cell_type": "markdown",
   "metadata": {},
   "source": [
    "【python量化】国内外基于python开发的量化回测框架\n",
    "重要的几个库\n",
    "————————————————\n",
    "版权声明：本文为CSDN博主「敲代码的quant」的原创文章，遵循CC 4.0 BY-SA版权协议，转载请附上原文出处链接及本声明。\n",
    "原文链接：https://blog.csdn.net/FrankieHello/article/details/102569988"
   ]
  },
  {
   "cell_type": "markdown",
   "metadata": {},
   "source": [
    "quant github的搜索\n",
    "https://hub.fastgit.org/search?l=Jupyter+Notebook&q=quant&type=Repositories\n"
   ]
  },
  {
   "cell_type": "markdown",
   "metadata": {},
   "source": [
    "stock tutorial 股票教程\n",
    "https://github.wuyanzheshui.workers.dev/search?p=2&q=stock+tutorial&type=Repositories\n",
    "\n"
   ]
  },
  {
   "cell_type": "markdown",
   "metadata": {},
   "source": []
  },
  {
   "cell_type": "markdown",
   "metadata": {},
   "source": []
  },
  {
   "cell_type": "markdown",
   "metadata": {},
   "source": []
  },
  {
   "cell_type": "markdown",
   "metadata": {},
   "source": []
  },
  {
   "cell_type": "markdown",
   "metadata": {},
   "source": []
  },
  {
   "cell_type": "markdown",
   "metadata": {},
   "source": []
  },
  {
   "cell_type": "markdown",
   "metadata": {},
   "source": []
  },
  {
   "cell_type": "markdown",
   "metadata": {},
   "source": []
  },
  {
   "cell_type": "markdown",
   "metadata": {},
   "source": []
  },
  {
   "cell_type": "markdown",
   "metadata": {},
   "source": []
  },
  {
   "cell_type": "markdown",
   "metadata": {},
   "source": []
  },
  {
   "cell_type": "markdown",
   "metadata": {},
   "source": []
  },
  {
   "cell_type": "markdown",
   "metadata": {},
   "source": []
  },
  {
   "cell_type": "markdown",
   "metadata": {},
   "source": []
  },
  {
   "cell_type": "markdown",
   "metadata": {},
   "source": []
  },
  {
   "cell_type": "markdown",
   "metadata": {},
   "source": []
  },
  {
   "cell_type": "markdown",
   "metadata": {},
   "source": []
  },
  {
   "cell_type": "markdown",
   "metadata": {},
   "source": []
  },
  {
   "cell_type": "markdown",
   "metadata": {},
   "source": []
  },
  {
   "cell_type": "markdown",
   "metadata": {},
   "source": []
  },
  {
   "cell_type": "markdown",
   "metadata": {},
   "source": []
  },
  {
   "cell_type": "markdown",
   "metadata": {},
   "source": []
  },
  {
   "cell_type": "markdown",
   "metadata": {},
   "source": []
  },
  {
   "cell_type": "markdown",
   "metadata": {},
   "source": []
  },
  {
   "cell_type": "markdown",
   "metadata": {},
   "source": []
  },
  {
   "cell_type": "markdown",
   "metadata": {},
   "source": []
  },
  {
   "cell_type": "markdown",
   "metadata": {},
   "source": []
  },
  {
   "cell_type": "markdown",
   "metadata": {},
   "source": []
  },
  {
   "cell_type": "markdown",
   "metadata": {},
   "source": []
  },
  {
   "cell_type": "markdown",
   "metadata": {},
   "source": []
  },
  {
   "cell_type": "markdown",
   "metadata": {},
   "source": []
  },
  {
   "cell_type": "markdown",
   "metadata": {},
   "source": []
  },
  {
   "cell_type": "markdown",
   "metadata": {},
   "source": []
  },
  {
   "cell_type": "markdown",
   "metadata": {},
   "source": []
  }
 ],
 "metadata": {
  "kernelspec": {
   "display_name": "Python 3",
   "language": "python",
   "name": "python3"
  },
  "language_info": {
   "codemirror_mode": {
    "name": "ipython",
    "version": 3
   },
   "file_extension": ".py",
   "mimetype": "text/x-python",
   "name": "python",
   "nbconvert_exporter": "python",
   "pygments_lexer": "ipython3",
   "version": "3.8.1"
  },
  "toc": {
   "base_numbering": 1,
   "nav_menu": {},
   "number_sections": true,
   "sideBar": true,
   "skip_h1_title": false,
   "title_cell": "Table of Contents",
   "title_sidebar": "Contents",
   "toc_cell": false,
   "toc_position": {},
   "toc_section_display": true,
   "toc_window_display": false
  },
  "varInspector": {
   "cols": {
    "lenName": 16,
    "lenType": 16,
    "lenVar": 40
   },
   "kernels_config": {
    "python": {
     "delete_cmd_postfix": "",
     "delete_cmd_prefix": "del ",
     "library": "var_list.py",
     "varRefreshCmd": "print(var_dic_list())"
    },
    "r": {
     "delete_cmd_postfix": ") ",
     "delete_cmd_prefix": "rm(",
     "library": "var_list.r",
     "varRefreshCmd": "cat(var_dic_list()) "
    }
   },
   "types_to_exclude": [
    "module",
    "function",
    "builtin_function_or_method",
    "instance",
    "_Feature"
   ],
   "window_display": false
  }
 },
 "nbformat": 4,
 "nbformat_minor": 4
}
